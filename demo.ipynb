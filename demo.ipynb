{
 "cells": [
  {
   "cell_type": "code",
   "execution_count": 3,
   "metadata": {},
   "outputs": [],
   "source": [
    "import numpy as np\n",
    "from scipy.special import expit\n",
    "from numpy import logaddexp\n",
    "from glopt import GLMProblem,SolverSettings\n",
    "from problems import build_random_logistic,build_logistic_lasso\n",
    "import matplotlib.pyplot as plt\n",
    "from scipy.sparse import csc_array,diags_array,csr_array,block_array\n",
    "from numpy.random import default_rng"
   ]
  },
  {
   "cell_type": "markdown",
   "metadata": {},
   "source": [
    "## Solve an inequality constrained logistic regression problem"
   ]
  },
  {
   "cell_type": "code",
   "execution_count": 4,
   "metadata": {},
   "outputs": [
    {
     "name": "stdout",
     "output_type": "stream",
     "text": [
      "──────────────────────────────────────────────────────────────────────────────────────────────────────────\n",
      "Variables:: 500     │ Rows in A: 10,000  │ Equality Constraints: 0       │ Inequality Constraints: 100    \n",
      "──────────────────────────────────────────────────────────────────────────────────────────────────────────\n",
      "──────────────────────────────────────────────────────────────────────────────────────────────────────────────────────\n",
      "│ iter │   primal   │ dual_res  │ cons_viol │ comp_res  │  KKT_res  │    mu    │   Δx    │  step   │ refine │  time  │\n",
      "──────────────────────────────────────────────────────────────────────────────────────────────────────────────────────\n",
      "│    1 │ 6.9315e+05 │  1.84e+03 │  6.41e+00 │  2.97e+02 │  1.84e+03 │  4.9e+02 │ 3.5e-01 │ 3.5e-02 │      1 │   0.14s │\n",
      "│    2 │ 6.9839e+05 │  1.65e+03 │  5.37e+00 │  1.55e+04 │  1.55e+04 │  3.5e+02 │ 5.2e-01 │ 1.6e-01 │      1 │   0.21s │\n",
      "│    3 │ 6.8761e+05 │  1.05e+03 │  3.05e+00 │  9.67e+03 │  9.67e+03 │  3.3e+02 │ 5.0e-01 │ 4.3e-01 │      1 │   0.28s │\n",
      "│    4 │ 6.5912e+05 │  4.34e+02 │  4.88e-15 │  2.57e+03 │  2.57e+03 │  3.3e+00 │ 8.3e-01 │ 1.0e+00 │      1 │   0.35s │\n",
      "│    5 │ 6.5854e+05 │  6.51e+01 │  3.55e-15 │  7.88e+02 │  7.88e+02 │  2.0e+00 │ 2.9e-01 │ 8.9e-01 │      1 │   0.42s │\n",
      "│    6 │ 6.4356e+05 │  2.11e+00 │  3.55e-15 │  1.86e+02 │  1.86e+02 │  2.0e-02 │ 1.2e-01 │ 1.0e+00 │      1 │   0.50s │\n",
      "│    7 │ 6.3915e+05 │  2.39e-01 │  4.44e-15 │  3.92e+01 │  3.92e+01 │  1.1e+00 │ 3.9e-02 │ 9.8e-01 │      1 │   0.58s │\n",
      "│    8 │ 6.3854e+05 │  1.83e-02 │  4.44e-15 │  5.29e+00 │  5.29e+00 │  1.1e-02 │ 1.2e-02 │ 1.0e+00 │      1 │   0.66s │\n",
      "│    9 │ 6.3852e+05 │  5.37e-03 │  3.55e-15 │  5.78e-01 │  5.78e-01 │  1.1e-04 │ 6.6e-03 │ 1.0e+00 │      1 │   0.73s │\n",
      "│   10 │ 6.3846e+05 │  7.72e-04 │  4.44e-15 │  1.30e-01 │  1.30e-01 │  3.1e-03 │ 2.6e-03 │ 1.0e+00 │      1 │   0.80s │\n",
      "│   11 │ 6.3846e+05 │  1.06e-04 │  4.00e-15 │  2.54e-02 │  2.54e-02 │  3.1e-05 │ 1.0e-03 │ 1.0e+00 │      1 │   0.87s │\n",
      "│   12 │ 6.3846e+05 │  8.94e-06 │  3.55e-15 │  2.16e-03 │  2.16e-03 │  3.1e-07 │ 3.0e-04 │ 1.0e+00 │      1 │   0.94s │\n",
      "│   13 │ 6.3846e+05 │  8.09e-08 │  5.33e-15 │  2.28e-05 │  2.28e-05 │  3.1e-09 │ 2.7e-05 │ 1.0e+00 │      1 │   1.01s │\n",
      "│   14 │ 6.3846e+05 │  7.28e-12 │  4.44e-15 │  5.69e-09 │  5.69e-09 │  3.1e-11 │ 2.6e-07 │ 1.0e+00 │      1 │   1.08s │\n",
      "Optimal solution found in 14 iterations in 1.08s. Final maxnorm KKT residual: 5.69e-09.\n"
     ]
    }
   ],
   "source": [
    "f,A,Q,C,c,b = build_random_logistic(m = 10000,n = 500,k = 100,density=0.1, seed = 2)\n",
    "problem = GLMProblem(f,A,Q,C,c,b)\n",
    "x,results = problem.solve()"
   ]
  },
  {
   "cell_type": "markdown",
   "metadata": {},
   "source": [
    "## Solve an unconstrained logistic regression problem"
   ]
  },
  {
   "cell_type": "code",
   "execution_count": 5,
   "metadata": {},
   "outputs": [
    {
     "name": "stdout",
     "output_type": "stream",
     "text": [
      "──────────────────────────────────────────────────────────────────────────────────────────────────────────\n",
      "Variables:: 500     │ Rows in A: 10,000  │ Equality Constraints: 0       │ Inequality Constraints: 0      \n",
      "──────────────────────────────────────────────────────────────────────────────────────────────────────────\n",
      "──────────────────────────────────────────────────────────────────────────────────────────────────────────────────────\n",
      "│ iter │   primal   │ dual_res  │ cons_viol │ comp_res  │  KKT_res  │    mu    │   Δx    │  step   │ refine │  time  │\n",
      "──────────────────────────────────────────────────────────────────────────────────────────────────────────────────────\n",
      "│    1 │ 6.9315e+05 │  3.00e+02 │  0.00e+00 │  1.00e+02 │  3.00e+02 │  1.0e+00 │ 8.3e-01 │ 1.0e+00 │      1 │   0.11s │\n",
      "│    2 │ 5.8614e+05 │  2.74e+01 │  0.00e+00 │  1.00e+00 │  2.74e+01 │  1.0e-02 │ 2.1e-01 │ 1.0e+00 │      1 │   0.18s │\n",
      "│    3 │ 5.8259e+05 │  2.81e-01 │  0.00e+00 │  1.00e-02 │  2.81e-01 │  1.0e-04 │ 2.3e-02 │ 1.0e+00 │      1 │   0.24s │\n",
      "│    4 │ 5.8256e+05 │  2.85e-05 │  0.00e+00 │  1.00e-04 │  1.00e-04 │  1.0e-06 │ 2.4e-04 │ 1.0e+00 │      0 │   0.31s │\n",
      "│    5 │ 5.8256e+05 │  4.08e-13 │  0.00e+00 │  1.00e-06 │  1.00e-06 │  1.0e-08 │ 2.4e-08 │ 1.0e+00 │      0 │   0.38s │\n",
      "│    6 │ 5.8256e+05 │  1.41e-13 │  0.00e+00 │  1.00e-08 │  1.00e-08 │  1.0e-10 │ 2.6e-16 │ 1.0e+00 │      0 │   0.45s │\n",
      "│    7 │ 5.8256e+05 │  8.40e-14 │  0.00e+00 │  1.00e-10 │  1.00e-10 │  1.0e-12 │ 8.9e-17 │ 1.0e+00 │      0 │   0.52s │\n",
      "Optimal solution found in 7 iterations in 0.52s. Final maxnorm KKT residual: 1.00e-10.\n"
     ]
    }
   ],
   "source": [
    "problem = GLMProblem(f,A,Q,C=None,c=None,b=b)\n",
    "x,results = problem.solve()"
   ]
  },
  {
   "cell_type": "code",
   "execution_count": 6,
   "metadata": {},
   "outputs": [
    {
     "data": {
      "text/plain": [
       "<DIAgonal sparse array of dtype 'float64'\n",
       "\twith 500 stored elements (1 diagonals) and shape (500, 500)>"
      ]
     },
     "execution_count": 6,
     "metadata": {},
     "output_type": "execute_result"
    }
   ],
   "source": [
    "Q"
   ]
  },
  {
   "cell_type": "code",
   "execution_count": 10,
   "metadata": {},
   "outputs": [
    {
     "name": "stdout",
     "output_type": "stream",
     "text": [
      "──────────────────────────────────────────────────────────────────────────────────────────────────────────\n",
      "Variables:: 3       │ Rows in A: 0       │ Equality Constraints: 0       │ Inequality Constraints: 0      \n",
      "──────────────────────────────────────────────────────────────────────────────────────────────────────────\n",
      "Failed line search after 0 iterations in 0.01s. Final maxnorm KKT residual: 1.00e+00.\n"
     ]
    },
    {
     "name": "stderr",
     "output_type": "stream",
     "text": [
      "/mnt/team/msca/priv/jira/MSCA-375-spxmod-optimizer/glopt/glopt.py:403: UserWarning: Linesearch Failed!\n",
      "  warn(\"Linesearch Failed!\")\n"
     ]
    }
   ],
   "source": [
    "problem = GLMProblem(Q = np.eye(3),C=None,c=None,b=None)\n",
    "x,results = problem.solve()"
   ]
  },
  {
   "cell_type": "markdown",
   "metadata": {},
   "source": [
    "## Solve a L1 regularized logistic regression"
   ]
  },
  {
   "cell_type": "code",
   "execution_count": 2,
   "metadata": {},
   "outputs": [
    {
     "name": "stdout",
     "output_type": "stream",
     "text": [
      "──────────────────────────────────────────────────────────────────────────────────────────────────────────\n",
      "Variables:: 4,000   │ Rows in A: 10,000  │ Equality Constraints: 0       │ Inequality Constraints: 4,000  \n",
      "──────────────────────────────────────────────────────────────────────────────────────────────────────────\n",
      "──────────────────────────────────────────────────────────────────────────────────────────────────────────────────────\n",
      "│ iter │   primal   │ dual_res  │ cons_viol │ comp_res  │  KKT_res  │    mu    │   Δx    │  step   │ refine │  time  │\n",
      "──────────────────────────────────────────────────────────────────────────────────────────────────────────────────────\n",
      "│    1 │ 6.9315e+06 │  2.57e+02 │  0.00e+00 │  6.28e+02 │  6.28e+02 │  3.2e-01 │ 2.5e+00 │ 1.0e+00 │      1 │   1.81s │\n",
      "│    2 │ 7.9894e+06 │  2.75e+00 │  4.44e-16 │  1.57e+02 │  1.57e+02 │  8.9e-02 │ 1.2e+00 │ 1.0e+00 │      1 │   3.36s │\n",
      "│    3 │ 7.3898e+06 │  6.16e-01 │  4.44e-16 │  3.77e+01 │  3.77e+01 │  1.4e-01 │ 1.1e+00 │ 8.6e-01 │      1 │   4.89s │\n",
      "│    4 │ 6.8697e+06 │  3.08e-01 │  2.22e-16 │  1.03e+01 │  1.03e+01 │  1.2e-01 │ 1.4e-01 │ 8.0e-01 │      1 │   6.46s │\n",
      "│    5 │ 6.8084e+06 │  1.85e-01 │  2.22e-16 │  3.29e+00 │  3.29e+00 │  3.3e-02 │ 3.7e-02 │ 8.8e-01 │      1 │   8.05s │\n",
      "│    6 │ 6.7951e+06 │  3.01e-02 │  2.22e-16 │  8.32e-01 │  8.32e-01 │  3.3e-04 │ 1.9e-02 │ 1.0e+00 │      1 │   9.61s │\n",
      "│    7 │ 6.7926e+06 │  1.95e-03 │  2.22e-16 │  2.16e-01 │  2.16e-01 │  1.6e-05 │ 9.1e-03 │ 9.7e-01 │      1 │  11.17s │\n",
      "│    8 │ 6.7924e+06 │  3.55e-04 │  2.22e-16 │  4.75e-02 │  4.75e-02 │  3.6e-05 │ 4.6e-03 │ 1.0e+00 │      1 │  12.76s │\n",
      "│    9 │ 6.7924e+06 │  5.92e-05 │  2.22e-16 │  7.34e-03 │  7.34e-03 │  3.6e-07 │ 1.8e-03 │ 1.0e+00 │      0 │  14.34s │\n",
      "│   10 │ 6.7924e+06 │  2.95e-06 │  2.22e-16 │  3.64e-04 │  3.64e-04 │  4.0e-07 │ 4.0e-04 │ 1.0e+00 │      0 │  15.91s │\n",
      "│   11 │ 6.7924e+06 │  9.15e-09 │  2.22e-16 │  1.50e-06 │  1.50e-06 │  4.0e-09 │ 2.2e-05 │ 1.0e+00 │      0 │  17.46s │\n",
      "│   12 │ 6.7924e+06 │  2.96e-12 │  2.22e-16 │  4.06e-09 │  4.06e-09 │  4.0e-11 │ 9.3e-08 │ 1.0e+00 │      0 │  19.01s │\n",
      "Optimal solution found in 12 iterations in 19.01s. Final maxnorm KKT residual: 4.06e-09.\n"
     ]
    }
   ],
   "source": [
    "n = 2000\n",
    "lam = 250.\n",
    "f,A,Q,C,c,b,x_true = build_logistic_lasso(m = 10000,n = n, seed = 2,lam = lam)\n",
    "problem = GLMProblem(f,A,Q,C,c,b = b)\n",
    "xt,results = problem.solve(verbose = True)\n",
    "\n",
    "x = xt[:n]"
   ]
  },
  {
   "cell_type": "code",
   "execution_count": 4,
   "metadata": {},
   "outputs": [
    {
     "data": {
      "text/plain": [
       "[<matplotlib.lines.Line2D at 0x7f9f984fc200>]"
      ]
     },
     "execution_count": 4,
     "metadata": {},
     "output_type": "execute_result"
    },
    {
     "data": {
      "image/png": "[encoded data removed]",
      "text/plain": [
       "<Figure size 640x480 with 1 Axes>"
      ]
     },
     "metadata": {},
     "output_type": "display_data"
    }
   ],
   "source": [
    "order = np.argsort(x_true)\n",
    "plt.plot(x_true[order])\n",
    "plt.plot(x[order])"
   ]
  },
  {
   "cell_type": "markdown",
   "metadata": {},
   "source": [
    "## Solve a problem with both equality and inequality constraints"
   ]
  },
  {
   "cell_type": "code",
   "execution_count": 5,
   "metadata": {},
   "outputs": [
    {
     "name": "stdout",
     "output_type": "stream",
     "text": [
      "──────────────────────────────────────────────────────────────────────────────────────────────────────────\n",
      "Variables:: 100     │ Rows in A: 50      │ Equality Constraints: 50      │ Inequality Constraints: 10     \n",
      "──────────────────────────────────────────────────────────────────────────────────────────────────────────\n",
      "──────────────────────────────────────────────────────────────────────────────────────────────────────────────────────\n",
      "│ iter │   primal   │ dual_res  │ cons_viol │ comp_res  │  KKT_res  │    mu    │   Δx    │  step   │ refine │  time  │\n",
      "──────────────────────────────────────────────────────────────────────────────────────────────────────────────────────\n",
      "│    1 │ 3.4657e+03 │  1.37e+01 │  9.06e-01 │  7.06e+00 │  1.37e+01 │  3.3e-01 │ 1.5e+00 │ 6.6e-01 │      1 │   0.02s │\n",
      "│    2 │ 3.3727e+03 │  1.04e+00 │  4.46e-13 │  1.88e+00 │  1.88e+00 │  3.4e-03 │ 7.9e-01 │ 1.0e+00 │      1 │   0.03s │\n",
      "│    3 │ 3.3521e+03 │  4.55e-01 │  2.42e-12 │  9.63e-01 │  9.63e-01 │  1.6e+00 │ 1.4e+00 │ 5.6e-01 │      1 │   0.04s │\n",
      "│    4 │ 3.3437e+03 │  1.10e-01 │  6.23e-12 │  3.69e+00 │  3.69e+00 │  1.6e-02 │ 3.4e+00 │ 1.0e+00 │      1 │   0.05s │\n",
      "│    5 │ 3.3472e+03 │  3.24e-02 │  4.51e-13 │  1.22e+00 │  1.22e+00 │  4.0e-02 │ 8.9e-01 │ 8.0e-01 │      1 │   0.06s │\n",
      "│    6 │ 3.3420e+03 │  6.09e-03 │  1.23e-12 │  2.28e-01 │  2.28e-01 │  4.0e-04 │ 7.7e-01 │ 1.0e+00 │      1 │   0.07s │\n",
      "│    7 │ 3.3399e+03 │  9.32e-04 │  4.76e-13 │  4.51e-02 │  4.51e-02 │  3.1e-04 │ 2.7e-01 │ 9.6e-01 │      1 │   0.08s │\n",
      "│    8 │ 3.3394e+03 │  1.04e-04 │  1.87e-13 │  1.10e-02 │  1.10e-02 │  3.1e-06 │ 1.2e-01 │ 1.0e+00 │      1 │   0.09s │\n",
      "│    9 │ 3.3394e+03 │  1.81e-05 │  7.53e-14 │  2.41e-03 │  2.41e-03 │  2.5e-07 │ 5.8e-02 │ 1.0e+00 │      1 │   0.09s │\n",
      "│   10 │ 3.3394e+03 │  2.63e-06 │  2.96e-14 │  3.60e-04 │  3.60e-04 │  3.3e-05 │ 2.2e-02 │ 1.0e+00 │      1 │   0.10s │\n",
      "│   11 │ 3.3394e+03 │  9.65e-08 │  1.73e-14 │  4.62e-05 │  4.62e-05 │  3.3e-07 │ 4.3e-03 │ 1.0e+00 │      1 │   0.11s │\n",
      "│   12 │ 3.3394e+03 │  2.65e-09 │  1.18e-14 │  6.47e-07 │  6.47e-07 │  3.3e-09 │ 6.6e-04 │ 1.0e+00 │      1 │   0.12s │\n",
      "│   13 │ 3.3394e+03 │  5.08e-13 │  1.29e-14 │  3.33e-09 │  3.33e-09 │  3.3e-11 │ 9.4e-06 │ 1.0e+00 │      1 │   0.13s │\n",
      "Optimal solution found in 13 iterations in 0.13s. Final maxnorm KKT residual: 3.33e-09.\n"
     ]
    }
   ],
   "source": [
    "m = 50\n",
    "n = 100\n",
    "k = 10\n",
    "\n",
    "f,A,Q,C,c,b = build_random_logistic(m = m,n = n,k = k,density=0.1, seed = 2)\n",
    "\n",
    "rng = default_rng(10)\n",
    "E = csr_array(rng.normal(size = (n//2,n)))\n",
    "e = np.zeros(E.shape[0])\n",
    "\n",
    "\n",
    "settings = SolverSettings(tau_reg = 1e-6)\n",
    "problem = GLMProblem(f,A,Q,C,c,b,E = E ,e = e,settings = settings)\n",
    "x,results = problem.solve(verbose = True,mu0 = 1.) \n"
   ]
  },
  {
   "cell_type": "markdown",
   "metadata": {},
   "source": [
    "## Solve an equality constrained problem with very colinear constraints"
   ]
  },
  {
   "cell_type": "code",
   "execution_count": 6,
   "metadata": {},
   "outputs": [
    {
     "name": "stdout",
     "output_type": "stream",
     "text": [
      "──────────────────────────────────────────────────────────────────────────────────────────────────────────\n",
      "Variables:: 100     │ Rows in A: 50      │ Equality Constraints: 20      │ Inequality Constraints: 10     \n",
      "──────────────────────────────────────────────────────────────────────────────────────────────────────────\n",
      "──────────────────────────────────────────────────────────────────────────────────────────────────────────────────────\n",
      "│ iter │   primal   │ dual_res  │ cons_viol │ comp_res  │  KKT_res  │    mu    │   Δx    │  step   │ refine │  time  │\n",
      "──────────────────────────────────────────────────────────────────────────────────────────────────────────────────────\n",
      "│    1 │ 3.4657e+03 │  2.61e+00 │  1.94e-14 │  3.73e+00 │  3.73e+00 │  3.6e-02 │ 2.2e+00 │ 1.0e+00 │      0 │   0.01s │\n",
      "│    2 │ 3.3334e+03 │  1.32e-01 │  2.11e-15 │  3.77e-02 │  1.32e-01 │  3.6e-04 │ 6.4e-01 │ 9.9e-01 │      1 │   0.03s │\n",
      "│    3 │ 3.3282e+03 │  1.75e-03 │  8.88e-16 │  3.81e-04 │  1.75e-03 │  3.6e-06 │ 1.6e-01 │ 9.9e-01 │      1 │   0.05s │\n",
      "│    4 │ 3.3282e+03 │  1.60e-05 │  8.88e-16 │  3.92e-06 │  1.60e-05 │  3.6e-08 │ 1.4e-01 │ 9.9e-01 │      1 │   0.06s │\n",
      "│    5 │ 3.3282e+03 │  2.50e-10 │  2.11e-15 │  3.83e-07 │  3.83e-07 │  5.9e-10 │ 4.3e-01 │ 1.0e+00 │      5 │   0.08s │\n",
      "│    6 │ 3.3282e+03 │  3.35e-10 │  4.44e-16 │  8.47e-08 │  8.47e-08 │  1.9e-11 │ 5.2e-01 │ 1.0e+00 │      5 │   0.10s │\n",
      "│    7 │ 3.3282e+03 │  2.83e-10 │  1.11e-15 │  1.92e-08 │  1.92e-08 │  2.9e-08 │ 1.8e-01 │ 9.1e-01 │      3 │   0.11s │\n",
      "│    8 │ 3.3282e+03 │  4.68e-10 │  2.00e-15 │  4.55e-08 │  4.55e-08 │  2.9e-10 │ 1.9e-01 │ 1.0e+00 │      3 │   0.13s │\n",
      "│    9 │ 3.3282e+03 │  1.95e-10 │  3.55e-15 │  1.19e-08 │  1.19e-08 │  3.4e-11 │ 1.5e-01 │ 9.7e-01 │      4 │   0.15s │\n",
      "│   10 │ 3.3282e+03 │  3.10e-10 │  2.33e-15 │  2.82e-09 │  2.82e-09 │  1.0e-12 │ 5.4e-02 │ 1.0e+00 │      2 │   0.16s │\n",
      "Optimal solution found in 10 iterations in 0.16s. Final maxnorm KKT residual: 2.82e-09.\n"
     ]
    }
   ],
   "source": [
    "m = 50\n",
    "n = 100\n",
    "k = 10\n",
    "\n",
    "f,A,Q,C,c,b = build_random_logistic(m = m,n = n,k = k,density=0.1, seed = 2)\n",
    "\n",
    "rng = default_rng(10)\n",
    "E = csr_array(np.vstack([np.ones(n)]*20))\n",
    "e = np.zeros(E.shape[0])\n",
    "\n",
    "\n",
    "settings = SolverSettings(tau_reg = 1e-12,max_iterative_refinement=20)\n",
    "problem = GLMProblem(f,A,Q,C,c,b,E = E ,e = e,settings = settings)\n",
    "x,results = problem.solve(verbose = True,mu0 = 1.) "
   ]
  },
  {
   "cell_type": "code",
   "execution_count": null,
   "metadata": {},
   "outputs": [
    {
     "name": "stdout",
     "output_type": "stream",
     "text": [
      "===============================================================================\n",
      "                                     CVXPY                                     \n",
      "                                     v1.6.5                                    \n",
      "===============================================================================\n",
      "(CVXPY) Apr 18 10:08:32 PM: Your problem has 500 variables, 0 constraints, and 0 parameters.\n",
      "(CVXPY) Apr 18 10:08:32 PM: It is compliant with the following grammars: DCP, DQCP\n",
      "(CVXPY) Apr 18 10:08:32 PM: (If you need to solve this problem multiple times, but with different data, consider using parameters.)\n",
      "(CVXPY) Apr 18 10:08:32 PM: CVXPY will first compile your problem; then, it will invoke a numerical solver to obtain a solution.\n",
      "(CVXPY) Apr 18 10:08:32 PM: Your problem is compiled with the CPP canonicalization backend.\n",
      "-------------------------------------------------------------------------------\n",
      "                                  Compilation                                  \n",
      "-------------------------------------------------------------------------------\n",
      "(CVXPY) Apr 18 10:08:32 PM: Compiling problem (target solver=CLARABEL).\n",
      "(CVXPY) Apr 18 10:08:32 PM: Reduction chain: Dcp2Cone -> CvxAttr2Constr -> ConeMatrixStuffing -> CLARABEL\n",
      "(CVXPY) Apr 18 10:08:32 PM: Applying reduction Dcp2Cone\n",
      "(CVXPY) Apr 18 10:08:32 PM: Applying reduction CvxAttr2Constr\n",
      "(CVXPY) Apr 18 10:08:32 PM: Applying reduction ConeMatrixStuffing\n",
      "(CVXPY) Apr 18 10:08:32 PM: Applying reduction CLARABEL\n",
      "(CVXPY) Apr 18 10:08:32 PM: Finished problem compilation (took 1.079e-01 seconds).\n",
      "-------------------------------------------------------------------------------\n",
      "                                Numerical solver                               \n",
      "-------------------------------------------------------------------------------\n",
      "(CVXPY) Apr 18 10:08:32 PM: Invoking solver CLARABEL  to obtain a solution.\n",
      "-------------------------------------------------------------\n",
      "           Clarabel.rs v0.10.0  -  Clever Acronym                \n",
      "\n",
      "                   (c) Paul Goulart                          \n",
      "                University of Oxford, 2022                   \n",
      "-------------------------------------------------------------\n",
      "\n",
      "problem:\n",
      "  variables     = 31000\n",
      "  constraints   = 71000\n",
      "  nnz(P)        = 0\n",
      "  nnz(A)        = 112000\n",
      "  cones (total) = 20001\n",
      "    : Nonnegative = 1,  numel = 11000\n",
      "    : Exponential = 20000,  numel = (3,3,3,3,...,3)\n",
      "\n",
      "settings:\n",
      "  linear algebra: direct / qdldl, precision: 64 bit\n",
      "  max iter = 200, time limit = Inf,  max step = 0.990\n",
      "  tol_feas = 1.0e-8, tol_gap_abs = 1.0e-8, tol_gap_rel = 1.0e-8,\n",
      "  static reg : on, ϵ1 = 1.0e-8, ϵ2 = 4.9e-32\n",
      "  dynamic reg: on, ϵ = 1.0e-13, δ = 2.0e-7\n",
      "  iter refine: on, reltol = 1.0e-13, abstol = 1.0e-12,\n",
      "               max iter = 10, stop ratio = 5.0\n",
      "  equilibrate: on, min_scale = 1.0e-4, max_scale = 1.0e4\n",
      "               max iter = 10\n",
      "\n",
      "iter    pcost        dcost       gap       pres      dres      k/t        μ       step      \n",
      "---------------------------------------------------------------------------------------------\n",
      "  0  +0.0000e+00  -2.1128e+04  2.11e+04  9.06e-01  1.85e+01  1.00e+00  1.00e+00   ------   \n",
      "  1  -6.7032e+04  -8.8036e+04  3.13e-01  7.26e-01  1.62e+01  3.76e+00  2.64e-01  7.92e-01  \n",
      "  2  -3.7436e+05  -3.9475e+05  5.45e-02  6.26e-01  1.01e+01  1.68e+01  5.66e-02  7.92e-01  \n",
      "  3  -1.3262e+06  -1.3440e+06  1.34e-02  6.22e-01  3.67e+00  6.46e+01  1.21e-02  7.92e-01  \n",
      "  4  -1.0906e+06  -1.1012e+06  9.72e-03  4.71e-01  8.25e-01  1.35e+02  2.60e-03  7.92e-01  \n",
      "  5  +3.1078e+06  +3.1039e+06  1.27e-03  1.79e-01  1.45e-01  1.06e+02  5.57e-04  7.92e-01  \n",
      "  6  +5.7887e+06  +5.7876e+06  1.97e-04  4.89e-02  2.91e-02  4.53e+01  1.19e-04  7.92e-01  \n",
      "  7  +6.6489e+06  +6.6486e+06  3.99e-05  1.11e-02  6.13e-03  1.08e+01  2.56e-05  7.92e-01  \n",
      "  8  +6.8424e+06  +6.8423e+06  8.43e-06  2.39e-03  1.31e-03  2.27e+00  5.50e-06  7.91e-01  \n",
      "  9  +6.8838e+06  +6.8838e+06  1.80e-06  5.11e-04  2.81e-04  4.75e-01  1.18e-06  7.92e-01  \n",
      " 10  +6.8947e+06  +6.8947e+06  5.00e-08  1.42e-05  7.82e-06  1.14e-02  3.28e-08  9.80e-01  \n",
      " 11  +6.8950e+06  +6.8950e+06  1.39e-09  3.94e-07  2.17e-07  2.93e-04  9.12e-10  9.80e-01  \n",
      " 12  +6.8950e+06  +6.8950e+06  5.17e-10  1.46e-07  8.08e-08  1.09e-04  3.39e-10  6.34e-01  \n",
      " 13  +6.8950e+06  +6.8950e+06  3.17e-10  8.97e-08  4.95e-08  6.62e-05  2.08e-10  4.06e-01  \n",
      " 14  +6.8950e+06  +6.8950e+06  2.56e-10  7.23e-08  3.99e-08  5.19e-05  1.67e-10  3.24e-01  \n",
      " 15  +6.8950e+06  +6.8950e+06  2.29e-10  6.47e-08  3.57e-08  4.56e-05  1.50e-10  2.08e-01  \n",
      " 16  +6.8950e+06  +6.8950e+06  2.29e-10  6.47e-08  3.57e-08  4.56e-05  1.50e-10  0.00e+00  \n",
      " 17  +6.8950e+06  +6.8950e+06  1.00e-10  2.84e-08  1.57e-08  2.26e-05  5.33e-11  6.34e-01  \n",
      " 18  +6.8950e+06  +6.8950e+06  8.67e-11  2.45e-08  1.36e-08  1.92e-05  4.68e-11  1.66e-01  \n",
      " 19  +6.8950e+06  +6.8950e+06  7.19e-11  2.03e-08  1.12e-08  1.57e-05  3.96e-11  2.08e-01  \n",
      " 20  +6.8950e+06  +6.8950e+06  6.87e-11  1.94e-08  1.07e-08  1.49e-05  3.80e-11  5.44e-02  \n",
      " 21  +6.8950e+06  +6.8950e+06  6.74e-11  1.91e-08  1.05e-08  1.46e-05  3.73e-11  2.23e-02  \n",
      " 22  +6.8950e+06  +6.8950e+06  6.74e-11  1.90e-08  1.05e-08  1.46e-05  3.73e-11  7.10e-04  \n",
      " 23  +6.8950e+06  +6.8950e+06  6.54e-11  1.85e-08  1.02e-08  1.41e-05  3.64e-11  3.48e-02  \n",
      " 24  +6.8950e+06  +6.8950e+06  6.50e-11  1.84e-08  1.02e-08  1.41e-05  3.62e-11  7.30e-03  \n",
      " 25  +6.8950e+06  +6.8950e+06  6.34e-11  1.79e-08  9.90e-09  1.37e-05  3.54e-11  3.48e-02  \n",
      " 26  +6.8950e+06  +6.8950e+06  6.30e-11  1.78e-08  9.84e-09  1.36e-05  3.52e-11  7.30e-03  \n",
      " 27  +6.8950e+06  +6.8950e+06  5.75e-11  1.62e-08  8.98e-09  1.23e-05  3.24e-11  1.06e-01  \n",
      " 28  +6.8950e+06  +6.8950e+06  5.47e-11  1.54e-08  8.54e-09  1.16e-05  3.09e-11  6.80e-02  \n",
      " 29  +6.8950e+06  +6.8950e+06  5.41e-11  1.53e-08  8.45e-09  1.15e-05  3.06e-11  1.43e-02  \n",
      " 30  +6.8950e+06  +6.8950e+06  5.17e-11  1.46e-08  8.07e-09  1.09e-05  2.94e-11  5.44e-02  \n",
      " 31  +6.8950e+06  +6.8950e+06  5.03e-11  1.42e-08  7.86e-09  1.06e-05  2.87e-11  3.48e-02  \n",
      " 32  +6.8950e+06  +6.8950e+06  4.68e-11  1.32e-08  7.31e-09  9.81e-06  2.69e-11  8.50e-02  \n",
      " 33  +6.8950e+06  +6.8950e+06  4.68e-11  1.32e-08  7.30e-09  9.79e-06  2.69e-11  1.53e-03  \n",
      " 34  +6.8950e+06  +6.8950e+06  4.60e-11  1.30e-08  7.18e-09  9.61e-06  2.65e-11  2.23e-02  \n",
      " 35  +6.8950e+06  +6.8950e+06  4.57e-11  1.29e-08  7.14e-09  9.55e-06  2.63e-11  9.13e-03  \n",
      " 36  +6.8950e+06  +6.8950e+06  4.52e-11  1.28e-08  7.05e-09  9.42e-06  2.60e-11  1.43e-02  \n",
      " 37  +6.8950e+06  +6.8950e+06  4.49e-11  1.27e-08  7.01e-09  9.36e-06  2.59e-11  9.13e-03  \n",
      " 38  +6.8950e+06  +6.8950e+06  4.41e-11  1.25e-08  6.88e-09  9.19e-06  2.54e-11  2.23e-02  \n",
      " 39  +6.8950e+06  +6.8950e+06  4.39e-11  1.24e-08  6.85e-09  9.14e-06  2.53e-11  5.84e-03  \n",
      " 40  +6.8950e+06  +6.8950e+06  4.37e-11  1.23e-08  6.82e-09  9.06e-06  2.52e-11  2.79e-02  \n",
      " 41  +6.8950e+06  +6.8950e+06  4.29e-11  1.21e-08  6.69e-09  8.85e-06  2.48e-11  3.48e-02  \n",
      " 42  +6.8950e+06  +6.8950e+06  4.17e-11  1.18e-08  6.51e-09  8.57e-06  2.42e-11  4.35e-02  \n",
      " 43  +6.8950e+06  +6.8950e+06  4.04e-11  1.14e-08  6.30e-09  8.28e-06  2.35e-11  4.35e-02  \n",
      " 44  +6.8950e+06  +6.8950e+06  4.04e-11  1.14e-08  6.30e-09  8.28e-06  2.35e-11  2.57e-04  \n",
      " 45  +6.8950e+06  +6.8950e+06  3.56e-11  1.01e-08  5.55e-09  7.20e-06  2.10e-11  1.66e-01  \n",
      " 46  +6.8950e+06  +6.8950e+06  3.39e-11  9.57e-09  5.28e-09  6.81e-06  2.00e-11  6.80e-02  \n",
      "---------------------------------------------------------------------------------------------\n",
      "Terminated with status = Solved\n",
      "solve time = 3.559297794s\n",
      "-------------------------------------------------------------------------------\n",
      "                                    Summary                                    \n",
      "-------------------------------------------------------------------------------\n",
      "(CVXPY) Apr 18 10:08:35 PM: Problem status: optimal\n",
      "(CVXPY) Apr 18 10:08:35 PM: Optimal value: 6.895e+06\n",
      "(CVXPY) Apr 18 10:08:35 PM: Compilation took 1.079e-01 seconds\n",
      "(CVXPY) Apr 18 10:08:35 PM: Solver (including time spent in interface) took 3.602e+00 seconds\n"
     ]
    },
    {
     "data": {
      "text/plain": [
       "6895002.804744771"
      ]
     },
     "execution_count": 46,
     "metadata": {},
     "output_type": "execute_result"
    }
   ],
   "source": [
    "import cvxpy as cp\n",
    "from scipy.sparse import csc_array\n",
    "A = csc_array(A)[:,:n]\n",
    "n = A.shape[1]\n",
    "\n",
    "beta = cp.Variable(n)\n",
    "lambd = cp.Parameter(nonneg=True)\n",
    "neg_log_likelihood = cp.sum(\n",
    "    cp.multiply(f.w,cp.logistic(A @ beta)- cp.multiply(f.y, A @ beta))\n",
    ")\n",
    "regularization = lam*cp.norm1(beta)\n",
    "\n",
    "problem  = cp.Problem(cp.Minimize(\n",
    "    (neg_log_likelihood + regularization))\n",
    ")\n",
    "problem.solve(verbose = True)"
   ]
  },
  {
   "cell_type": "code",
   "execution_count": 10,
   "metadata": {},
   "outputs": [
    {
     "data": {
      "text/plain": [
       "array([1.])"
      ]
     },
     "execution_count": 10,
     "metadata": {},
     "output_type": "execute_result"
    }
   ],
   "source": [
    "np.ones(1)"
   ]
  }
 ],
 "metadata": {
  "kernelspec": {
   "display_name": "spx-opt",
   "language": "python",
   "name": "python3"
  },
  "language_info": {
   "codemirror_mode": {
    "name": "ipython",
    "version": 3
   },
   "file_extension": ".py",
   "mimetype": "text/x-python",
   "name": "python",
   "nbconvert_exporter": "python",
   "pygments_lexer": "ipython3",
   "version": "3.12.2"
  }
 },
 "nbformat": 4,
 "nbformat_minor": 2
}
