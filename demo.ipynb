{
 "cells": [
  {
   "cell_type": "code",
   "execution_count": 4,
   "metadata": {},
   "outputs": [],
   "source": [
    "import numpy as np\n",
    "from scipy.special import expit\n",
    "from numpy import logaddexp\n",
    "from glopt import GLMProblem,SolverSettings\n",
    "from problems import build_random_logistic,build_logistic_lasso\n",
    "import matplotlib.pyplot as plt\n",
    "from scipy.sparse import csc_array,diags_array,csr_array,block_array"
   ]
  },
  {
   "cell_type": "code",
   "execution_count": 5,
   "metadata": {},
   "outputs": [
    {
     "name": "stdout",
     "output_type": "stream",
     "text": [
      "──────────────────────────────────────────────────────────────────────────────────────────────────────────\n",
      "Variables:: 8       │ Rows in A: 10      │ Equality Constraints: 4       │ Inequality Constraints: 2      \n",
      "──────────────────────────────────────────────────────────────────────────────────────────────────────────\n",
      "─────────────────────────────────────────────────────────────────────────────────────────────────────────────\n",
      "│ iter │   primal   │ dual_res  │ cons_viol │ comp_res  │  KKT_res  │    mu    │   Δx    │  step   │  time  │\n",
      "─────────────────────────────────────────────────────────────────────────────────────────────────────────────\n",
      "│    1 │ 6.9052e+02 │  3.78e+02 │  6.07e-01 │  2.36e+05 │  2.36e+05 │  1.1e+05 │ 4.5e+02 │ 1.0e+00 │   0.01s │\n",
      "│    2 │ 1.1549e+04 │  3.00e+01 │  7.35e-05 │  1.06e+05 │  1.06e+05 │  1.1e+03 │ 4.9e+06 │ 1.0e+00 │   0.01s │\n",
      "│    3 │ 1.7760e+08 │  2.23e+01 │  4.58e+06 │  1.55e+05 │  4.58e+06 │  7.0e+04 │ 4.6e+06 │ 4.7e-01 │   0.02s │\n",
      "│    4 │ 1.4275e+08 │  2.26e+01 │  4.70e+06 │  1.56e+05 │  4.70e+06 │  3.1e+05 │ 1.1e+05 │ 5.4e-03 │   0.02s │\n",
      "│    5 │ 1.4096e+08 │  2.26e+01 │  4.70e+06 │  1.56e+05 │  4.70e+06 │  3.1e+05 │ 1.9e+01 │ 1.1e-06 │   0.02s │\n",
      "│    6 │ 1.4096e+08 │  7.21e+04 │  2.22e+09 │  9.78e+13 │  9.78e+13 │  4.4e+13 │ 2.2e+09 │ 1.0e+00 │   0.03s │\n",
      "│    7 │ 2.7685e+11 │  7.21e+04 │  2.22e+09 │  9.78e+13 │  9.78e+13 │  2.0e+14 │ 1.4e-02 │ 3.5e-13 │   0.03s │\n"
     ]
    }
   ],
   "source": [
    "m = 10\n",
    "n = 8\n",
    "\n",
    "f,A,Q,C,c,b = build_random_logistic(m = m,n = n,k = 2,density=0.1, seed = 2)\n",
    "E = csr_array(diags_array([1,-1],offsets=[0,1],shape=(n-1,n)))\n",
    "E = csc_array(E[::2])\n",
    "e = np.ones(E.shape[0])\n",
    "problem = GLMProblem(f,A,Q,C,c,b,E = E ,e = e)\n",
    "x,results = problem.solve(verbose = True) \n"
   ]
  },
  {
   "cell_type": "code",
   "execution_count": 6,
   "metadata": {},
   "outputs": [
    {
     "name": "stdout",
     "output_type": "stream",
     "text": [
      "──────────────────────────────────────────────────────────────────────────────────────────────────────────\n",
      "Variables:: 500     │ Rows in A: 10,000  │ Equality Constraints: 0       │ Inequality Constraints: 100    \n",
      "──────────────────────────────────────────────────────────────────────────────────────────────────────────\n",
      "─────────────────────────────────────────────────────────────────────────────────────────────────────────────\n",
      "│ iter │   primal   │ dual_res  │ cons_viol │ comp_res  │  KKT_res  │    mu    │   Δx    │  step   │  time  │\n",
      "─────────────────────────────────────────────────────────────────────────────────────────────────────────────\n",
      "│    1 │ 6.9315e+05 │  1.84e+03 │  6.42e+00 │  2.85e+02 │  1.84e+03 │  4.9e+02 │ 3.6e-01 │ 3.4e-02 │   0.11s │\n",
      "│    2 │ 6.9868e+05 │  1.56e+03 │  5.37e+00 │  1.49e+04 │  1.49e+04 │  3.4e+02 │ 5.4e-01 │ 1.6e-01 │   0.18s │\n",
      "│    3 │ 6.8657e+05 │  9.53e+02 │  3.01e+00 │  9.16e+03 │  9.16e+03 │  3.2e+02 │ 5.2e-01 │ 4.4e-01 │   0.26s │\n",
      "│    4 │ 6.5579e+05 │  3.01e+02 │  5.33e-15 │  2.45e+03 │  2.45e+03 │  3.2e+00 │ 8.5e-01 │ 1.0e+00 │   0.33s │\n",
      "│    5 │ 6.5736e+05 │  3.22e+01 │  4.44e-15 │  6.88e+02 │  6.88e+02 │  1.3e+00 │ 2.6e-01 │ 9.3e-01 │   0.40s │\n",
      "│    6 │ 6.4269e+05 │  1.56e+00 │  5.33e-15 │  1.61e+02 │  1.61e+02 │  1.3e-02 │ 9.6e-02 │ 1.0e+00 │   0.47s │\n",
      "│    7 │ 6.3900e+05 │  2.00e-01 │  5.33e-15 │  3.35e+01 │  3.35e+01 │  9.0e-01 │ 3.5e-02 │ 9.8e-01 │   0.54s │\n",
      "│    8 │ 6.3853e+05 │  1.57e-02 │  4.44e-15 │  4.21e+00 │  4.21e+00 │  9.0e-03 │ 1.1e-02 │ 1.0e+00 │   0.60s │\n",
      "│    9 │ 6.3851e+05 │  4.53e-03 │  4.00e-15 │  5.15e-01 │  5.15e-01 │  9.0e-05 │ 6.0e-03 │ 1.0e+00 │   0.67s │\n",
      "│   10 │ 6.3846e+05 │  6.73e-04 │  5.33e-15 │  1.17e-01 │  1.17e-01 │  2.7e-03 │ 2.4e-03 │ 1.0e+00 │   0.74s │\n",
      "│   11 │ 6.3846e+05 │  9.02e-05 │  3.55e-15 │  2.23e-02 │  2.23e-02 │  2.7e-05 │ 9.5e-04 │ 1.0e+00 │   0.81s │\n",
      "│   12 │ 6.3846e+05 │  7.00e-06 │  3.55e-15 │  1.74e-03 │  1.74e-03 │  2.7e-07 │ 2.6e-04 │ 1.0e+00 │   0.88s │\n",
      "│   13 │ 6.3846e+05 │  5.15e-08 │  5.33e-15 │  1.51e-05 │  1.51e-05 │  2.7e-09 │ 2.2e-05 │ 1.0e+00 │   0.96s │\n",
      "│   14 │ 6.3846e+05 │  7.49e-10 │  4.44e-15 │  3.82e-09 │  3.82e-09 │  2.7e-11 │ 1.7e-07 │ 1.0e+00 │   1.02s │\n"
     ]
    }
   ],
   "source": [
    "f,A,Q,C,c,b = build_random_logistic(m = 10000,n = 500,k = 100,density=0.1, seed = 2)\n",
    "problem = GLMProblem(f,A,Q,C,c,b)\n",
    "x,results = problem.solve()"
   ]
  },
  {
   "cell_type": "code",
   "execution_count": 7,
   "metadata": {},
   "outputs": [
    {
     "name": "stdout",
     "output_type": "stream",
     "text": [
      "──────────────────────────────────────────────────────────────────────────────────────────────────────────\n",
      "Variables:: 4,000   │ Rows in A: 10,000  │ Equality Constraints: 0       │ Inequality Constraints: 4,000  \n",
      "──────────────────────────────────────────────────────────────────────────────────────────────────────────\n"
     ]
    },
    {
     "name": "stdout",
     "output_type": "stream",
     "text": [
      "─────────────────────────────────────────────────────────────────────────────────────────────────────────────\n",
      "│ iter │   primal   │ dual_res  │ cons_viol │ comp_res  │  KKT_res  │    mu    │   Δx    │  step   │  time  │\n",
      "─────────────────────────────────────────────────────────────────────────────────────────────────────────────\n",
      "│    1 │ 6.9315e+06 │  9.75e+02 │  0.00e+00 │  6.55e+04 │  6.55e+04 │  5.2e+04 │ 9.4e+01 │ 1.0e+00 │   1.65s │\n",
      "│    2 │ 5.3693e+07 │  1.46e+01 │  2.84e-14 │  2.99e+04 │  2.99e+04 │  5.2e+02 │ 6.5e+01 │ 1.0e+00 │   3.14s │\n",
      "│    3 │ 8.6349e+07 │  9.96e-03 │  2.75e-14 │  8.71e+02 │  8.71e+02 │  5.2e+00 │ 1.6e+02 │ 1.0e+00 │   4.72s │\n",
      "│    4 │ 8.7938e+06 │  2.44e-01 │  9.55e-15 │  3.55e+02 │  3.55e+02 │  6.2e+01 │ 2.7e+00 │ 6.7e-01 │   6.23s │\n",
      "│    5 │ 7.4401e+06 │  8.52e+00 │  4.44e-16 │  1.70e+02 │  1.70e+02 │  6.2e-01 │ 9.2e-01 │ 1.0e+00 │   7.68s │\n",
      "│    6 │ 7.0404e+06 │  1.19e+00 │  4.44e-16 │  2.65e+01 │  2.65e+01 │  3.5e-02 │ 6.1e-01 │ 8.7e-01 │   9.15s │\n",
      "│    7 │ 6.8255e+06 │  4.40e-01 │  2.22e-16 │  6.46e+00 │  6.46e+00 │  3.8e-01 │ 6.9e-02 │ 7.9e-01 │  10.66s │\n",
      "│    8 │ 6.7998e+06 │  1.01e-01 │  2.22e-16 │  1.80e+00 │  1.80e+00 │  3.8e-03 │ 2.8e-02 │ 1.0e+00 │  12.06s │\n",
      "│    9 │ 6.7941e+06 │  1.13e-02 │  2.22e-16 │  5.00e-01 │  5.00e-01 │  9.3e-05 │ 1.5e-02 │ 9.4e-01 │  13.54s │\n",
      "│   10 │ 6.7925e+06 │  7.41e-04 │  2.22e-16 │  1.20e-01 │  1.20e-01 │  4.4e-04 │ 7.2e-03 │ 9.9e-01 │  14.99s │\n",
      "│   11 │ 6.7924e+06 │  1.90e-04 │  2.22e-16 │  2.43e-02 │  2.43e-02 │  4.4e-06 │ 3.3e-03 │ 1.0e+00 │  16.48s │\n",
      "│   12 │ 6.7924e+06 │  2.21e-05 │  2.22e-16 │  2.74e-03 │  2.74e-03 │  4.4e-08 │ 1.1e-03 │ 1.0e+00 │  17.94s │\n",
      "│   13 │ 6.7924e+06 │  4.69e-07 │  2.22e-16 │  5.78e-05 │  5.78e-05 │  5.2e-08 │ 1.6e-04 │ 1.0e+00 │  19.39s │\n",
      "│   14 │ 6.7924e+06 │  1.60e-09 │  2.22e-16 │  8.04e-08 │  8.04e-08 │  5.2e-10 │ 3.6e-06 │ 1.0e+00 │  20.92s │\n"
     ]
    }
   ],
   "source": [
    "n = 2000\n",
    "lam = 250.\n",
    "f,A,Q,C,c,b,x_true = build_logistic_lasso(m = 10000,n = n, seed = 2,lam = lam)\n",
    "problem = GLMProblem(f,A,Q,C,c,b = b)\n",
    "xt,results = problem.solve(verbose = True)\n",
    "\n",
    "x = xt[:n]"
   ]
  },
  {
   "cell_type": "code",
   "execution_count": null,
   "metadata": {},
   "outputs": [],
   "source": []
  },
  {
   "cell_type": "code",
   "execution_count": null,
   "metadata": {},
   "outputs": [],
   "source": []
  },
  {
   "cell_type": "code",
   "execution_count": 8,
   "metadata": {},
   "outputs": [
    {
     "ename": "ValueError",
     "evalue": "zero-size array to reduction operation maximum which has no identity",
     "output_type": "error",
     "traceback": [
      "\u001b[0;31m---------------------------------------------------------------------------\u001b[0m",
      "\u001b[0;31mValueError\u001b[0m                                Traceback (most recent call last)",
      "Cell \u001b[0;32mIn[8], line 1\u001b[0m\n\u001b[0;32m----> 1\u001b[0m np\u001b[38;5;241m.\u001b[39mmax(np\u001b[38;5;241m.\u001b[39mones((\u001b[38;5;241m0\u001b[39m,)))\n",
      "File \u001b[0;32m~/miniconda3/envs/spx-opt/lib/python3.12/site-packages/numpy/core/fromnumeric.py:2810\u001b[0m, in \u001b[0;36mmax\u001b[0;34m(a, axis, out, keepdims, initial, where)\u001b[0m\n\u001b[1;32m   2692\u001b[0m \u001b[38;5;129m@array_function_dispatch\u001b[39m(_max_dispatcher)\n\u001b[1;32m   2693\u001b[0m \u001b[38;5;129m@set_module\u001b[39m(\u001b[38;5;124m'\u001b[39m\u001b[38;5;124mnumpy\u001b[39m\u001b[38;5;124m'\u001b[39m)\n\u001b[1;32m   2694\u001b[0m \u001b[38;5;28;01mdef\u001b[39;00m \u001b[38;5;21mmax\u001b[39m(a, axis\u001b[38;5;241m=\u001b[39m\u001b[38;5;28;01mNone\u001b[39;00m, out\u001b[38;5;241m=\u001b[39m\u001b[38;5;28;01mNone\u001b[39;00m, keepdims\u001b[38;5;241m=\u001b[39mnp\u001b[38;5;241m.\u001b[39m_NoValue, initial\u001b[38;5;241m=\u001b[39mnp\u001b[38;5;241m.\u001b[39m_NoValue,\n\u001b[1;32m   2695\u001b[0m          where\u001b[38;5;241m=\u001b[39mnp\u001b[38;5;241m.\u001b[39m_NoValue):\n\u001b[1;32m   2696\u001b[0m \u001b[38;5;250m    \u001b[39m\u001b[38;5;124;03m\"\"\"\u001b[39;00m\n\u001b[1;32m   2697\u001b[0m \u001b[38;5;124;03m    Return the maximum of an array or maximum along an axis.\u001b[39;00m\n\u001b[1;32m   2698\u001b[0m \n\u001b[0;32m   (...)\u001b[0m\n\u001b[1;32m   2808\u001b[0m \u001b[38;5;124;03m    5\u001b[39;00m\n\u001b[1;32m   2809\u001b[0m \u001b[38;5;124;03m    \"\"\"\u001b[39;00m\n\u001b[0;32m-> 2810\u001b[0m     \u001b[38;5;28;01mreturn\u001b[39;00m _wrapreduction(a, np\u001b[38;5;241m.\u001b[39mmaximum, \u001b[38;5;124m'\u001b[39m\u001b[38;5;124mmax\u001b[39m\u001b[38;5;124m'\u001b[39m, axis, \u001b[38;5;28;01mNone\u001b[39;00m, out,\n\u001b[1;32m   2811\u001b[0m                           keepdims\u001b[38;5;241m=\u001b[39mkeepdims, initial\u001b[38;5;241m=\u001b[39minitial, where\u001b[38;5;241m=\u001b[39mwhere)\n",
      "File \u001b[0;32m~/miniconda3/envs/spx-opt/lib/python3.12/site-packages/numpy/core/fromnumeric.py:88\u001b[0m, in \u001b[0;36m_wrapreduction\u001b[0;34m(obj, ufunc, method, axis, dtype, out, **kwargs)\u001b[0m\n\u001b[1;32m     85\u001b[0m         \u001b[38;5;28;01melse\u001b[39;00m:\n\u001b[1;32m     86\u001b[0m             \u001b[38;5;28;01mreturn\u001b[39;00m reduction(axis\u001b[38;5;241m=\u001b[39maxis, out\u001b[38;5;241m=\u001b[39mout, \u001b[38;5;241m*\u001b[39m\u001b[38;5;241m*\u001b[39mpasskwargs)\n\u001b[0;32m---> 88\u001b[0m \u001b[38;5;28;01mreturn\u001b[39;00m ufunc\u001b[38;5;241m.\u001b[39mreduce(obj, axis, dtype, out, \u001b[38;5;241m*\u001b[39m\u001b[38;5;241m*\u001b[39mpasskwargs)\n",
      "\u001b[0;31mValueError\u001b[0m: zero-size array to reduction operation maximum which has no identity"
     ]
    }
   ],
   "source": [
    "np.max(np.ones((0,)))"
   ]
  },
  {
   "cell_type": "code",
   "execution_count": null,
   "metadata": {},
   "outputs": [
    {
     "data": {
      "text/plain": [
       "(array([ 0.5, -0.5,  0.5, -0.5,  0.5, -0.5,  0.5, -0.5,  0. ]),\n",
       " array([1., 1.]),\n",
       " array([0.41986912, 0.01      ]),\n",
       " array([-0.5, -0.5, -0.5, -0.5]))"
      ]
     },
     "execution_count": 9,
     "metadata": {},
     "output_type": "execute_result"
    }
   ],
   "source": [
    "problem.initialize()"
   ]
  },
  {
   "cell_type": "code",
   "execution_count": null,
   "metadata": {},
   "outputs": [
    {
     "data": {
      "text/plain": [
       "<qdldl.Solver at 0x7f5d3986ec70>"
      ]
     },
     "execution_count": 81,
     "metadata": {},
     "output_type": "execute_result"
    }
   ],
   "source": [
    "from scipy.sparse import triu\n",
    "import qdldl\n",
    "\n",
    "H = A.T@A\n",
    "\n",
    "G = block_array(\n",
    "            [\n",
    "                [H + Q,C.T        ,E.T],\n",
    "                [C               ,-1*problem.Ik  ,None],\n",
    "                [E           ,None         ,0*diags_array(np.ones(E.shape[0]))]\n",
    "            ],format = 'csc'\n",
    "        )\n",
    "\n",
    "# G = triu(G,format = 'csc')\n",
    "# G.sort_indices()\n",
    "\n",
    "# G.eliminate_zeros()\n",
    "\n",
    "qdldl.Solver(G)"
   ]
  },
  {
   "cell_type": "code",
   "execution_count": null,
   "metadata": {},
   "outputs": [
    {
     "data": {
      "text/plain": [
       "array([ 0, 11,  1, 11,  2,  7,  9, 12,  3, 12,  4,  9, 10, 13,  5,  9, 13,\n",
       "        6, 14,  2,  7, 14,  8,  2,  4,  5,  9,  4, 10,  0,  1,  2,  3,  4,\n",
       "        5,  6,  7], dtype=int32)"
      ]
     },
     "execution_count": 82,
     "metadata": {},
     "output_type": "execute_result"
    }
   ],
   "source": [
    "G.indices"
   ]
  },
  {
   "cell_type": "code",
   "execution_count": null,
   "metadata": {},
   "outputs": [
    {
     "data": {
      "text/plain": [
       "1e-07"
      ]
     },
     "execution_count": 83,
     "metadata": {},
     "output_type": "execute_result"
    }
   ],
   "source": [
    "G[0,0]"
   ]
  },
  {
   "cell_type": "code",
   "execution_count": null,
   "metadata": {},
   "outputs": [
    {
     "data": {
      "text/plain": [
       "<matplotlib.image.AxesImage at 0x7f5d395e8b60>"
      ]
     },
     "execution_count": 80,
     "metadata": {},
     "output_type": "execute_result"
    },
    {
     "data": {
      "image/png": "[encoded data removed]",
      "text/plain": [
       "<Figure size 640x480 with 1 Axes>"
      ]
     },
     "metadata": {},
     "output_type": "display_data"
    }
   ],
   "source": [
    "plt.imshow(np.sign(G.toarray()))"
   ]
  },
  {
   "cell_type": "code",
   "execution_count": null,
   "metadata": {},
   "outputs": [
    {
     "data": {
      "text/plain": [
       "['T',\n",
       " '__abs__',\n",
       " '__add__',\n",
       " '__array_priority__',\n",
       " '__bool__',\n",
       " '__class__',\n",
       " '__delattr__',\n",
       " '__dict__',\n",
       " '__dir__',\n",
       " '__div__',\n",
       " '__doc__',\n",
       " '__eq__',\n",
       " '__format__',\n",
       " '__ge__',\n",
       " '__getattribute__',\n",
       " '__getstate__',\n",
       " '__gt__',\n",
       " '__hash__',\n",
       " '__iadd__',\n",
       " '__idiv__',\n",
       " '__imul__',\n",
       " '__init__',\n",
       " '__init_subclass__',\n",
       " '__isub__',\n",
       " '__iter__',\n",
       " '__itruediv__',\n",
       " '__le__',\n",
       " '__len__',\n",
       " '__lt__',\n",
       " '__matmul__',\n",
       " '__module__',\n",
       " '__mul__',\n",
       " '__ne__',\n",
       " '__neg__',\n",
       " '__new__',\n",
       " '__nonzero__',\n",
       " '__pow__',\n",
       " '__radd__',\n",
       " '__rdiv__',\n",
       " '__reduce__',\n",
       " '__reduce_ex__',\n",
       " '__repr__',\n",
       " '__rmatmul__',\n",
       " '__rmul__',\n",
       " '__round__',\n",
       " '__rsub__',\n",
       " '__rtruediv__',\n",
       " '__setattr__',\n",
       " '__sizeof__',\n",
       " '__str__',\n",
       " '__sub__',\n",
       " '__subclasshook__',\n",
       " '__truediv__',\n",
       " '__weakref__',\n",
       " '_add_dense',\n",
       " '_add_sparse',\n",
       " '_allow_nd',\n",
       " '_arg_min_or_max',\n",
       " '_arg_min_or_max_axis',\n",
       " '_ascontainer',\n",
       " '_asfptype',\n",
       " '_broadcast_to',\n",
       " '_bsr_container',\n",
       " '_check',\n",
       " '_container',\n",
       " '_coo_container',\n",
       " '_coo_to_compressed',\n",
       " '_csc_container',\n",
       " '_csr_container',\n",
       " '_deduped_data',\n",
       " '_dense_dot',\n",
       " '_dense_tensordot',\n",
       " '_dia_container',\n",
       " '_divide',\n",
       " '_dok_container',\n",
       " '_format',\n",
       " '_get_index_dtype',\n",
       " '_getcol',\n",
       " '_getmaxprint',\n",
       " '_getnnz',\n",
       " '_getrow',\n",
       " '_imag',\n",
       " '_lil_container',\n",
       " '_matmul_dispatch',\n",
       " '_matmul_multivector',\n",
       " '_matmul_sparse',\n",
       " '_matmul_vector',\n",
       " '_min_or_max',\n",
       " '_min_or_max_axis',\n",
       " '_mul_scalar',\n",
       " '_process_toarray_args',\n",
       " '_real',\n",
       " '_rmatmul_dispatch',\n",
       " '_rsub_dense',\n",
       " '_setdiag',\n",
       " '_shape',\n",
       " '_shape_as_2d',\n",
       " '_sparse_dot',\n",
       " '_sparse_tensordot',\n",
       " '_sub_dense',\n",
       " '_sub_sparse',\n",
       " '_sum_duplicates',\n",
       " '_with_data',\n",
       " 'arcsin',\n",
       " 'arcsinh',\n",
       " 'arctan',\n",
       " 'arctanh',\n",
       " 'argmax',\n",
       " 'argmin',\n",
       " 'asformat',\n",
       " 'astype',\n",
       " 'ceil',\n",
       " 'col',\n",
       " 'conj',\n",
       " 'conjugate',\n",
       " 'coords',\n",
       " 'copy',\n",
       " 'count_nonzero',\n",
       " 'data',\n",
       " 'deg2rad',\n",
       " 'diagonal',\n",
       " 'dot',\n",
       " 'dtype',\n",
       " 'eliminate_zeros',\n",
       " 'expm1',\n",
       " 'floor',\n",
       " 'format',\n",
       " 'has_canonical_format',\n",
       " 'imag',\n",
       " 'log1p',\n",
       " 'max',\n",
       " 'maximum',\n",
       " 'maxprint',\n",
       " 'mean',\n",
       " 'min',\n",
       " 'minimum',\n",
       " 'multiply',\n",
       " 'nanmax',\n",
       " 'nanmin',\n",
       " 'ndim',\n",
       " 'nnz',\n",
       " 'nonzero',\n",
       " 'power',\n",
       " 'rad2deg',\n",
       " 'real',\n",
       " 'reshape',\n",
       " 'resize',\n",
       " 'rint',\n",
       " 'row',\n",
       " 'setdiag',\n",
       " 'shape',\n",
       " 'sign',\n",
       " 'sin',\n",
       " 'sinh',\n",
       " 'size',\n",
       " 'sqrt',\n",
       " 'sum',\n",
       " 'sum_duplicates',\n",
       " 'tan',\n",
       " 'tanh',\n",
       " 'tensordot',\n",
       " 'toarray',\n",
       " 'tobsr',\n",
       " 'tocoo',\n",
       " 'tocsc',\n",
       " 'tocsr',\n",
       " 'todense',\n",
       " 'todia',\n",
       " 'todok',\n",
       " 'tolil',\n",
       " 'trace',\n",
       " 'transpose',\n",
       " 'trunc']"
      ]
     },
     "execution_count": 45,
     "metadata": {},
     "output_type": "execute_result"
    }
   ],
   "source": [
    "dir(A)"
   ]
  },
  {
   "cell_type": "code",
   "execution_count": null,
   "metadata": {},
   "outputs": [
    {
     "ename": "RuntimeError",
     "evalue": "Error in computing elimination tree. Matrix not properly upper-triangular, sum_Lnz = -1",
     "output_type": "error",
     "traceback": [
      "\u001b[0;31m---------------------------------------------------------------------------\u001b[0m",
      "\u001b[0;31mRuntimeError\u001b[0m                              Traceback (most recent call last)",
      "Cell \u001b[0;32mIn[42], line 6\u001b[0m\n\u001b[1;32m      4\u001b[0m G\u001b[38;5;241m.\u001b[39msort_indices()                              \u001b[38;5;66;03m# rows strictly increasing\u001b[39;00m\n\u001b[1;32m      5\u001b[0m \u001b[38;5;66;03m# ------------------------------------------------------------\u001b[39;00m\n\u001b[0;32m----> 6\u001b[0m solver \u001b[38;5;241m=\u001b[39m qdldl\u001b[38;5;241m.\u001b[39mSolver(G, upper\u001b[38;5;241m=\u001b[39m\u001b[38;5;28;01mTrue\u001b[39;00m)\n",
      "\u001b[0;31mRuntimeError\u001b[0m: Error in computing elimination tree. Matrix not properly upper-triangular, sum_Lnz = -1"
     ]
    }
   ],
   "source": [
    "# keep ONE triangle, drop duplicates, sort rows\n",
    "G = triu(G, k=0, format='csc')   # strictly upper incl. diag\n",
    "G.sum_duplicates()                            # merge (i,j) duplicates\n",
    "G.sort_indices()                              # rows strictly increasing\n",
    "# ------------------------------------------------------------\n",
    "solver = qdldl.Solver(G, upper=True)          # or .update(...)\n"
   ]
  },
  {
   "cell_type": "code",
   "execution_count": null,
   "metadata": {},
   "outputs": [
    {
     "name": "stdout",
     "output_type": "stream",
     "text": [
      "\u001b[0;31mDocstring:\u001b[0m      <no docstring>\n",
      "\u001b[0;31mInit docstring:\u001b[0m __init__(self: qdldl.Solver, A: object, upper: bool = False) -> None\n",
      "\u001b[0;31mFile:\u001b[0m           ~/miniconda3/envs/spx-opt/lib/python3.12/site-packages/qdldl.cpython-312-x86_64-linux-gnu.so\n",
      "\u001b[0;31mType:\u001b[0m           pybind11_type\n",
      "\u001b[0;31mSubclasses:\u001b[0m     "
     ]
    }
   ],
   "source": [
    "import qdldl\n",
    "\n",
    "qdldl.Solver?"
   ]
  },
  {
   "cell_type": "code",
   "execution_count": null,
   "metadata": {},
   "outputs": [
    {
     "data": {
      "image/png": "[encoded data removed]",
      "text/plain": [
       "<Figure size 640x480 with 1 Axes>"
      ]
     },
     "metadata": {},
     "output_type": "display_data"
    }
   ],
   "source": [
    "plt.plot(results.history['mu'])\n",
    "plt.yscale('log')"
   ]
  },
  {
   "cell_type": "code",
   "execution_count": null,
   "metadata": {},
   "outputs": [
    {
     "data": {
      "image/png": "[encoded data removed]",
      "text/plain": [
       "<Figure size 640x480 with 1 Axes>"
      ]
     },
     "metadata": {},
     "output_type": "display_data"
    }
   ],
   "source": [
    "plt.plot(results.history['comp_res'],results.history['primal'] - np.min(results.history['primal']))\n",
    "plt.yscale('log')\n",
    "plt.xscale('log')"
   ]
  },
  {
   "cell_type": "code",
   "execution_count": null,
   "metadata": {},
   "outputs": [
    {
     "data": {
      "text/plain": [
       "[<matplotlib.lines.Line2D at 0x7f2c883e5700>]"
      ]
     },
     "execution_count": 6,
     "metadata": {},
     "output_type": "execute_result"
    },
    {
     "data": {
      "image/png": "[encoded data removed]",
      "text/plain": [
       "<Figure size 640x480 with 1 Axes>"
      ]
     },
     "metadata": {},
     "output_type": "display_data"
    }
   ],
   "source": [
    "order = np.argsort(x_true)\n",
    "plt.plot(x_true[order])\n",
    "plt.plot(x[order])"
   ]
  },
  {
   "cell_type": "code",
   "execution_count": null,
   "metadata": {},
   "outputs": [
    {
     "data": {
      "text/plain": [
       "SolverSettings(max_precenter=100, max_iter=10, tol=1e-07, safe_boundary_frac=0.99, greedy_boundary_frac=0.9999, gamma=0.5, min_mu=1e-11, tau_reg=1e-12, max_linesearch_steps=50)"
      ]
     },
     "execution_count": 3,
     "metadata": {},
     "output_type": "execute_result"
    }
   ],
   "source": []
  },
  {
   "cell_type": "code",
   "execution_count": null,
   "metadata": {},
   "outputs": [
    {
     "name": "stdout",
     "output_type": "stream",
     "text": [
      "100 constraints\n",
      "500 variables\n",
      "10000 rows in A\n",
      "─────────────────────────────────────────────────────────────────────────────────────────────────────────────────\n",
      "│ iter │   primal   │ dual_res  │ cons_viol │ comp_res  │  KKT_res  │    mu    │    Δx     │  step   │ cum_time │\n",
      "─────────────────────────────────────────────────────────────────────────────────────────────────────────────────\n",
      "│    1 │ 6.9315e+05 │  1.84e+03 │  6.42e+00 │  2.84e+02 │  1.84e+03 │  4.9e+02 │   3.6e-01 │ 3.4e-02 │     0.12s │\n",
      "│    2 │ 6.9872e+05 │  1.55e+03 │  5.36e+00 │  1.48e+04 │  1.48e+04 │  1.1e+02 │   5.4e-01 │ 1.6e-01 │     0.21s │\n",
      "│    3 │ 6.8646e+05 │  1.09e+03 │  3.65e+00 │  1.05e+04 │  1.05e+04 │  6.8e+01 │   3.6e-01 │ 3.2e-01 │     0.31s │\n",
      "│    4 │ 6.5699e+05 │  4.94e+02 │  1.27e+00 │  4.79e+03 │  4.79e+03 │  2.5e+01 │   5.7e-01 │ 6.5e-01 │     0.41s │\n",
      "│    5 │ 6.4053e+05 │  8.37e+01 │  3.76e-02 │  1.28e+03 │  1.28e+03 │  1.5e+01 │   4.4e-01 │ 9.7e-01 │     0.51s │\n"
     ]
    },
    {
     "data": {
      "text/plain": [
       "SolverResults(settings=SolverSettings(max_precenter=100, max_iter=5, tol=1e-07, safe_boundary_frac=0.99, greedy_boundary_frac=0.9999, gamma=0.5, min_mu=1e-11, tau_reg=1e-12, max_linesearch_steps=50), x=array([ 1.74114031e-01,  1.08445425e-01,  1.14604756e+00,  8.33850817e-01,\n",
       "        2.07468100e-01, -2.31972219e-01,  4.37793083e-01,  3.56014150e-01,\n",
       "        1.15982432e-01, -1.20116193e-02,  8.97481754e-01, -4.14659261e-01,\n",
       "        4.53823375e-01,  9.70783242e-01,  6.59479373e-01,  2.10266286e-01,\n",
       "        6.39854722e-01,  3.49428822e-01,  6.78406716e-01,  7.91581937e-01,\n",
       "        2.19569354e-01, -1.06680837e-01,  6.92788457e-01,  7.12515526e-02,\n",
       "        7.47472843e-01, -1.49004015e-01,  4.74261539e-01,  1.29818930e+00,\n",
       "        3.47425143e-01,  6.29704915e-01,  8.95468610e-02,  4.13043366e-01,\n",
       "       -2.64237243e-01,  3.81267085e-01,  3.18424111e-01,  2.94090667e-01,\n",
       "        2.92823014e-01,  1.41513182e-01, -6.50807529e-01, -2.81322181e-02,\n",
       "        3.72495614e-01,  4.79579680e-01,  1.59676582e-01,  8.47515063e-01,\n",
       "        9.36567627e-01,  1.12120431e+00,  5.12673271e-01, -1.60773043e-01,\n",
       "        9.02094431e-01,  3.44897086e-01, -4.95446102e-01,  1.73176198e+00,\n",
       "        1.36867581e+00,  4.49775401e-01,  6.61414840e-01,  1.43448678e+00,\n",
       "        7.79182879e-01,  6.42491226e-01,  6.63498915e-01,  5.72020486e-01,\n",
       "       -4.28872170e-02,  7.93965053e-01,  2.08481038e-01,  7.35043665e-01,\n",
       "        2.24770307e-01,  8.60062481e-01,  2.86101368e-01,  5.04527445e-01,\n",
       "        6.42097366e-01,  2.54333937e-02,  1.21667664e+00,  7.01991506e-01,\n",
       "        1.17305791e+00, -1.57528977e-02,  6.64455465e-01,  2.59835553e-01,\n",
       "        6.69873718e-01,  2.42392636e-01, -1.98498319e-01,  4.04756041e-01,\n",
       "        9.80001310e-01, -2.08080137e-01,  1.49523565e-01, -5.52637629e-01,\n",
       "       -3.93448973e-01,  2.55138094e-01,  3.21148676e-01,  2.60917825e-01,\n",
       "       -4.61469187e-02,  7.92471676e-01, -7.81107182e-02, -2.33462706e-01,\n",
       "        7.12197385e-04,  2.35013869e-01,  1.54751668e-01,  3.23869838e-01,\n",
       "        1.21746824e+00, -3.71101359e-01,  6.32081735e-01,  7.74589339e-03,\n",
       "        3.93277035e-01, -1.98753160e-01,  3.04683113e-01,  4.26804840e-01,\n",
       "        1.66730800e-01,  6.72178153e-01,  5.90664086e-01,  7.70392809e-01,\n",
       "        4.94538568e-01,  1.94026162e-01,  5.04779243e-01,  9.68979771e-01,\n",
       "        8.94753389e-01,  2.68131829e-01,  6.49434610e-01,  1.53204523e-01,\n",
       "        8.37286422e-01,  7.47091061e-01,  4.18629823e-01,  6.83707377e-03,\n",
       "       -3.83653232e-01,  8.91831038e-01,  4.33494810e-01,  1.15046074e+00,\n",
       "        2.63709523e-01,  4.80679352e-01,  4.77770208e-01, -3.95897668e-02,\n",
       "        6.77737365e-01,  4.47591687e-01,  4.52886840e-01,  4.14126983e-02,\n",
       "        1.21881423e+00,  8.61513533e-01,  7.98673612e-01,  1.54501664e+00,\n",
       "        2.60519873e-01,  1.38252349e-03,  1.29307043e+00, -1.41998779e-01,\n",
       "        7.54426081e-01,  2.10423958e-01, -1.09303791e-01, -4.38701985e-02,\n",
       "        5.48728221e-01, -3.62756956e-01, -3.94338654e-01, -2.30717254e-01,\n",
       "       -2.60651993e-02,  3.90358624e-01,  4.29174092e-01, -4.60919093e-01,\n",
       "        1.04865802e+00,  9.07362862e-01,  7.82707767e-01,  1.44161551e-02,\n",
       "        1.24975734e+00,  5.79036090e-01,  7.50264738e-02,  1.09999688e+00,\n",
       "        6.30255038e-01,  6.87044600e-02,  9.19465702e-01,  1.29044507e+00,\n",
       "        8.43543479e-01,  5.53885424e-02,  2.59631726e-01,  4.34599316e-01,\n",
       "        5.29992540e-01,  8.44601733e-01, -1.31711879e-01,  7.09244291e-01,\n",
       "        2.26349351e-01,  6.43357696e-01, -6.81986097e-01,  5.91780958e-01,\n",
       "       -6.55393254e-02,  8.32107335e-01,  1.56495215e+00,  2.85825654e-01,\n",
       "        6.75994052e-01, -4.31905239e-02, -3.32329916e-01,  6.89964636e-01,\n",
       "        1.99897455e-01,  5.37201043e-01,  9.51070667e-01,  5.31649697e-01,\n",
       "        2.53427516e-01,  5.29508805e-01,  3.06311716e-01,  8.19476486e-01,\n",
       "        7.88702296e-01,  2.60987426e-01,  1.14250432e+00, -4.59676564e-01,\n",
       "       -6.57883287e-02,  3.93726690e-01,  5.78925274e-01,  9.99650129e-02,\n",
       "        8.03352560e-01, -2.97679881e-01,  3.18470565e-01,  1.28910868e+00,\n",
       "        8.04921271e-01,  7.10184259e-01,  6.94702171e-01,  6.69536530e-02,\n",
       "        6.90841091e-01,  8.28663654e-01, -3.05033101e-01, -7.82115809e-02,\n",
       "        3.60265602e-01,  1.09061147e+00, -1.61170560e-01,  4.23801338e-01,\n",
       "        1.05319456e+00,  3.85110701e-01,  2.97698985e-01,  8.84592312e-01,\n",
       "       -2.14642011e-01,  2.67082858e-01,  1.20664045e+00,  6.23587786e-01,\n",
       "        7.91650253e-02,  5.08232793e-01,  3.30766561e-01,  7.33018197e-01,\n",
       "        3.11277994e-01,  1.01871087e+00,  1.16358421e+00,  1.53482254e-01,\n",
       "       -1.67364977e-01,  6.54944562e-01,  1.91663278e-01,  7.15645081e-02,\n",
       "        5.24810380e-01,  8.00346374e-01, -1.70476544e-01, -7.55350595e-02,\n",
       "       -2.86182459e-01, -1.22836977e+00,  6.83989460e-01,  2.39264676e-01,\n",
       "       -3.66186300e-01,  1.05925916e+00,  5.12394202e-01,  1.13067972e+00,\n",
       "        6.74711290e-01,  3.35434983e-01,  8.83165245e-01, -5.32434645e-01,\n",
       "        4.51978593e-01,  6.75977299e-01,  8.67640936e-01,  6.64790000e-02,\n",
       "       -2.56434681e-01,  1.24259411e+00,  2.65499122e-01,  6.69309499e-03,\n",
       "        9.30577838e-02,  3.09905518e-01,  2.82320871e-01,  6.40226716e-01,\n",
       "        3.43576321e-01,  4.00283448e-01,  1.44886217e-01,  1.98923616e-01,\n",
       "        6.92634032e-01,  1.45396399e-02,  5.04516267e-01,  4.59596078e-01,\n",
       "        1.97421264e-01, -6.44778299e-02,  5.09257050e-01,  6.04431782e-01,\n",
       "        1.05391248e+00,  6.23993837e-01, -3.61365315e-01,  5.40427722e-01,\n",
       "        5.28951989e-01, -4.14388298e-01, -1.97560987e-02,  1.30504975e+00,\n",
       "        1.53927371e-01,  1.56733707e-01,  2.94465711e-01,  1.10664242e-02,\n",
       "        2.33963625e-01,  3.64433238e-01,  4.25370342e-01,  6.32666206e-01,\n",
       "       -1.11618624e-01,  1.05548136e+00, -8.54496356e-02,  8.52923115e-01,\n",
       "        1.10065341e+00,  4.14660774e-01,  2.47071902e-01,  1.01072891e+00,\n",
       "        2.96557595e-01,  6.00023040e-01, -2.56177116e-02, -1.38249674e-02,\n",
       "        7.96866227e-01,  5.50161190e-01,  7.03481906e-02,  1.78309299e-01,\n",
       "        7.82355705e-01,  4.74495886e-01,  4.73039878e-01,  5.52462083e-01,\n",
       "        2.24024761e-01, -8.66362526e-01,  5.89542723e-02,  6.39302766e-01,\n",
       "        1.20431801e+00, -5.81396323e-01,  1.41007797e-01,  2.13696326e-02,\n",
       "       -1.00115403e+00,  8.98219012e-02,  5.00001061e-01,  5.04537800e-01,\n",
       "       -1.45074991e-02,  2.74492201e-01, -5.34406704e-02,  2.79148623e-01,\n",
       "        5.16769798e-01,  2.49417375e-01, -8.76758713e-02,  7.69764490e-01,\n",
       "       -2.23438638e-02,  3.13428780e-01,  2.61878082e-01,  1.15509869e-01,\n",
       "        3.37027115e-01,  5.13757942e-02,  8.52186352e-01,  7.11819531e-02,\n",
       "       -6.28827652e-01, -3.93943727e-01,  5.54237794e-01,  5.72919830e-01,\n",
       "       -1.84843502e-01,  9.77414396e-01,  2.53597427e-01,  1.24508244e+00,\n",
       "       -3.13719276e-01,  1.68392282e-01,  8.80946460e-01,  1.17358948e+00,\n",
       "        1.11629621e+00, -2.91621151e-01,  2.42938072e-01, -3.54945397e-01,\n",
       "       -3.51852368e-01, -3.86222252e-01, -2.86950740e-01,  4.66407956e-01,\n",
       "        5.01112369e-01,  3.66077071e-01,  7.69758162e-01,  1.70543874e-01,\n",
       "        2.96922740e-01,  5.63214650e-01,  4.03829169e-01,  8.31508734e-02,\n",
       "        2.82169748e-01,  3.64268390e-01,  4.54201694e-01,  8.83827474e-01,\n",
       "       -1.68249170e-01,  8.27198703e-01,  2.89443668e-01,  1.85603947e-01,\n",
       "        5.26220934e-01,  5.61828720e-01, -2.54284767e-01,  3.65731518e-01,\n",
       "        6.71882577e-01,  4.40234316e-01,  9.66585493e-01, -1.59878816e-01,\n",
       "        1.13012720e-01, -2.23563311e-01,  2.70522776e-01, -3.28520394e-01,\n",
       "        9.68362872e-01,  1.08461888e+00,  9.96273966e-01, -4.31355344e-01,\n",
       "        2.60059469e-01,  2.40649365e-02, -8.43953128e-02,  6.62894367e-01,\n",
       "       -4.59407510e-02,  3.84259405e-01,  9.96542963e-01,  9.26714073e-01,\n",
       "       -4.30053122e-01,  6.37871365e-01,  1.14551942e+00, -2.11828102e-01,\n",
       "        7.17616844e-01,  4.74194843e-01, -1.35738748e-01,  1.21414653e-01,\n",
       "       -1.85858223e-01, -1.37459926e-01,  5.10611012e-01,  8.99896593e-01,\n",
       "        4.13047710e-01,  1.27585778e+00,  9.54327785e-01,  1.31275217e-01,\n",
       "        4.15654213e-01,  1.34251578e+00, -9.31096592e-02,  1.00455488e-01,\n",
       "        1.18749420e+00,  8.00077318e-02,  4.41921497e-01,  1.40697356e-01,\n",
       "        5.13520362e-01,  5.59928483e-01,  4.29165840e-01,  9.37053959e-01,\n",
       "       -1.26080411e-02,  5.21033485e-01, -7.04734136e-01,  3.51667881e-01,\n",
       "        1.07728740e+00,  3.40923988e-01,  3.22222390e-01,  6.25664733e-01,\n",
       "        2.31766133e-01,  1.69740398e-01, -4.30244910e-02,  6.14451215e-01,\n",
       "        9.93776819e-01,  2.60829918e-01, -2.20125951e-01,  7.57560649e-01,\n",
       "        2.04417553e-01,  3.38540022e-01,  1.30674349e+00, -3.39925973e-01,\n",
       "       -1.83204194e-02,  9.29680961e-01,  6.73579115e-01,  5.46841254e-01,\n",
       "       -2.76546577e-01, -9.50882983e-02, -3.47036817e-01, -3.19516837e-01,\n",
       "        3.81738546e-01, -4.46632358e-01,  2.63076671e-01, -1.94659809e-01,\n",
       "        9.74274707e-01,  1.36810043e-01, -5.95597303e-01,  9.97116432e-01,\n",
       "        4.05686156e-01,  8.59413715e-01,  7.47052607e-02,  1.43453271e-01,\n",
       "        7.20465729e-01,  9.56783365e-02,  3.88158748e-01,  1.02390926e+00,\n",
       "        2.18691588e-01,  7.57698784e-02,  3.23427330e-01,  4.56625155e-01,\n",
       "        1.05054403e-01, -4.64363266e-02,  3.83108254e-01,  3.30084886e-01,\n",
       "        5.72613327e-01,  9.84472738e-01,  6.88661523e-01,  2.72947078e-01,\n",
       "        1.79168951e-01, -6.13478587e-02, -5.38685159e-01,  1.31313409e-01,\n",
       "       -2.25372000e-01,  7.63936346e-01,  4.50712314e-01,  9.17630448e-01,\n",
       "       -2.54496682e-01,  4.34251713e-01,  1.69870786e+00,  5.47159191e-01,\n",
       "        2.41322547e-01,  1.01763871e+00, -4.19933123e-01,  1.09425385e+00]), y=array([ 276.14862839,  326.01267865,    5.29338494,  321.82245174,\n",
       "         15.81440008,  455.19734697,    7.94136317,    8.49620662,\n",
       "         11.17231181,    1.99313708,   20.09039232,   20.65071172,\n",
       "         70.84859254,  398.75370235,   44.51533619,    3.98109485,\n",
       "          5.25103585,  491.95760767,  516.74571053,  839.55390747,\n",
       "        352.53888097,   15.33545007,  712.19682875,  369.38944594,\n",
       "          7.35224956,  576.81495618,   15.20344555,    4.72210949,\n",
       "          7.03663864,    5.96382082,    9.32585179, 1486.45301969,\n",
       "       1319.23044207,  664.07731651, 1101.20507977,  572.90319364,\n",
       "         17.68877453,  404.0218483 ,    3.86113034,   21.99136937,\n",
       "        387.54943557,  711.6086402 , 1390.07079009,  424.38532215,\n",
       "        180.72355015,  424.03548144,  497.22892572,    5.11615296,\n",
       "        212.47757494,   12.43599134,    8.71849942,   11.98560878,\n",
       "        205.68192342,  627.90451484,   18.14580848,  133.18856011,\n",
       "          5.00965416,  505.04596529,   95.74560987,   30.75979797,\n",
       "          5.64745814,   11.8191874 ,  631.06149323,   20.4976662 ,\n",
       "        317.65588517,   37.69175883,  383.15149881,  518.14866775,\n",
       "          4.64999051,  407.8097375 , 1261.41251179,  446.36046717,\n",
       "        221.92556651,  619.99483897,  852.96190769,  246.14673749,\n",
       "         23.1337867 , 1841.7107429 ,  253.68737798,    8.0173189 ,\n",
       "         10.33585685,  903.80995818,    7.09135144,    5.64428075,\n",
       "        100.36679207,  171.03988434,    6.84964672,    2.80399821,\n",
       "        871.99101394,  437.67908586,  964.20428684,  410.8788034 ,\n",
       "         17.60268483,    7.91776087,  204.42071418,  984.85376349,\n",
       "        208.10286656,  327.08426735,  256.09825519,    7.23430408]), s=array([1.50477250e-01, 1.10580037e-01, 5.37185415e+00, 9.39758063e-02,\n",
       "       2.07815384e+00, 5.70198181e-02, 3.66085079e+00, 3.10258961e+00,\n",
       "       2.98235200e+00, 9.34155853e+00, 1.40875769e+00, 1.57127860e+00,\n",
       "       6.73122294e-01, 7.70258109e-02, 4.36582035e-01, 5.32663751e+00,\n",
       "       4.92325312e+00, 6.46822068e-02, 3.72913558e-02, 2.93169820e-02,\n",
       "       6.97546978e-02, 2.15187963e+00, 2.95865298e-02, 7.19287487e-02,\n",
       "       4.13795129e+00, 4.64554607e-02, 2.24338631e+00, 5.61941343e+00,\n",
       "       3.07667856e+00, 5.13863174e+00, 2.97580355e+00, 1.59425193e-02,\n",
       "       1.70172051e-02, 4.02203993e-02, 2.14106334e-02, 4.98438741e-02,\n",
       "       1.56045068e+00, 7.65460855e-02, 5.39817673e+00, 1.24289693e+00,\n",
       "       8.79196970e-02, 3.49130681e-02, 1.51122597e-02, 2.38105626e-02,\n",
       "       2.13890665e-01, 2.32420253e-02, 3.87139722e-02, 4.26326688e+00,\n",
       "       7.15473310e-02, 2.20656156e+00, 3.56342875e+00, 1.80118015e+00,\n",
       "       1.78274144e-01, 6.17618067e-01, 1.81551923e+00, 6.32242569e-01,\n",
       "       2.21845161e+00, 5.07689143e-02, 4.42156940e-01, 8.69967572e-01,\n",
       "       5.33169244e+00, 2.81465824e+00, 4.35308129e-02, 1.61643138e+00,\n",
       "       7.39272655e-02, 9.88815968e-01, 8.01585867e-02, 4.65476375e-02,\n",
       "       4.53664709e+00, 5.51139230e-02, 1.93870790e-02, 4.44105227e-02,\n",
       "       6.43530807e-02, 2.06452290e+00, 2.73625809e-02, 1.18152704e-01,\n",
       "       1.20367462e+00, 1.12207960e-02, 1.33001687e-01, 1.84590357e+00,\n",
       "       2.68772751e+00, 2.82108429e-02, 3.52750359e+00, 4.01880894e+00,\n",
       "       3.15907362e-01, 2.53388196e-01, 3.63073478e+00, 5.13100611e+00,\n",
       "       3.32332459e-02, 4.94165621e-02, 2.66169049e-02, 6.63399538e-02,\n",
       "       1.90294366e+00, 2.75324440e+00, 2.21583940e-01, 2.31856721e-02,\n",
       "       2.00715886e-01, 1.00625567e-01, 2.13255235e-03, 4.19723314e+00]), history=   iter         primal     dual_res  cons_viol      comp_res       KKT_res  \\\n",
       "0     1  693147.180560  1842.738732   6.418391    284.243092   1842.738732   \n",
       "1     2  698723.839540  1547.883582   5.364904  14779.331942  14779.331942   \n",
       "2     3  686463.362373  1086.209101   3.653095  10468.241360  10468.241360   \n",
       "3     4  656988.485723   493.776921   1.274336   4791.464227   4791.464227   \n",
       "4     5  640529.578058    83.687312   0.037572   1279.993546   1279.993546   \n",
       "\n",
       "           mu        Δx      step  cum_time  \n",
       "0  486.002320  0.362974  0.033878  0.123228  \n",
       "1  109.874755  0.541537  0.164136  0.213600  \n",
       "2   68.487350  0.355111  0.319075  0.310083  \n",
       "3   24.585905  0.573253  0.651163  0.410536  \n",
       "4   15.282125  0.444370  0.970517  0.508920  , convergence_tag='maximum_iter')"
      ]
     },
     "execution_count": 6,
     "metadata": {},
     "output_type": "execute_result"
    }
   ],
   "source": [
    "f,A,Q,C,c,b = build_random_logistic(m = 10000,n = 500,k = 100,density=0.1, seed = 2)\n",
    "settings = SolverSettings(max_iter =5)\n",
    "problem = GLMProblem(f,A,Q,C,c,b,settings)\n",
    "x,results = problem.solve()\n",
    "results"
   ]
  },
  {
   "cell_type": "code",
   "execution_count": null,
   "metadata": {},
   "outputs": [
    {
     "name": "stdout",
     "output_type": "stream",
     "text": [
      "===============================================================================\n",
      "                                     CVXPY                                     \n",
      "                                     v1.6.5                                    \n",
      "===============================================================================\n",
      "(CVXPY) Apr 18 10:08:32 PM: Your problem has 500 variables, 0 constraints, and 0 parameters.\n",
      "(CVXPY) Apr 18 10:08:32 PM: It is compliant with the following grammars: DCP, DQCP\n",
      "(CVXPY) Apr 18 10:08:32 PM: (If you need to solve this problem multiple times, but with different data, consider using parameters.)\n",
      "(CVXPY) Apr 18 10:08:32 PM: CVXPY will first compile your problem; then, it will invoke a numerical solver to obtain a solution.\n",
      "(CVXPY) Apr 18 10:08:32 PM: Your problem is compiled with the CPP canonicalization backend.\n",
      "-------------------------------------------------------------------------------\n",
      "                                  Compilation                                  \n",
      "-------------------------------------------------------------------------------\n",
      "(CVXPY) Apr 18 10:08:32 PM: Compiling problem (target solver=CLARABEL).\n",
      "(CVXPY) Apr 18 10:08:32 PM: Reduction chain: Dcp2Cone -> CvxAttr2Constr -> ConeMatrixStuffing -> CLARABEL\n",
      "(CVXPY) Apr 18 10:08:32 PM: Applying reduction Dcp2Cone\n",
      "(CVXPY) Apr 18 10:08:32 PM: Applying reduction CvxAttr2Constr\n",
      "(CVXPY) Apr 18 10:08:32 PM: Applying reduction ConeMatrixStuffing\n",
      "(CVXPY) Apr 18 10:08:32 PM: Applying reduction CLARABEL\n",
      "(CVXPY) Apr 18 10:08:32 PM: Finished problem compilation (took 1.079e-01 seconds).\n",
      "-------------------------------------------------------------------------------\n",
      "                                Numerical solver                               \n",
      "-------------------------------------------------------------------------------\n",
      "(CVXPY) Apr 18 10:08:32 PM: Invoking solver CLARABEL  to obtain a solution.\n",
      "-------------------------------------------------------------\n",
      "           Clarabel.rs v0.10.0  -  Clever Acronym                \n",
      "\n",
      "                   (c) Paul Goulart                          \n",
      "                University of Oxford, 2022                   \n",
      "-------------------------------------------------------------\n",
      "\n",
      "problem:\n",
      "  variables     = 31000\n",
      "  constraints   = 71000\n",
      "  nnz(P)        = 0\n",
      "  nnz(A)        = 112000\n",
      "  cones (total) = 20001\n",
      "    : Nonnegative = 1,  numel = 11000\n",
      "    : Exponential = 20000,  numel = (3,3,3,3,...,3)\n",
      "\n",
      "settings:\n",
      "  linear algebra: direct / qdldl, precision: 64 bit\n",
      "  max iter = 200, time limit = Inf,  max step = 0.990\n",
      "  tol_feas = 1.0e-8, tol_gap_abs = 1.0e-8, tol_gap_rel = 1.0e-8,\n",
      "  static reg : on, ϵ1 = 1.0e-8, ϵ2 = 4.9e-32\n",
      "  dynamic reg: on, ϵ = 1.0e-13, δ = 2.0e-7\n",
      "  iter refine: on, reltol = 1.0e-13, abstol = 1.0e-12,\n",
      "               max iter = 10, stop ratio = 5.0\n",
      "  equilibrate: on, min_scale = 1.0e-4, max_scale = 1.0e4\n",
      "               max iter = 10\n",
      "\n",
      "iter    pcost        dcost       gap       pres      dres      k/t        μ       step      \n",
      "---------------------------------------------------------------------------------------------\n",
      "  0  +0.0000e+00  -2.1128e+04  2.11e+04  9.06e-01  1.85e+01  1.00e+00  1.00e+00   ------   \n",
      "  1  -6.7032e+04  -8.8036e+04  3.13e-01  7.26e-01  1.62e+01  3.76e+00  2.64e-01  7.92e-01  \n",
      "  2  -3.7436e+05  -3.9475e+05  5.45e-02  6.26e-01  1.01e+01  1.68e+01  5.66e-02  7.92e-01  \n",
      "  3  -1.3262e+06  -1.3440e+06  1.34e-02  6.22e-01  3.67e+00  6.46e+01  1.21e-02  7.92e-01  \n",
      "  4  -1.0906e+06  -1.1012e+06  9.72e-03  4.71e-01  8.25e-01  1.35e+02  2.60e-03  7.92e-01  \n",
      "  5  +3.1078e+06  +3.1039e+06  1.27e-03  1.79e-01  1.45e-01  1.06e+02  5.57e-04  7.92e-01  \n",
      "  6  +5.7887e+06  +5.7876e+06  1.97e-04  4.89e-02  2.91e-02  4.53e+01  1.19e-04  7.92e-01  \n",
      "  7  +6.6489e+06  +6.6486e+06  3.99e-05  1.11e-02  6.13e-03  1.08e+01  2.56e-05  7.92e-01  \n",
      "  8  +6.8424e+06  +6.8423e+06  8.43e-06  2.39e-03  1.31e-03  2.27e+00  5.50e-06  7.91e-01  \n",
      "  9  +6.8838e+06  +6.8838e+06  1.80e-06  5.11e-04  2.81e-04  4.75e-01  1.18e-06  7.92e-01  \n",
      " 10  +6.8947e+06  +6.8947e+06  5.00e-08  1.42e-05  7.82e-06  1.14e-02  3.28e-08  9.80e-01  \n",
      " 11  +6.8950e+06  +6.8950e+06  1.39e-09  3.94e-07  2.17e-07  2.93e-04  9.12e-10  9.80e-01  \n",
      " 12  +6.8950e+06  +6.8950e+06  5.17e-10  1.46e-07  8.08e-08  1.09e-04  3.39e-10  6.34e-01  \n",
      " 13  +6.8950e+06  +6.8950e+06  3.17e-10  8.97e-08  4.95e-08  6.62e-05  2.08e-10  4.06e-01  \n",
      " 14  +6.8950e+06  +6.8950e+06  2.56e-10  7.23e-08  3.99e-08  5.19e-05  1.67e-10  3.24e-01  \n",
      " 15  +6.8950e+06  +6.8950e+06  2.29e-10  6.47e-08  3.57e-08  4.56e-05  1.50e-10  2.08e-01  \n",
      " 16  +6.8950e+06  +6.8950e+06  2.29e-10  6.47e-08  3.57e-08  4.56e-05  1.50e-10  0.00e+00  \n",
      " 17  +6.8950e+06  +6.8950e+06  1.00e-10  2.84e-08  1.57e-08  2.26e-05  5.33e-11  6.34e-01  \n",
      " 18  +6.8950e+06  +6.8950e+06  8.67e-11  2.45e-08  1.36e-08  1.92e-05  4.68e-11  1.66e-01  \n",
      " 19  +6.8950e+06  +6.8950e+06  7.19e-11  2.03e-08  1.12e-08  1.57e-05  3.96e-11  2.08e-01  \n",
      " 20  +6.8950e+06  +6.8950e+06  6.87e-11  1.94e-08  1.07e-08  1.49e-05  3.80e-11  5.44e-02  \n",
      " 21  +6.8950e+06  +6.8950e+06  6.74e-11  1.91e-08  1.05e-08  1.46e-05  3.73e-11  2.23e-02  \n",
      " 22  +6.8950e+06  +6.8950e+06  6.74e-11  1.90e-08  1.05e-08  1.46e-05  3.73e-11  7.10e-04  \n",
      " 23  +6.8950e+06  +6.8950e+06  6.54e-11  1.85e-08  1.02e-08  1.41e-05  3.64e-11  3.48e-02  \n",
      " 24  +6.8950e+06  +6.8950e+06  6.50e-11  1.84e-08  1.02e-08  1.41e-05  3.62e-11  7.30e-03  \n",
      " 25  +6.8950e+06  +6.8950e+06  6.34e-11  1.79e-08  9.90e-09  1.37e-05  3.54e-11  3.48e-02  \n",
      " 26  +6.8950e+06  +6.8950e+06  6.30e-11  1.78e-08  9.84e-09  1.36e-05  3.52e-11  7.30e-03  \n",
      " 27  +6.8950e+06  +6.8950e+06  5.75e-11  1.62e-08  8.98e-09  1.23e-05  3.24e-11  1.06e-01  \n",
      " 28  +6.8950e+06  +6.8950e+06  5.47e-11  1.54e-08  8.54e-09  1.16e-05  3.09e-11  6.80e-02  \n",
      " 29  +6.8950e+06  +6.8950e+06  5.41e-11  1.53e-08  8.45e-09  1.15e-05  3.06e-11  1.43e-02  \n",
      " 30  +6.8950e+06  +6.8950e+06  5.17e-11  1.46e-08  8.07e-09  1.09e-05  2.94e-11  5.44e-02  \n",
      " 31  +6.8950e+06  +6.8950e+06  5.03e-11  1.42e-08  7.86e-09  1.06e-05  2.87e-11  3.48e-02  \n",
      " 32  +6.8950e+06  +6.8950e+06  4.68e-11  1.32e-08  7.31e-09  9.81e-06  2.69e-11  8.50e-02  \n",
      " 33  +6.8950e+06  +6.8950e+06  4.68e-11  1.32e-08  7.30e-09  9.79e-06  2.69e-11  1.53e-03  \n",
      " 34  +6.8950e+06  +6.8950e+06  4.60e-11  1.30e-08  7.18e-09  9.61e-06  2.65e-11  2.23e-02  \n",
      " 35  +6.8950e+06  +6.8950e+06  4.57e-11  1.29e-08  7.14e-09  9.55e-06  2.63e-11  9.13e-03  \n",
      " 36  +6.8950e+06  +6.8950e+06  4.52e-11  1.28e-08  7.05e-09  9.42e-06  2.60e-11  1.43e-02  \n",
      " 37  +6.8950e+06  +6.8950e+06  4.49e-11  1.27e-08  7.01e-09  9.36e-06  2.59e-11  9.13e-03  \n",
      " 38  +6.8950e+06  +6.8950e+06  4.41e-11  1.25e-08  6.88e-09  9.19e-06  2.54e-11  2.23e-02  \n",
      " 39  +6.8950e+06  +6.8950e+06  4.39e-11  1.24e-08  6.85e-09  9.14e-06  2.53e-11  5.84e-03  \n",
      " 40  +6.8950e+06  +6.8950e+06  4.37e-11  1.23e-08  6.82e-09  9.06e-06  2.52e-11  2.79e-02  \n",
      " 41  +6.8950e+06  +6.8950e+06  4.29e-11  1.21e-08  6.69e-09  8.85e-06  2.48e-11  3.48e-02  \n",
      " 42  +6.8950e+06  +6.8950e+06  4.17e-11  1.18e-08  6.51e-09  8.57e-06  2.42e-11  4.35e-02  \n",
      " 43  +6.8950e+06  +6.8950e+06  4.04e-11  1.14e-08  6.30e-09  8.28e-06  2.35e-11  4.35e-02  \n",
      " 44  +6.8950e+06  +6.8950e+06  4.04e-11  1.14e-08  6.30e-09  8.28e-06  2.35e-11  2.57e-04  \n",
      " 45  +6.8950e+06  +6.8950e+06  3.56e-11  1.01e-08  5.55e-09  7.20e-06  2.10e-11  1.66e-01  \n",
      " 46  +6.8950e+06  +6.8950e+06  3.39e-11  9.57e-09  5.28e-09  6.81e-06  2.00e-11  6.80e-02  \n",
      "---------------------------------------------------------------------------------------------\n",
      "Terminated with status = Solved\n",
      "solve time = 3.559297794s\n",
      "-------------------------------------------------------------------------------\n",
      "                                    Summary                                    \n",
      "-------------------------------------------------------------------------------\n",
      "(CVXPY) Apr 18 10:08:35 PM: Problem status: optimal\n",
      "(CVXPY) Apr 18 10:08:35 PM: Optimal value: 6.895e+06\n",
      "(CVXPY) Apr 18 10:08:35 PM: Compilation took 1.079e-01 seconds\n",
      "(CVXPY) Apr 18 10:08:35 PM: Solver (including time spent in interface) took 3.602e+00 seconds\n"
     ]
    },
    {
     "data": {
      "text/plain": [
       "6895002.804744771"
      ]
     },
     "execution_count": 46,
     "metadata": {},
     "output_type": "execute_result"
    }
   ],
   "source": [
    "import cvxpy as cp\n",
    "from scipy.sparse import csc_array\n",
    "A = csc_array(A)[:,:n]\n",
    "n = A.shape[1]\n",
    "\n",
    "beta = cp.Variable(n)\n",
    "lambd = cp.Parameter(nonneg=True)\n",
    "neg_log_likelihood = cp.sum(\n",
    "    cp.multiply(f.w,cp.logistic(A @ beta)- cp.multiply(f.y, A @ beta))\n",
    ")\n",
    "regularization = lam*cp.norm1(beta)\n",
    "\n",
    "problem  = cp.Problem(cp.Minimize(\n",
    "    (neg_log_likelihood + regularization))\n",
    ")\n",
    "problem.solve(verbose = True)"
   ]
  },
  {
   "cell_type": "code",
   "execution_count": null,
   "metadata": {},
   "outputs": [
    {
     "data": {
      "text/plain": [
       "array([ 1.34265808e-08,  9.35114965e-09, -1.01217303e-08,  1.09785515e-08,\n",
       "       -4.10017126e-10, -9.25765933e-07, -1.44884156e-08,  4.21586655e-09,\n",
       "       -9.63034852e-09,  1.42020135e-08,  1.22822143e-09,  8.31120310e-09,\n",
       "        8.21623340e-10, -2.55792442e-06, -1.27086995e-09,  7.10121834e-09,\n",
       "       -3.89341429e-08, -8.12517532e-09, -9.11306057e-09, -5.02486714e-09,\n",
       "        1.65207328e-08,  3.22499648e-09, -5.80635306e-10, -9.14598574e-09,\n",
       "       -6.17953893e-09, -1.16025300e-08, -1.26827998e-08,  3.08976516e-10,\n",
       "        9.43296171e-09, -6.84009702e-09,  4.65827380e-06, -2.13449224e-08,\n",
       "       -3.77439247e-09,  3.19521836e-08, -6.43548452e-09,  1.01632008e-08,\n",
       "       -5.81425913e-10,  4.38326499e-09,  3.75066090e-09, -1.00789742e-08,\n",
       "        1.34041948e-08,  5.20615164e-09, -1.91229984e-08,  9.49687353e-10,\n",
       "       -6.00942407e-09,  1.07385173e-08,  4.95525185e-09,  6.01460940e-09,\n",
       "       -7.74996554e-09,  1.15448531e-08,  1.11050151e-09,  1.04141727e-08,\n",
       "        1.45683462e-08,  3.04128597e-08,  4.03100949e-08,  1.39928689e-08,\n",
       "        1.11951631e-09,  1.66006840e-08,  8.93180126e-06, -1.26909609e-08,\n",
       "        8.88457032e-09, -1.42412368e-08,  4.94017929e-09, -1.56710459e-08,\n",
       "       -1.69818305e-08, -1.38596278e-08, -8.98846455e-09, -1.81347830e-08,\n",
       "        2.85451519e-06, -4.55834371e-09, -1.87584382e-06, -1.10826785e-09,\n",
       "       -6.91583725e-09, -9.20386138e-09, -4.00410697e-09,  1.77594954e-08,\n",
       "       -4.54359232e-09,  8.92671057e-09, -9.41321284e-09,  1.65075822e-08,\n",
       "       -6.15050146e-09,  1.65355437e-08, -1.81514684e-08,  1.30595095e-08,\n",
       "       -3.60750581e-08,  4.14076511e-08, -9.69928574e-09,  7.93355323e-10,\n",
       "        1.47023029e-08,  6.25762079e-09, -5.40281850e-09,  2.48289639e-08,\n",
       "       -7.12591305e-06,  4.83515843e-09,  2.61710847e-09, -1.66482007e-09,\n",
       "        9.42656335e-09, -1.52277042e-08, -5.83806965e-08,  1.27442126e-10,\n",
       "       -1.67901453e-09,  1.81458991e-08,  4.65580173e-09,  1.15208644e-08,\n",
       "        3.34336671e-09,  1.89988505e-08, -2.18218978e-09, -7.57060113e-09,\n",
       "       -1.52751789e-08, -1.21619741e-08, -3.56370284e-08,  1.70116924e-08,\n",
       "        1.53106780e-08,  2.70998448e-08, -9.65764146e-09,  6.52136175e-09,\n",
       "       -3.12442063e-09,  1.41861552e-08,  4.40501442e-09, -7.24137041e-07,\n",
       "        2.94468401e-06,  1.13490656e-08,  2.80745379e-08, -1.81264565e-09,\n",
       "       -1.38152590e-08,  1.01205807e-08,  1.06438975e-08, -1.02733386e-08,\n",
       "        3.63213136e-10,  2.40062305e-08, -3.60759154e-09,  2.88582898e-08,\n",
       "        1.44369122e-08,  2.21172152e-09, -6.70907402e-09,  2.66754561e-08,\n",
       "       -8.39623983e-09, -1.76587102e-08,  1.76645034e-08,  1.71399777e-08,\n",
       "        1.75547833e-09,  2.31550642e-08, -1.43551923e-08,  4.94379452e-09,\n",
       "        2.82244536e-09,  3.28772748e-06, -8.80372618e-06, -1.84652329e-06,\n",
       "       -1.36089409e-08, -2.37365616e-08, -9.67752639e-09, -1.08701241e-08,\n",
       "        5.91445864e-09, -6.64180129e-09,  1.08613291e-09, -1.63127038e-08,\n",
       "       -1.37694553e-08, -6.23456086e-09, -2.10669239e-08, -1.67565234e-08,\n",
       "        8.04684358e-09, -3.79032998e-07, -5.17168845e-09, -1.69623532e-08,\n",
       "        2.16507765e-08,  8.26075196e-09,  2.73113790e-08, -3.81073500e-09,\n",
       "       -9.31658830e-10,  8.29538177e-09, -1.67473678e-09, -7.45545092e-09,\n",
       "        1.96892686e-09, -2.18887574e-08, -5.82608541e-09, -6.68797804e-09,\n",
       "       -7.96095021e-09,  7.40405147e-09, -8.14647701e-09, -6.04150290e-09,\n",
       "        7.57217571e-09,  2.93753846e-09, -1.39753222e-08,  1.67548288e-09,\n",
       "       -2.59602743e-09,  3.12558648e-08, -2.85888552e-09, -5.97715766e-09,\n",
       "        1.85652553e-08, -3.61344368e-09, -2.97114881e-10,  1.27297904e-08,\n",
       "       -2.71148355e-09,  2.18250163e-06, -1.84513317e-08, -4.00151093e-09,\n",
       "       -1.54765818e-09, -1.96312985e-08,  9.15698008e-09,  3.09832987e-10,\n",
       "        9.34996886e-09,  6.29775925e-09,  3.36420508e-08,  1.01312753e-08,\n",
       "        1.12731587e-08,  2.16083868e-09,  1.20844791e-08, -1.92512829e-08,\n",
       "        4.22188340e-11,  1.43752380e-08,  1.04476909e-08,  2.85644087e-09,\n",
       "       -5.19234615e-09,  1.14986934e-08,  1.38781279e-08,  5.48853016e-09,\n",
       "       -1.56828195e-08,  1.46459656e-08,  3.42443047e-09, -5.78070878e-09,\n",
       "        1.15405295e-06,  6.89854273e-09, -9.72938620e-09, -1.44254626e-08,\n",
       "        2.19233945e-08,  1.68659706e-08, -1.79988652e-08, -1.92144162e-09,\n",
       "       -3.70003375e-09,  3.34986864e-09,  3.45625352e-09,  1.54721984e-08,\n",
       "       -5.90653509e-09,  7.39919332e-09,  2.62514520e-09, -3.61591388e-10,\n",
       "        3.93495109e-09, -1.43791707e-08, -3.09093336e-08, -5.63725186e-10,\n",
       "        2.22010636e-08,  6.56529747e-09,  8.59119916e-09, -7.50354091e-09,\n",
       "       -3.84693465e-09, -1.19692866e-08,  4.26036510e-10, -5.67563036e-10,\n",
       "       -2.48394803e-09,  3.60627387e-06,  6.29735822e-09, -2.58002482e-09,\n",
       "       -1.42358489e-09,  1.61546397e-08,  5.65185734e-09,  1.35040720e-08,\n",
       "        3.58412957e-08,  4.47956838e-10,  1.55845601e-08, -8.22127550e-09,\n",
       "       -3.74891950e-09, -1.98306783e-08, -1.86045417e-08, -2.21803774e-09,\n",
       "        4.15970250e-09, -1.09810689e-08,  9.49250028e-09, -1.94551157e-09,\n",
       "        1.59179979e-08,  3.28780277e-09,  1.26261843e-08, -7.43172074e-07,\n",
       "       -2.54075035e-10,  6.05526186e-09,  5.47180919e-09, -5.81806342e-09,\n",
       "        4.43492937e-09, -3.07755322e-08,  3.70138321e-09,  6.05740929e-09,\n",
       "        9.85198669e-07, -2.81200318e-09, -3.52079519e-08, -3.57465963e-09,\n",
       "       -3.10687668e-09,  2.59188060e-09, -4.79519058e-10,  4.93387703e-06,\n",
       "       -4.51458686e-10, -9.52808736e-07, -2.09762421e-06, -1.47660708e-09,\n",
       "       -3.65221581e-09, -3.34067784e-10,  2.63883972e-09, -6.58890062e-06,\n",
       "        6.22550594e-10,  4.48383259e-09,  1.57280830e-09, -2.41832218e-09,\n",
       "       -1.64147555e-08, -7.77856624e-09,  7.70440982e-07, -7.36389503e-09,\n",
       "       -3.54456170e-09,  1.63947518e-09, -8.85262246e-09,  9.45599914e-09,\n",
       "        1.41415975e-08,  1.24575327e-08,  6.05818918e-09, -7.20397420e-06,\n",
       "        6.76506616e-09,  5.11635687e-09,  3.82375505e-09, -6.50476916e-09,\n",
       "        1.56968556e-08, -1.09541104e-08, -1.02237498e-08, -4.86902799e-09,\n",
       "       -2.32652568e-09,  4.93985315e-09,  1.34983895e-08,  1.53702528e-08,\n",
       "       -2.45676537e-09,  2.15021741e-08,  1.95487037e-08, -7.89789471e-09,\n",
       "        1.37346154e-08,  9.37693733e-11, -1.82630483e-08,  1.74573301e-08,\n",
       "       -9.83557273e-07,  1.12298677e-08,  1.21418817e-09, -3.37079401e-09,\n",
       "       -3.48699229e-09,  8.45687923e-09, -2.64787628e-09,  4.44867088e-09,\n",
       "       -1.91607758e-06, -1.34254762e-08,  7.62919746e-09,  6.03758613e-09,\n",
       "        1.69700102e-09,  8.69791223e-09, -5.57809311e-09,  2.31032349e-08,\n",
       "       -1.92534492e-09, -2.40615189e-09, -3.42604209e-06, -6.31014397e-09,\n",
       "        2.95558702e-09, -2.14885158e-08, -3.70908021e-09, -1.87019170e-08,\n",
       "        3.65071570e-09,  6.22689184e-09, -1.10782076e-06, -7.37378594e-09,\n",
       "       -2.93284705e-08,  3.21701895e-09,  1.01951872e-08, -1.00173260e-08,\n",
       "        8.31334940e-07, -1.17666717e-08, -1.46261518e-08,  1.41070523e-08,\n",
       "       -2.18062186e-09,  4.12011677e-09,  2.31395859e-09,  1.78601280e-08,\n",
       "        8.35205875e-06, -2.74505472e-09,  6.89508035e-09, -6.24583850e-06,\n",
       "        7.53813549e-09, -1.75661051e-08, -8.40410811e-09,  1.71815390e-08,\n",
       "        9.15127431e-09, -6.28114028e-09,  2.90976215e-06, -1.04577925e-08,\n",
       "        7.91712664e-09,  3.86526156e-07, -3.75434290e-09, -6.37613906e-09,\n",
       "        1.90705014e-09, -8.64899764e-09, -3.01195038e-10,  3.90444823e-09,\n",
       "       -4.70739407e-09, -2.09430879e-06, -1.46653071e-08,  4.49446241e-09,\n",
       "        6.33022310e-09,  1.20360823e-09, -6.82891373e-09, -7.80079291e-09,\n",
       "       -6.29803271e-10, -1.11076952e-08, -2.99874492e-09,  5.68315598e-09,\n",
       "       -3.69467089e-08,  2.04299952e-07, -4.88836905e-09, -1.22926780e-08,\n",
       "        2.35825335e-09, -2.65922731e-09,  1.83112819e-08, -8.37030609e-09,\n",
       "        1.28878928e-09, -1.08181458e-08,  1.74545129e-08, -1.83920477e-08,\n",
       "        1.62889979e-08,  8.11822900e-09, -6.15682451e-09,  2.59061571e-08,\n",
       "       -1.39489719e-08,  9.49078347e-09, -5.68876102e-07,  2.98983493e-07,\n",
       "        4.48633791e-09,  1.81783578e-09,  3.24446461e-08,  7.28622268e-09,\n",
       "        1.23085363e-08,  1.79197267e-08, -1.43246649e-08,  1.63194300e-09,\n",
       "       -1.58103940e-05,  4.11622912e-09,  6.08601842e-09,  4.91812395e-09,\n",
       "        5.68762084e-09,  1.11419715e-08,  1.79882864e-08,  1.76267033e-08,\n",
       "       -3.72736851e-08, -6.77553645e-09,  2.23842614e-06,  5.04068346e-09,\n",
       "       -4.59683110e-09, -2.61644564e-09,  3.49919461e-09, -3.87177780e-09,\n",
       "        6.87532093e-09, -1.95541926e-08, -2.20655233e-10, -1.23629602e-08,\n",
       "        9.05772130e-09,  1.50125045e-08,  2.68764053e-06,  2.89384424e-09,\n",
       "        6.01470145e-09, -6.26033087e-09,  7.73489940e-09,  5.90536188e-09,\n",
       "        1.65596093e-08, -3.73016563e-09,  4.34954938e-09, -5.13284647e-09,\n",
       "       -3.07538181e-10, -1.69798772e-08,  2.04401761e-08, -1.20233475e-09,\n",
       "       -8.25746140e-08, -1.35062970e-08, -1.03925982e-06, -1.10595410e-08,\n",
       "       -1.26688866e-08, -1.47082150e-08,  3.87147594e-09, -9.27592582e-09,\n",
       "       -1.06110496e-08,  7.67064792e-09,  6.64865002e-09, -2.83345208e-08,\n",
       "        1.30028764e-08,  1.12941687e-08, -1.30064158e-06,  7.71077057e-10,\n",
       "       -1.13078073e-09, -7.12405228e-09,  8.07126662e-06, -8.12408607e-06,\n",
       "       -9.55116051e-10, -8.16040601e-09,  3.83152317e-10,  3.75418263e-09,\n",
       "       -9.33139749e-09, -4.99340825e-09,  1.14610293e-08, -2.21862962e-08,\n",
       "        4.80841455e-10, -4.00835840e-08,  1.78638457e-06,  6.44769170e-09])"
      ]
     },
     "execution_count": 47,
     "metadata": {},
     "output_type": "execute_result"
    }
   ],
   "source": [
    "beta.value - x"
   ]
  }
 ],
 "metadata": {
  "kernelspec": {
   "display_name": "spx-opt",
   "language": "python",
   "name": "python3"
  },
  "language_info": {
   "codemirror_mode": {
    "name": "ipython",
    "version": 3
   },
   "file_extension": ".py",
   "mimetype": "text/x-python",
   "name": "python",
   "nbconvert_exporter": "python",
   "pygments_lexer": "ipython3",
   "version": "3.12.2"
  }
 },
 "nbformat": 4,
 "nbformat_minor": 2
}
