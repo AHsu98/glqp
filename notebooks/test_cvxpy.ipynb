{
 "cells": [
  {
   "cell_type": "code",
   "execution_count": 20,
   "metadata": {},
   "outputs": [],
   "source": [
    "import numpy as np\n",
    "import pandas as pd\n",
    "import yaml\n",
    "from spxmod.model import XModel\n",
    "from scipy.sparse import spdiags,csc_matrix\n",
    "import matplotlib.pyplot as plt\n",
    "# environment: /mnt/team/msca/priv/jira/MSCA-399-rover-stage/env"
   ]
  },
  {
   "cell_type": "code",
   "execution_count": 2,
   "metadata": {},
   "outputs": [
    {
     "name": "stdout",
     "output_type": "stream",
     "text": [
      "NTCGSolver:\n",
      "niter=  0, fun=1.77e+08, gnorm=1.48e+07, xdiff=1.00e+00, step=1.00e+00\n",
      "niter=  1, fun=3.25e+07, gnorm=3.53e+06, xdiff=2.00e+00, step=1.00e+00, cg_iter=1\n",
      "niter=  2, fun=1.09e+07, gnorm=1.23e+06, xdiff=1.14e+00, step=1.00e+00, cg_iter=1\n",
      "niter=  3, fun=3.90e+06, gnorm=4.46e+05, xdiff=1.04e+00, step=1.00e+00, cg_iter=1\n",
      "niter=  4, fun=1.43e+06, gnorm=1.63e+05, xdiff=1.02e+00, step=1.00e+00, cg_iter=1\n",
      "niter=  5, fun=5.40e+05, gnorm=5.97e+04, xdiff=1.01e+00, step=1.00e+00, cg_iter=1\n",
      "niter=  6, fun=2.15e+05, gnorm=2.18e+04, xdiff=1.00e+00, step=1.00e+00, cg_iter=2\n",
      "niter=  7, fun=9.80e+04, gnorm=7.89e+03, xdiff=1.00e+00, step=1.00e+00, cg_iter=2\n",
      "niter=  8, fun=5.67e+04, gnorm=2.78e+03, xdiff=1.00e+00, step=1.00e+00, cg_iter=2\n",
      "niter=  9, fun=4.33e+04, gnorm=9.34e+02, xdiff=1.00e+00, step=1.00e+00, cg_iter=2\n",
      "niter= 10, fun=3.96e+04, gnorm=2.68e+02, xdiff=9.99e-01, step=1.00e+00, cg_iter=2\n",
      "niter= 11, fun=3.89e+04, gnorm=4.93e+01, xdiff=9.98e-01, step=1.00e+00, cg_iter=4\n",
      "niter= 12, fun=3.88e+04, gnorm=6.83e+00, xdiff=9.95e-01, step=1.00e+00, cg_iter=5\n",
      "niter= 13, fun=3.88e+04, gnorm=2.08e+00, xdiff=9.85e-01, step=1.00e+00, cg_iter=11\n",
      "niter= 14, fun=3.88e+04, gnorm=5.48e-01, xdiff=9.60e-01, step=1.00e+00, cg_iter=9\n",
      "niter= 15, fun=3.88e+04, gnorm=1.30e-01, xdiff=8.88e-01, step=1.00e+00, cg_iter=10\n",
      "niter= 16, fun=3.88e+04, gnorm=2.12e-02, xdiff=6.93e-01, step=1.00e+00, cg_iter=10\n",
      "niter= 17, fun=3.88e+04, gnorm=1.89e+01, xdiff=6.64e+08, step=3.73e-09, cg_iter=4200\n",
      "niter= 18, fun=3.88e+04, gnorm=7.97e-01, xdiff=2.81e-01, step=1.00e+00, cg_iter=17\n",
      "niter= 19, fun=3.88e+04, gnorm=1.68e-03, xdiff=3.38e-02, step=1.00e+00, cg_iter=19\n",
      "niter= 20, fun=3.88e+04, gnorm=7.94e+00, xdiff=3.95e+08, step=1.49e-08, cg_iter=4800\n",
      "niter= 21, fun=3.88e+04, gnorm=2.35e-01, xdiff=1.48e-01, step=1.00e+00, cg_iter=22\n",
      "niter= 22, fun=3.88e+04, gnorm=2.24e-04, xdiff=1.07e-02, step=1.00e+00, cg_iter=5\n"
     ]
    },
    {
     "name": "stderr",
     "output_type": "stream",
     "text": [
      "/ihme/homes/owlx/miniconda3/envs/spx-opt/lib/python3.12/site-packages/scipy/sparse/linalg/_isolve/iterative.py:412: RuntimeWarning: divide by zero encountered in scalar divide\n",
      "  alpha = rho_cur / dotprod(p, q)\n",
      "/ihme/homes/owlx/miniconda3/envs/spx-opt/lib/python3.12/site-packages/scipy/sparse/linalg/_isolve/iterative.py:406: RuntimeWarning: invalid value encountered in add\n",
      "  p += z\n"
     ]
    },
    {
     "name": "stdout",
     "output_type": "stream",
     "text": [
      "niter= 23, fun=3.88e+04, gnorm=2.07e-04, xdiff=3.49e-06, step=1.56e-02, cg_iter=5000\n",
      "niter= 24, fun=3.88e+04, gnorm=5.91e-04, xdiff=6.47e-06, step=3.12e-02, cg_iter=5000\n",
      "niter= 25, fun=3.88e+04, gnorm=2.61e-04, xdiff=4.61e-06, step=7.81e-03, cg_iter=5000\n",
      "niter= 26, fun=3.88e+04, gnorm=1.58e-04, xdiff=1.02e-06, step=3.91e-03, cg_iter=5000\n",
      "niter= 27, fun=3.88e+04, gnorm=7.93e-04, xdiff=9.88e-06, step=6.25e-02, cg_iter=5000\n",
      "niter= 28, fun=3.88e+04, gnorm=7.93e-04, xdiff=1.51e-09, step=1.91e-06, cg_iter=5000\n",
      "niter= 29, fun=3.88e+04, gnorm=7.92e-04, xdiff=7.56e-10, step=9.54e-07, cg_iter=5000\n",
      "niter= 30, fun=3.88e+04, gnorm=5.09e-04, xdiff=7.74e-07, step=9.77e-04, cg_iter=5000\n",
      "niter= 31, fun=3.88e+04, gnorm=4.63e-04, xdiff=1.24e-07, step=2.44e-04, cg_iter=5000\n",
      "niter= 32, fun=3.88e+04, gnorm=4.63e-04, xdiff=6.90e-12, step=1.49e-08, cg_iter=5000\n",
      "train: 1.1566022419588144e-05\n",
      "test: 1.3389779355447823e-05\n"
     ]
    }
   ],
   "source": [
    "with open(\"../spxmod_example/xmodel_config.yaml\", \"r\") as f:\n",
    "    xmodel_config = yaml.safe_load(f)\n",
    "\n",
    "data = pd.read_parquet(\"../spxmod_example/data.parquet\").query(\"train\")\n",
    "train = data.query(\"~holdout\").reset_index(drop=True)\n",
    "test = data.query(\"holdout\").reset_index(drop=True)\n",
    "\n",
    "xmodel = XModel.from_config(xmodel_config[\"xmodel\"])\n",
    "xmodel_config[\"xmodel_fit\"]['options']['gtol'] = 1e-6\n",
    "xmodel_config[\"xmodel_fit\"]['options']['xtol'] = 1e-10\n",
    "\n",
    "xmodel.fit(train, data_span=data, **xmodel_config[\"xmodel_fit\"])\n",
    "\n",
    "print(f\"train: {np.mean(np.abs(train['obs'] - xmodel.predict(train)))}\")\n",
    "print(f\"test: {np.mean(np.abs(test['obs'] - xmodel.predict(test)))}\")"
   ]
  },
  {
   "cell_type": "code",
   "execution_count": 3,
   "metadata": {},
   "outputs": [
    {
     "data": {
      "text/plain": [
       "{'xmodel': {'model_type': 'binomial',\n",
       "  'obs': 'obs',\n",
       "  'spaces': [<spxmod.space.Space at 0x7faa737ee330>],\n",
       "  'var_builders': [<spxmod.variable_builder.VariableBuilder at 0x7faa737b2b10>,\n",
       "   <spxmod.variable_builder.VariableBuilder at 0x7faa737eecc0>],\n",
       "  'weights': 'weights'},\n",
       " 'xmodel_fit': {'options': {'cg_maxiter': 5000,\n",
       "   'cg_maxiter_incr': 200,\n",
       "   'cg_maxiter_init': 1000,\n",
       "   'gtol': 1e-06,\n",
       "   'maxiter': 100,\n",
       "   'verbose': True,\n",
       "   'xtol': 1e-10}}}"
      ]
     },
     "execution_count": 3,
     "metadata": {},
     "output_type": "execute_result"
    }
   ],
   "source": [
    "xmodel_config[\"xmodel_fit\"]\n",
    "xmodel_config"
   ]
  },
  {
   "cell_type": "code",
   "execution_count": 4,
   "metadata": {},
   "outputs": [],
   "source": [
    "xmodel.core.attach_df(train,xmodel._encode)"
   ]
  },
  {
   "cell_type": "code",
   "execution_count": null,
   "metadata": {},
   "outputs": [],
   "source": []
  },
  {
   "cell_type": "code",
   "execution_count": 23,
   "metadata": {},
   "outputs": [
    {
     "name": "stdout",
     "output_type": "stream",
     "text": [
      "===============================================================================\n",
      "                                     CVXPY                                     \n",
      "                                     v1.6.5                                    \n",
      "===============================================================================\n",
      "(CVXPY) Apr 15 12:34:09 PM: Your problem has 38 variables, 0 constraints, and 0 parameters.\n",
      "(CVXPY) Apr 15 12:34:09 PM: It is compliant with the following grammars: DCP, DQCP\n",
      "(CVXPY) Apr 15 12:34:09 PM: (If you need to solve this problem multiple times, but with different data, consider using parameters.)\n",
      "(CVXPY) Apr 15 12:34:09 PM: CVXPY will first compile your problem; then, it will invoke a numerical solver to obtain a solution.\n",
      "(CVXPY) Apr 15 12:34:09 PM: Your problem is compiled with the CPP canonicalization backend.\n",
      "-------------------------------------------------------------------------------\n",
      "                                  Compilation                                  \n",
      "-------------------------------------------------------------------------------\n",
      "(CVXPY) Apr 15 12:34:09 PM: Compiling problem (target solver=CLARABEL).\n",
      "(CVXPY) Apr 15 12:34:09 PM: Reduction chain: Dcp2Cone -> CvxAttr2Constr -> ConeMatrixStuffing -> CLARABEL\n",
      "(CVXPY) Apr 15 12:34:09 PM: Applying reduction Dcp2Cone\n",
      "(CVXPY) Apr 15 12:34:09 PM: Applying reduction CvxAttr2Constr\n",
      "(CVXPY) Apr 15 12:34:09 PM: Applying reduction ConeMatrixStuffing\n",
      "(CVXPY) Apr 15 12:34:10 PM: Applying reduction CLARABEL\n",
      "(CVXPY) Apr 15 12:34:11 PM: Finished problem compilation (took 1.431e+00 seconds).\n",
      "-------------------------------------------------------------------------------\n",
      "                                Numerical solver                               \n",
      "-------------------------------------------------------------------------------\n",
      "(CVXPY) Apr 15 12:34:11 PM: Invoking solver CLARABEL  to obtain a solution.\n",
      "-------------------------------------------------------------\n",
      "           Clarabel.rs v0.10.0  -  Clever Acronym                \n",
      "\n",
      "                   (c) Paul Goulart                          \n",
      "                University of Oxford, 2022                   \n",
      "-------------------------------------------------------------\n",
      "\n",
      "problem:\n",
      "  variables     = 762524\n",
      "  constraints   = 1779086\n",
      "  nnz(P)        = 36\n",
      "  nnz(A)        = 2019884\n",
      "  cones (total) = 508302\n",
      "    :        Zero = 1,  numel = 36\n",
      "    : Nonnegative = 1,  numel = 254150\n",
      "    : Exponential = 508300,  numel = (3,3,3,3,...,3)\n",
      "\n",
      "settings:\n",
      "  linear algebra: direct / qdldl, precision: 64 bit\n",
      "  max iter = 200, time limit = Inf,  max step = 0.990\n",
      "  tol_feas = 1.0e-8, tol_gap_abs = 1.0e-8, tol_gap_rel = 1.0e-8,\n",
      "  static reg : on, ϵ1 = 1.0e-8, ϵ2 = 4.9e-32\n",
      "  dynamic reg: on, ϵ = 1.0e-13, δ = 2.0e-7\n",
      "  iter refine: on, reltol = 1.0e-13, abstol = 1.0e-12,\n",
      "               max iter = 10, stop ratio = 5.0\n",
      "  equilibrate: on, min_scale = 1.0e-4, max_scale = 1.0e4\n",
      "               max iter = 10\n",
      "\n",
      "iter    pcost        dcost       gap       pres      dres      k/t        μ       step      \n",
      "---------------------------------------------------------------------------------------------\n",
      "  0  +0.0000e+00  -4.9057e+09  4.91e+09  9.13e-01  1.05e+06  1.00e+00  1.00e+00   ------   \n",
      "  1  +1.8864e+08  -2.5328e+09  1.44e+01  3.37e-01  5.81e+05  8.10e-01  4.14e-01  9.80e-01  \n",
      "  2  +2.2026e+08  -1.0205e+09  5.63e+00  1.30e-01  2.65e+05  2.81e-01  2.00e-01  5.86e-01  \n",
      "  3  +1.7491e+08  -4.5253e+08  3.59e+00  6.46e-02  1.34e+05  1.29e-01  1.15e-01  5.07e-01  \n",
      "  4  +1.4765e+08  -3.0594e+08  3.07e+00  4.68e-02  9.68e+04  9.39e-02  8.74e-02  3.24e-01  \n",
      "  5  +9.9824e+07  -9.5440e+07  2.05e+00  2.01e-02  4.17e+04  4.04e-02  4.06e-02  6.34e-01  \n",
      "  6  +6.5265e+07  -3.2222e+07  3.03e+00  9.91e-03  2.08e+04  2.05e-02  2.09e-02  6.34e-01  \n",
      "  7  +5.1915e+07  -1.8445e+07  3.81e+00  7.05e-03  1.50e+04  1.48e-02  1.51e-02  4.06e-01  \n",
      "  8  +2.7874e+07  +1.2854e+06  2.07e+01  2.55e-03  5.68e+03  5.65e-03  5.69e-03  7.92e-01  \n",
      "  9  +1.8326e+07  +3.0772e+06  4.96e+00  1.39e-03  3.26e+03  3.24e-03  3.18e-03  6.34e-01  \n",
      " 10  +1.5142e+07  +3.1538e+06  3.80e+00  1.06e-03  2.56e+03  2.55e-03  2.46e-03  3.24e-01  \n",
      " 11  +7.4253e+06  +2.7818e+06  1.67e+00  3.78e-04  9.91e+02  1.01e-03  9.14e-04  7.92e-01  \n",
      " 12  +5.3347e+06  +2.2197e+06  1.40e+00  2.40e-04  6.65e+02  6.87e-04  5.91e-04  5.07e-01  \n",
      " 13  +3.9299e+06  +1.7527e+06  1.24e+00  1.60e-04  4.65e+02  4.86e-04  4.01e-04  4.06e-01  \n",
      " 14  +1.8436e+06  +9.8489e+05  8.72e-01  5.78e-05  1.83e+02  2.02e-04  1.49e-04  7.92e-01  \n",
      " 15  +1.0607e+06  +6.1065e+05  7.37e-01  2.82e-05  9.61e+01  1.10e-04  7.39e-05  6.34e-01  \n",
      " 16  +5.5249e+05  +3.4319e+05  6.10e-01  1.22e-05  4.47e+01  5.33e-05  3.25e-05  6.34e-01  \n",
      " 17  +4.7068e+05  +2.9691e+05  5.85e-01  9.92e-06  3.71e+01  4.46e-05  2.66e-05  2.08e-01  \n",
      " 18  +4.7068e+05  +2.9691e+05  5.85e-01  9.92e-06  3.71e+01  4.46e-05  2.66e-05  0.00e+00  \n",
      " 19  +4.7305e+05  +3.0102e+05  5.71e-01  9.81e-06  3.67e+01  4.45e-05  2.55e-05  1.33e-01  \n",
      " 20  +4.7364e+05  +3.0169e+05  5.70e-01  9.81e-06  3.67e+01  4.45e-05  2.54e-05  2.23e-02  \n",
      " 21  +4.7395e+05  +3.0204e+05  5.69e-01  9.81e-06  3.67e+01  4.46e-05  2.53e-05  1.14e-02  \n",
      " 22  +4.7343e+05  +3.0250e+05  5.65e-01  9.75e-06  3.65e+01  4.44e-05  2.50e-05  5.44e-02  \n",
      " 23  +4.7405e+05  +3.0356e+05  5.62e-01  9.72e-06  3.64e+01  4.44e-05  2.47e-05  5.44e-02  \n",
      " 24  +4.7458e+05  +3.0408e+05  5.61e-01  9.72e-06  3.64e+01  4.44e-05  2.46e-05  1.78e-02  \n",
      " 25  +4.7510e+05  +3.0465e+05  5.60e-01  9.72e-06  3.64e+01  4.44e-05  2.45e-05  2.23e-02  \n",
      " 26  +4.7520e+05  +3.0479e+05  5.59e-01  9.72e-06  3.64e+01  4.44e-05  2.45e-05  7.30e-03  \n",
      " 27  +4.7592e+05  +3.0580e+05  5.56e-01  9.70e-06  3.63e+01  4.44e-05  2.43e-05  5.44e-02  \n",
      " 28  +4.7627e+05  +3.0613e+05  5.56e-01  9.70e-06  3.63e+01  4.44e-05  2.43e-05  1.14e-02  \n",
      " 29  +4.7627e+05  +3.0698e+05  5.51e-01  9.65e-06  3.61e+01  4.43e-05  2.39e-05  8.50e-02  \n",
      " 30  +4.7637e+05  +3.0707e+05  5.51e-01  9.65e-06  3.61e+01  4.43e-05  2.39e-05  3.74e-03  \n",
      " 31  +4.7653e+05  +3.0725e+05  5.51e-01  9.65e-06  3.61e+01  4.43e-05  2.38e-05  9.13e-03  \n",
      " 32  +4.7684e+05  +3.0755e+05  5.50e-01  9.65e-06  3.61e+01  4.43e-05  2.38e-05  1.43e-02  \n",
      " 33  +4.7692e+05  +3.0765e+05  5.50e-01  9.65e-06  3.61e+01  4.43e-05  2.38e-05  5.84e-03  \n",
      " 34  +4.7705e+05  +3.0809e+05  5.48e-01  9.63e-06  3.61e+01  4.43e-05  2.36e-05  4.35e-02  \n",
      " 35  +4.7784e+05  +3.0923e+05  5.45e-01  9.61e-06  3.60e+01  4.43e-05  2.33e-05  8.50e-02  \n",
      " 36  +4.7782e+05  +3.0927e+05  5.45e-01  9.61e-06  3.60e+01  4.42e-05  2.33e-05  7.30e-03  \n",
      " 37  +4.7836e+05  +3.1031e+05  5.42e-01  9.58e-06  3.59e+01  4.42e-05  2.30e-05  1.06e-01  \n",
      " 38  +4.7843e+05  +3.1041e+05  5.41e-01  9.58e-06  3.59e+01  4.42e-05  2.29e-05  9.13e-03  \n",
      " 39  +4.7826e+05  +3.1047e+05  5.40e-01  9.56e-06  3.58e+01  4.41e-05  2.28e-05  2.79e-02  \n",
      " 40  +4.7831e+05  +3.1054e+05  5.40e-01  9.56e-06  3.58e+01  4.41e-05  2.28e-05  7.30e-03  \n",
      " 41  +4.7858e+05  +3.1094e+05  5.39e-01  9.56e-06  3.58e+01  4.41e-05  2.27e-05  4.35e-02  \n",
      " 42  +4.7863e+05  +3.1098e+05  5.39e-01  9.56e-06  3.58e+01  4.41e-05  2.27e-05  1.53e-03  \n",
      " 43  +4.7878e+05  +3.1119e+05  5.39e-01  9.55e-06  3.58e+01  4.41e-05  2.27e-05  2.23e-02  \n",
      " 44  +4.7879e+05  +3.1121e+05  5.38e-01  9.55e-06  3.58e+01  4.41e-05  2.26e-05  1.91e-03  \n",
      " 45  +4.7879e+05  +3.1124e+05  5.38e-01  9.55e-06  3.58e+01  4.41e-05  2.26e-05  5.84e-03  \n",
      " 46  +4.7886e+05  +3.1137e+05  5.38e-01  9.55e-06  3.58e+01  4.41e-05  2.26e-05  1.78e-02  \n",
      " 47  +4.7894e+05  +3.1145e+05  5.38e-01  9.55e-06  3.58e+01  4.41e-05  2.26e-05  7.30e-03  \n",
      " 48  +4.7900e+05  +3.1154e+05  5.38e-01  9.55e-06  3.57e+01  4.41e-05  2.25e-05  9.13e-03  \n",
      " 49  +4.7899e+05  +3.1156e+05  5.37e-01  9.54e-06  3.57e+01  4.41e-05  2.25e-05  4.68e-03  \n",
      " 50  +4.7890e+05  +3.1167e+05  5.37e-01  9.53e-06  3.57e+01  4.40e-05  2.24e-05  3.48e-02  \n",
      " 51  +4.7865e+05  +3.1182e+05  5.35e-01  9.51e-06  3.56e+01  4.40e-05  2.22e-05  6.80e-02  \n",
      " 52  +4.7857e+05  +3.1183e+05  5.35e-01  9.50e-06  3.56e+01  4.39e-05  2.22e-05  1.43e-02  \n",
      " 53  +4.7859e+05  +3.1189e+05  5.34e-01  9.50e-06  3.56e+01  4.39e-05  2.22e-05  1.14e-02  \n",
      " 54  +4.7867e+05  +3.1200e+05  5.34e-01  9.50e-06  3.56e+01  4.39e-05  2.21e-05  1.43e-02  \n",
      " 55  +4.7863e+05  +3.1201e+05  5.34e-01  9.50e-06  3.56e+01  4.39e-05  2.21e-05  9.13e-03  \n",
      " 56  +4.7762e+05  +3.1204e+05  5.31e-01  9.43e-06  3.53e+01  4.37e-05  2.17e-05  1.66e-01  \n",
      " 57  +4.7766e+05  +3.1207e+05  5.31e-01  9.43e-06  3.53e+01  4.37e-05  2.17e-05  6.27e-04  \n",
      " 58  +4.7765e+05  +3.1210e+05  5.30e-01  9.43e-06  3.53e+01  4.37e-05  2.16e-05  9.13e-03  \n",
      " 59  +4.7763e+05  +3.1212e+05  5.30e-01  9.43e-06  3.53e+01  4.37e-05  2.16e-05  1.14e-02  \n",
      " 60  +4.7756e+05  +3.1210e+05  5.30e-01  9.43e-06  3.53e+01  4.37e-05  2.16e-05  4.68e-03  \n",
      " 61  +4.7725e+05  +3.1202e+05  5.30e-01  9.41e-06  3.53e+01  4.36e-05  2.15e-05  3.48e-02  \n",
      " 62  +4.7720e+05  +3.1205e+05  5.29e-01  9.41e-06  3.53e+01  4.36e-05  2.14e-05  2.23e-02  \n",
      " 63  +4.7714e+05  +3.1209e+05  5.29e-01  9.40e-06  3.52e+01  4.36e-05  2.14e-05  2.23e-02  \n",
      " 64  +4.7715e+05  +3.1211e+05  5.29e-01  9.40e-06  3.52e+01  4.36e-05  2.14e-05  4.68e-03  \n",
      " 65  +4.7727e+05  +3.1224e+05  5.29e-01  9.40e-06  3.52e+01  4.36e-05  2.13e-05  2.23e-02  \n",
      " 66  +4.7734e+05  +3.1229e+05  5.29e-01  9.40e-06  3.52e+01  4.36e-05  2.13e-05  3.74e-03  \n",
      " 67  +4.7734e+05  +3.1229e+05  5.29e-01  9.40e-06  3.52e+01  4.36e-05  2.13e-05  1.64e-04  \n",
      " 68  +4.7734e+05  +3.1229e+05  5.29e-01  9.40e-06  3.52e+01  4.36e-05  2.13e-05  0.00e+00  \n",
      "---------------------------------------------------------------------------------------------\n",
      "Terminated with status = InsufficientProgress\n",
      "solve time = 65.587696453s\n"
     ]
    },
    {
     "ename": "SolverError",
     "evalue": "Solver 'CLARABEL' failed. Try another solver, or solve with verbose=True for more information.",
     "output_type": "error",
     "traceback": [
      "\u001b[0;31m---------------------------------------------------------------------------\u001b[0m",
      "\u001b[0;31mSolverError\u001b[0m                               Traceback (most recent call last)",
      "Cell \u001b[0;32mIn[23], line 23\u001b[0m\n\u001b[1;32m     18\u001b[0m regularization \u001b[38;5;241m=\u001b[39m cp\u001b[38;5;241m.\u001b[39msum_squares(B\u001b[38;5;129m@beta\u001b[39m)\u001b[38;5;241m/\u001b[39m\u001b[38;5;241m2\u001b[39m\n\u001b[1;32m     20\u001b[0m problem  \u001b[38;5;241m=\u001b[39m cp\u001b[38;5;241m.\u001b[39mProblem(cp\u001b[38;5;241m.\u001b[39mMinimize(\n\u001b[1;32m     21\u001b[0m     (neg_log_likelihood \u001b[38;5;241m+\u001b[39m regularization)\n\u001b[1;32m     22\u001b[0m ))\n\u001b[0;32m---> 23\u001b[0m problem\u001b[38;5;241m.\u001b[39msolve(verbose \u001b[38;5;241m=\u001b[39m \u001b[38;5;28;01mTrue\u001b[39;00m)\n",
      "File \u001b[0;32m~/miniconda3/envs/spx-opt/lib/python3.12/site-packages/cvxpy/problems/problem.py:600\u001b[0m, in \u001b[0;36mProblem.solve\u001b[0;34m(self, *args, **kwargs)\u001b[0m\n\u001b[1;32m    597\u001b[0m         \u001b[38;5;28;01mraise\u001b[39;00m \u001b[38;5;167;01mValueError\u001b[39;00m(\n\u001b[1;32m    598\u001b[0m             \u001b[38;5;124m\"\u001b[39m\u001b[38;5;124mCannot specify both \u001b[39m\u001b[38;5;124m'\u001b[39m\u001b[38;5;124msolver\u001b[39m\u001b[38;5;124m'\u001b[39m\u001b[38;5;124m and \u001b[39m\u001b[38;5;124m'\u001b[39m\u001b[38;5;124msolver_path\u001b[39m\u001b[38;5;124m'\u001b[39m\u001b[38;5;124m. Please choose one.\u001b[39m\u001b[38;5;124m\"\u001b[39m)\n\u001b[1;32m    599\u001b[0m     \u001b[38;5;28;01mreturn\u001b[39;00m \u001b[38;5;28mself\u001b[39m\u001b[38;5;241m.\u001b[39m_solve_solver_path(solve_func,solver_path, args, kwargs)\n\u001b[0;32m--> 600\u001b[0m \u001b[38;5;28;01mreturn\u001b[39;00m solve_func(\u001b[38;5;28mself\u001b[39m, \u001b[38;5;241m*\u001b[39margs, \u001b[38;5;241m*\u001b[39m\u001b[38;5;241m*\u001b[39mkwargs)\n",
      "File \u001b[0;32m~/miniconda3/envs/spx-opt/lib/python3.12/site-packages/cvxpy/problems/problem.py:1187\u001b[0m, in \u001b[0;36mProblem._solve\u001b[0;34m(self, solver, warm_start, verbose, gp, qcp, requires_grad, enforce_dpp, ignore_dpp, canon_backend, **kwargs)\u001b[0m\n\u001b[1;32m   1185\u001b[0m end \u001b[38;5;241m=\u001b[39m time\u001b[38;5;241m.\u001b[39mtime()\n\u001b[1;32m   1186\u001b[0m \u001b[38;5;28mself\u001b[39m\u001b[38;5;241m.\u001b[39m_solve_time \u001b[38;5;241m=\u001b[39m end \u001b[38;5;241m-\u001b[39m start\n\u001b[0;32m-> 1187\u001b[0m \u001b[38;5;28mself\u001b[39m\u001b[38;5;241m.\u001b[39munpack_results(solution, solving_chain, inverse_data)\n\u001b[1;32m   1188\u001b[0m \u001b[38;5;28;01mif\u001b[39;00m verbose:\n\u001b[1;32m   1189\u001b[0m     \u001b[38;5;28mprint\u001b[39m(_FOOTER)\n",
      "File \u001b[0;32m~/miniconda3/envs/spx-opt/lib/python3.12/site-packages/cvxpy/problems/problem.py:1512\u001b[0m, in \u001b[0;36mProblem.unpack_results\u001b[0;34m(self, solution, chain, inverse_data)\u001b[0m\n\u001b[1;32m   1510\u001b[0m     warnings\u001b[38;5;241m.\u001b[39mwarn(INF_OR_UNB_MESSAGE)\n\u001b[1;32m   1511\u001b[0m \u001b[38;5;28;01mif\u001b[39;00m solution\u001b[38;5;241m.\u001b[39mstatus \u001b[38;5;129;01min\u001b[39;00m s\u001b[38;5;241m.\u001b[39mERROR:\n\u001b[0;32m-> 1512\u001b[0m     \u001b[38;5;28;01mraise\u001b[39;00m error\u001b[38;5;241m.\u001b[39mSolverError(\n\u001b[1;32m   1513\u001b[0m             \u001b[38;5;124m\"\u001b[39m\u001b[38;5;124mSolver \u001b[39m\u001b[38;5;124m'\u001b[39m\u001b[38;5;132;01m%s\u001b[39;00m\u001b[38;5;124m'\u001b[39m\u001b[38;5;124m failed. \u001b[39m\u001b[38;5;124m\"\u001b[39m \u001b[38;5;241m%\u001b[39m chain\u001b[38;5;241m.\u001b[39msolver\u001b[38;5;241m.\u001b[39mname() \u001b[38;5;241m+\u001b[39m\n\u001b[1;32m   1514\u001b[0m             \u001b[38;5;124m\"\u001b[39m\u001b[38;5;124mTry another solver, or solve with verbose=True for more \u001b[39m\u001b[38;5;124m\"\u001b[39m\n\u001b[1;32m   1515\u001b[0m             \u001b[38;5;124m\"\u001b[39m\u001b[38;5;124minformation.\u001b[39m\u001b[38;5;124m\"\u001b[39m)\n\u001b[1;32m   1517\u001b[0m \u001b[38;5;28mself\u001b[39m\u001b[38;5;241m.\u001b[39munpack(solution)\n\u001b[1;32m   1518\u001b[0m \u001b[38;5;28mself\u001b[39m\u001b[38;5;241m.\u001b[39m_solver_stats \u001b[38;5;241m=\u001b[39m SolverStats\u001b[38;5;241m.\u001b[39mfrom_dict(\u001b[38;5;28mself\u001b[39m\u001b[38;5;241m.\u001b[39m_solution\u001b[38;5;241m.\u001b[39mattr,\n\u001b[1;32m   1519\u001b[0m                                  chain\u001b[38;5;241m.\u001b[39msolver\u001b[38;5;241m.\u001b[39mname())\n",
      "\u001b[0;31mSolverError\u001b[0m: Solver 'CLARABEL' failed. Try another solver, or solve with verbose=True for more information."
     ]
    }
   ],
   "source": [
    "import cvxpy as cp\n",
    "\n",
    "y = xmodel.core.data.obs\n",
    "A = xmodel.core.mat[0]\n",
    "A = csc_matrix(A.multiply(1/(A.power(2).mean(axis=0)+1e-20)))\n",
    "\n",
    "B = xmodel.core.get_linear_gmat()[0][0]\n",
    "vv = xmodel.core.get_linear_gvec()[1][:,None]\n",
    "B = B.multiply(vv).toarray()\n",
    "\n",
    "n = A.shape[1]\n",
    "\n",
    "beta = cp.Variable(n)\n",
    "lambd = cp.Parameter(nonneg=True)\n",
    "neg_log_likelihood = cp.sum(\n",
    "    cp.multiply(xmodel.core.data.weights,cp.logistic(A @ beta)- cp.multiply(y, A @ beta))\n",
    ")\n",
    "regularization = cp.sum_squares(B@beta)/2\n",
    "\n",
    "problem  = cp.Problem(cp.Minimize(\n",
    "    (neg_log_likelihood + regularization)\n",
    "))\n",
    "problem.solve(verbose = True)"
   ]
  },
  {
   "cell_type": "code",
   "execution_count": null,
   "metadata": {},
   "outputs": [],
   "source": [
    "xmodel.core.objective()"
   ]
  },
  {
   "cell_type": "code",
   "execution_count": 7,
   "metadata": {},
   "outputs": [
    {
     "data": {
      "text/plain": [
       "array([-11.963652  , -11.96130415, -11.9565712 , -11.94944104,\n",
       "       -11.93996805, -11.92829462, -11.91469285, -11.89956708,\n",
       "       -11.88349518, -11.86714623, -11.85106213, -11.8358908 ,\n",
       "       -11.82197549, -11.80957128, -11.79886832, -11.79023124,\n",
       "       -11.78370767, -11.78049949, -11.77980447, -16.64315654,\n",
       "       -16.64315654, -16.64315655, -16.64315657, -16.64315655,\n",
       "       -16.64315648, -16.64315633, -16.64315612, -16.6431559 ,\n",
       "       -16.64315569, -16.64315551, -16.64315537, -16.64315536,\n",
       "       -16.64315536, -16.64315538, -16.6431554 , -16.64315545,\n",
       "       -16.6431555 , -16.64315556])"
      ]
     },
     "execution_count": 7,
     "metadata": {},
     "output_type": "execute_result"
    }
   ],
   "source": [
    "beta.value"
   ]
  },
  {
   "cell_type": "code",
   "execution_count": 8,
   "metadata": {},
   "outputs": [
    {
     "data": {
      "text/plain": [
       "39524.18453772909"
      ]
     },
     "execution_count": 8,
     "metadata": {},
     "output_type": "execute_result"
    }
   ],
   "source": [
    "xmodel.core.objective(beta.value)"
   ]
  },
  {
   "cell_type": "code",
   "execution_count": 9,
   "metadata": {},
   "outputs": [
    {
     "data": {
      "text/plain": [
       "38801.41780580382"
      ]
     },
     "execution_count": 9,
     "metadata": {},
     "output_type": "execute_result"
    }
   ],
   "source": [
    "xmodel.core.objective(xmodel.core.opt_coefs)"
   ]
  },
  {
   "cell_type": "code",
   "execution_count": null,
   "metadata": {},
   "outputs": [
    {
     "data": {
      "text/plain": [
       "array([76.        , 88.        , 60.        , ..., 23.52278841,\n",
       "       48.72741367, 16.53861265])"
      ]
     },
     "execution_count": 10,
     "metadata": {},
     "output_type": "execute_result"
    }
   ],
   "source": []
  },
  {
   "cell_type": "code",
   "execution_count": null,
   "metadata": {},
   "outputs": [],
   "source": [
    "def gl_solve(\n",
    "    A,\n",
    "    hfunc,\n",
    "    C = None,\n",
    "    c = None,\n",
    "    x0 = None,\n",
    "):\n",
    "    \n",
    "    "
   ]
  }
 ],
 "metadata": {
  "kernelspec": {
   "display_name": "spx-opt",
   "language": "python",
   "name": "python3"
  },
  "language_info": {
   "codemirror_mode": {
    "name": "ipython",
    "version": 3
   },
   "file_extension": ".py",
   "mimetype": "text/x-python",
   "name": "python",
   "nbconvert_exporter": "python",
   "pygments_lexer": "ipython3",
   "version": "3.12.2"
  }
 },
 "nbformat": 4,
 "nbformat_minor": 2
}
