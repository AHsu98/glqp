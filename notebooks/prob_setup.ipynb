{
 "cells": [
  {
   "cell_type": "code",
   "execution_count": 269,
   "metadata": {},
   "outputs": [],
   "source": [
    "import numpy as np\n",
    "from scipy.sparse import csc_array,csr_array,diags_array\n",
    "from scipy.sparse import random_array\n",
    "import matplotlib.pyplot as plt\n",
    "from scipy.special import expit\n",
    "from numpy import logaddexp\n",
    "from tqdm.auto import tqdm\n",
    "from scipy.optimize import minimize_scalar"
   ]
  },
  {
   "cell_type": "code",
   "execution_count": 270,
   "metadata": {},
   "outputs": [],
   "source": [
    "from scipy.stats import Uniform\n",
    "\n",
    "\n",
    "m = 1000\n",
    "n = 500\n",
    "samp = Uniform(a = -0.5,b = 0.5).sample\n",
    "\n",
    "\n",
    "A = random_array((m,n),density = 0.2,data_sampler = lambda size:samp(size))\n",
    "x_true = np.random.uniform(-0.1,1,n)\n",
    "\n",
    "z_true = A@x_true\n",
    "\n",
    "w = 100*np.ones(m)\n",
    "y = np.random.binomial(w.astype(int),expit(z_true))/w\n",
    "\n",
    "Q = 100 * diags_array(np.ones(n))"
   ]
  },
  {
   "cell_type": "code",
   "execution_count": 271,
   "metadata": {},
   "outputs": [],
   "source": [
    "class LogisticNLL:\n",
    "    def __init__(self, y, w):\n",
    "        \"\"\"\n",
    "        y: array-like of binary responses (0 or 1)\n",
    "        w: array-like of corresponding weights\n",
    "        \"\"\"\n",
    "        self.y = np.array(y, dtype=float)\n",
    "        self.w = np.array(w, dtype=float)\n",
    "\n",
    "    def f(self, z):\n",
    "        \"\"\"\n",
    "        Computes the negative weighted logistic log-likelihood:\n",
    "            sum_i w_i [ log(1 + exp(z_i)) - y_i * z_i ]\n",
    "        \"\"\"\n",
    "        z = np.array(z, dtype=float)\n",
    "        return np.sum(self.w * (logaddexp(0, z) - self.y * z))\n",
    "\n",
    "    def d1f(self, z):\n",
    "        \"\"\"\n",
    "        Computes the first derivative (gradient) w.r.t. z:\n",
    "            w_i [ sigma(z_i) - y_i ]\n",
    "        \"\"\"\n",
    "        z = np.array(z, dtype=float)\n",
    "        sig_z = expit(z)\n",
    "        return self.w * (sig_z - self.y)\n",
    "\n",
    "    def d2f(self, z):\n",
    "        \"\"\"\n",
    "        Computes the second derivative (Hessian diagonal) w.r.t. z:\n",
    "            w_i * sigma(z_i) * (1 - sigma(z_i))\n",
    "        also using expit(z) for numerical stability.\n",
    "        \"\"\"\n",
    "        z = np.array(z, dtype=float)\n",
    "        sig_z = expit(z)\n",
    "        hess_diag = self.w * sig_z * (1.0 - sig_z)\n",
    "        return hess_diag\n",
    "\n",
    "    def __call__(self, z):\n",
    "        \"\"\"\n",
    "        By defining __call__, this object can be used like a function:\n",
    "            phi(z) = phi.f(z)\n",
    "        \"\"\"\n",
    "        return self.f(z)"
   ]
  },
  {
   "cell_type": "code",
   "execution_count": 272,
   "metadata": {},
   "outputs": [],
   "source": [
    "nll = LogisticNLL(y,w)"
   ]
  },
  {
   "cell_type": "code",
   "execution_count": 273,
   "metadata": {},
   "outputs": [
    {
     "data": {
      "text/plain": [
       "51693.600258136816"
      ]
     },
     "execution_count": 273,
     "metadata": {},
     "output_type": "execute_result"
    }
   ],
   "source": [
    "nll(A@x_true)"
   ]
  },
  {
   "cell_type": "code",
   "execution_count": 274,
   "metadata": {},
   "outputs": [
    {
     "data": {
      "application/vnd.jupyter.widget-view+json": {
       "model_id": "429962db38664751a7b50cd4717990f7",
       "version_major": 2,
       "version_minor": 0
      },
      "text/plain": [
       "  0%|          | 0/100 [00:00<?, ?it/s]"
      ]
     },
     "metadata": {},
     "output_type": "display_data"
    }
   ],
   "source": [
    "x = np.zeros(n)\n",
    "loss_vals = []\n",
    "gradnorms = []\n",
    "stepsizes = []\n",
    "max_step = 1.\n",
    "for i in tqdm(range(100)):\n",
    "    z = A@x\n",
    "    g = A.T@nll.d1f(z) + Q@x\n",
    "    dz = A@g\n",
    "    def line_obj(t):\n",
    "        return nll(z-t*dz) + (x-t*g).T@(Q@(x-t*g))/2\n",
    "    result = minimize_scalar(line_obj,bracket = (1e-3,1))#,options = {'maxiter':10})\n",
    "    t = result.x\n",
    "    if t>0.95*max_step:\n",
    "        max_step = 1.1*max_step\n",
    "    if t<0.7*max_step:\n",
    "        max_step = 0.8*max_step\n",
    "    stepsizes.append(t)\n",
    "    x = x - t*g\n",
    "    loss_vals.append(result.fun)\n",
    "    gradnorms.append(np.max(np.abs(g)))\n",
    "    "
   ]
  },
  {
   "cell_type": "code",
   "execution_count": 275,
   "metadata": {},
   "outputs": [],
   "source": [
    "# z = A@x\n",
    "# g = A.T@nll.d1f(z)\n",
    "# dz = A@g\n",
    "\n",
    "# H = A.T@(A.multiply(nll.d2f(z).reshape(-1,1))).toarray()\n",
    "# np.linalg.solve(H,g)"
   ]
  },
  {
   "cell_type": "code",
   "execution_count": 276,
   "metadata": {},
   "outputs": [
    {
     "data": {
      "image/png": "[encoded data removed]",
      "text/plain": [
       "<Figure size 640x480 with 1 Axes>"
      ]
     },
     "metadata": {},
     "output_type": "display_data"
    }
   ],
   "source": [
    "plt.plot(gradnorms)\n",
    "plt.yscale(\"log\")"
   ]
  },
  {
   "cell_type": "code",
   "execution_count": 277,
   "metadata": {},
   "outputs": [],
   "source": [
    "x = x_true\n",
    "z = A@x\n",
    "g = A.T@nll.d1f(z)\n",
    "dz = A@g"
   ]
  },
  {
   "cell_type": "code",
   "execution_count": 278,
   "metadata": {},
   "outputs": [
    {
     "data": {
      "text/plain": [
       "157694.93972184137"
      ]
     },
     "execution_count": 278,
     "metadata": {},
     "output_type": "execute_result"
    }
   ],
   "source": [
    "eps = 0.0001\n",
    "\n",
    "(nll((A@(x + eps*g))) - nll(A@(x-eps*g)))/(2*eps)"
   ]
  },
  {
   "cell_type": "code",
   "execution_count": 279,
   "metadata": {},
   "outputs": [
    {
     "data": {
      "text/plain": [
       "157695.2471550542"
      ]
     },
     "execution_count": 279,
     "metadata": {},
     "output_type": "execute_result"
    }
   ],
   "source": [
    "np.sum(g**2)"
   ]
  },
  {
   "cell_type": "code",
   "execution_count": null,
   "metadata": {},
   "outputs": [],
   "source": []
  },
  {
   "cell_type": "code",
   "execution_count": null,
   "metadata": {},
   "outputs": [],
   "source": []
  }
 ],
 "metadata": {
  "kernelspec": {
   "display_name": "spx-opt",
   "language": "python",
   "name": "python3"
  },
  "language_info": {
   "codemirror_mode": {
    "name": "ipython",
    "version": 3
   },
   "file_extension": ".py",
   "mimetype": "text/x-python",
   "name": "python",
   "nbconvert_exporter": "python",
   "pygments_lexer": "ipython3",
   "version": "3.12.2"
  }
 },
 "nbformat": 4,
 "nbformat_minor": 2
}
