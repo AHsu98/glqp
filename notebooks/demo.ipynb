{
 "cells": [
  {
   "cell_type": "code",
   "execution_count": 5,
   "metadata": {},
   "outputs": [],
   "source": [
    "import numpy as np\n",
    "from scipy.special import expit\n",
    "from numpy import logaddexp\n",
    "from glqp import GLQP,SolverSettings\n",
    "from glqp.example_problems import build_random_logistic,build_logistic_lasso\n",
    "import matplotlib.pyplot as plt\n",
    "from scipy.sparse import csc_array,diags_array,csr_array,block_array\n",
    "from numpy.random import default_rng"
   ]
  },
  {
   "cell_type": "markdown",
   "metadata": {},
   "source": [
    "## Solve an inequality constrained logistic regression problem"
   ]
  },
  {
   "cell_type": "code",
   "execution_count": 6,
   "metadata": {},
   "outputs": [
    {
     "name": "stdout",
     "output_type": "stream",
     "text": [
      "────────────────────────────────────────────────────────────────────────────────────────────────────────\n",
      "| GLQP | Variables: 500  │ Rows in A: 10,000 │ Equality Constraints: 0    │ Inequality Constraints: 100 \n",
      "───────────────────────────────────────────────────────────────────────────────────────────────────────────────────────────────────\n",
      "│ iter │   primal   │ dual_res  │ cons_viol │ comp_res  │  KKT_res  │    mu    │   Δx    │  step   │ refine │  time  │ lin_rel_res │\n",
      "───────────────────────────────────────────────────────────────────────────────────────────────────────────────────────────────────\n",
      "│    1 │  6.931e+05 │  1.84e+03 │  6.41e+00 │  2.97e+02 │  1.84e+03 │  1.1e+02 │ 3.5e-01 │ 3.5e-02 │      1 │   0.10s │ 7.5139e-15 │\n",
      "│    2 │  6.984e+05 │  1.52e+03 │  5.11e+00 │  1.27e+03 │  1.52e+03 │  1.1e+02 │ 2.6e-01 │ 2.0e-01 │      1 │   0.17s │ 1.2319e-15 │\n",
      "│    3 │  6.720e+05 │  1.04e+03 │  3.22e+00 │  8.75e+02 │  1.04e+03 │  9.7e+01 │ 4.0e-01 │ 3.7e-01 │      1 │   0.24s │ 1.1553e-15 │\n",
      "│    4 │  6.484e+05 │  4.55e+02 │  1.52e-01 │  2.76e+02 │  4.55e+02 │  1.7e+01 │ 7.6e-01 │ 9.5e-01 │      1 │   0.31s │ 1.1821e-15 │\n",
      "│    5 │  6.441e+05 │  5.81e+01 │  3.55e-15 │  7.28e+01 │  7.28e+01 │  1.7e+00 │ 2.2e-01 │ 1.0e+00 │      1 │   0.38s │ 1.0055e-15 │\n",
      "│    6 │  6.400e+05 │  1.34e+00 │  3.55e-15 │  1.16e+01 │  1.16e+01 │  1.7e-01 │ 7.4e-02 │ 1.0e+00 │      1 │   0.44s │ 1.5621e-15 │\n",
      "│    7 │  6.386e+05 │  2.62e-02 │  3.55e-15 │  2.30e+00 │  2.30e+00 │  1.7e-02 │ 1.5e-02 │ 1.0e+00 │      1 │   0.51s │ 9.2433e-15 │\n",
      "│    8 │  6.385e+05 │  4.24e-03 │  3.55e-15 │  5.63e-01 │  5.63e-01 │  1.7e-03 │ 5.8e-03 │ 1.0e+00 │      1 │   0.58s │ 1.2502e-14 │\n",
      "│    9 │  6.385e+05 │  7.52e-04 │  4.44e-15 │  1.30e-01 │  1.30e-01 │  1.7e-04 │ 2.5e-03 │ 1.0e+00 │      1 │   0.65s │ 1.7258e-14 │\n",
      "│   10 │  6.385e+05 │  1.09e-04 │  4.44e-15 │  2.36e-02 │  2.36e-02 │  1.7e-05 │ 1.0e-03 │ 1.0e+00 │      1 │   0.72s │ 3.4871e-14 │\n",
      "│   11 │  6.385e+05 │  7.29e-06 │  3.55e-15 │  1.91e-03 │  1.91e-03 │  1.7e-06 │ 2.6e-04 │ 1.0e+00 │      1 │   0.78s │ 9.4078e-14 │\n",
      "│   12 │  6.385e+05 │  5.90e-08 │  2.66e-15 │  1.94e-05 │  1.94e-05 │  1.7e-07 │ 2.3e-05 │ 1.0e+00 │      1 │   0.85s │ 8.0538e-14 │\n",
      "│   13 │  6.385e+05 │  6.37e-12 │  5.33e-15 │  1.73e-07 │  1.73e-07 │  1.7e-08 │ 2.1e-07 │ 1.0e+00 │      1 │   0.92s │ 1.2218e-14 │\n",
      "│   14 │  6.385e+05 │  1.46e-11 │  4.44e-15 │  1.71e-08 │  1.71e-08 │  1.7e-09 │ 2.3e-09 │ 1.0e+00 │      0 │   0.99s │ 2.4105e-08 │\n",
      "│   15 │  6.385e+05 │  1.23e-11 │  4.44e-15 │  1.71e-09 │  1.71e-09 │  1.7e-10 │ 2.3e-10 │ 1.0e+00 │      0 │   1.06s │ 5.2379e-08 │\n",
      "Optimal solution after 15 iterations in 1.06s. Final maxnorm KKT residual: 1.71e-09.\n"
     ]
    }
   ],
   "source": [
    "f,A,Q,C,c,b = build_random_logistic(m = 10000,n = 500,k = 100,density=0.1, seed = 2)\n",
    "problem = GLQP(f=f,A=A,Q=Q,b=b,C=C,c=c)\n",
    "x,results = problem.solve()"
   ]
  },
  {
   "cell_type": "markdown",
   "metadata": {},
   "source": [
    "## Solve an unconstrained logistic regression problem"
   ]
  },
  {
   "cell_type": "code",
   "execution_count": 7,
   "metadata": {},
   "outputs": [
    {
     "name": "stdout",
     "output_type": "stream",
     "text": [
      "────────────────────────────────────────────────────────────────────────────────────────────────────────\n",
      "| GLQP | Variables: 500  │ Rows in A: 10,000 │ Equality Constraints: 0    │ Inequality Constraints: 0   \n",
      "───────────────────────────────────────────────────────────────────────────────────────────────────────────────────────────────────\n",
      "│ iter │   primal   │ dual_res  │ cons_viol │ comp_res  │  KKT_res  │    mu    │   Δx    │  step   │ refine │  time  │ lin_rel_res │\n",
      "───────────────────────────────────────────────────────────────────────────────────────────────────────────────────────────────────\n",
      "│    1 │  6.931e+05 │  3.00e+02 │  0.00e+00 │  1.00e-12 │  3.00e+02 │  9.0e-13 │ 8.3e-01 │ 1.0e+00 │      1 │   0.15s │ 1.0861e-15 │\n",
      "│    2 │  5.861e+05 │  2.74e+01 │  0.00e+00 │  9.00e-13 │  2.74e+01 │  8.1e-13 │ 2.1e-01 │ 1.0e+00 │      1 │   0.23s │ 1.3141e-15 │\n",
      "│    3 │  5.826e+05 │  2.81e-01 │  0.00e+00 │  8.10e-13 │  2.81e-01 │  7.3e-13 │ 2.3e-02 │ 1.0e+00 │      1 │   0.29s │ 1.1911e-15 │\n",
      "│    4 │  5.826e+05 │  2.85e-05 │  0.00e+00 │  7.29e-13 │  2.85e-05 │  6.6e-13 │ 2.4e-04 │ 1.0e+00 │      0 │   0.36s │ 1.8022e-11 │\n",
      "│    5 │  5.826e+05 │  4.00e-13 │  0.00e+00 │  6.56e-13 │  6.56e-13 │  1.0e-12 │ 2.4e-08 │ 1.0e+00 │      0 │   0.42s │ 1.9178e-11 │\n",
      "Optimal solution after 5 iterations in 0.42s. Final maxnorm KKT residual: 6.56e-13.\n"
     ]
    }
   ],
   "source": [
    "problem = GLQP(f,A,Q,C=None,c=None,b=b)\n",
    "x,results = problem.solve()"
   ]
  },
  {
   "cell_type": "markdown",
   "metadata": {},
   "source": [
    "## Solve a large L1 regularized logistic regression"
   ]
  },
  {
   "cell_type": "code",
   "execution_count": 4,
   "metadata": {},
   "outputs": [
    {
     "name": "stdout",
     "output_type": "stream",
     "text": [
      "───────────────────────────────────────────────────────────────────────────────────────────────────────────\n",
      "| GLQP | Variables: 5,000 │ Rows in A: 500,000 │ Equality Constraints: 0    │ Inequality Constraints: 5,000\n",
      "───────────────────────────────────────────────────────────────────────────────────────────────────────────────────────────────────\n",
      "│ iter │   primal   │ dual_res  │ cons_viol │ comp_res  │  KKT_res  │    mu    │   Δx    │  step   │ refine │  time  │ lin_rel_res │\n",
      "───────────────────────────────────────────────────────────────────────────────────────────────────────────────────────────────────\n",
      "│    1 │  3.466e+06 │  4.12e+03 │  0.00e+00 │  1.70e+05 │  1.70e+05 │  1.5e+05 │ 7.9e+01 │ 1.0e+00 │      1 │   6.69s │ 4.4923e-16 │\n",
      "│    2 │  1.326e+07 │  1.13e+02 │  5.68e-14 │  2.10e+04 │  2.10e+04 │  1.5e+04 │ 6.8e+01 │ 9.7e-01 │      1 │  11.74s │ 1.2189e-16 │\n",
      "│    3 │  2.180e+07 │  2.03e+01 │  1.14e-13 │  1.83e+04 │  1.83e+04 │  1.5e+03 │ 1.1e+02 │ 8.2e-01 │      1 │  16.86s │ 9.8585e-16 │\n",
      "│    4 │  3.588e+07 │  2.25e-01 │  4.26e-14 │  5.19e+03 │  5.19e+03 │  1.5e+02 │ 1.4e+02 │ 1.0e+00 │      1 │  21.95s │ 3.0619e-16 │\n",
      "│    5 │  1.804e+07 │  5.57e-04 │  1.42e-14 │  2.46e+02 │  2.46e+02 │  1.5e+01 │ 1.1e+02 │ 1.0e+00 │      1 │  27.21s │ 1.5446e-16 │\n",
      "│    6 │  4.109e+06 │  1.82e-04 │  8.88e-16 │  1.84e+01 │  1.84e+01 │  1.5e+00 │ 5.3e+00 │ 1.0e+00 │      1 │  32.30s │ 1.2720e-16 │\n",
      "│    7 │  3.441e+06 │  2.44e-02 │  4.44e-16 │  4.20e+00 │  4.20e+00 │  1.5e-01 │ 5.1e-01 │ 9.6e-01 │      1 │  37.39s │ 1.8606e-15 │\n",
      "│    8 │  3.379e+06 │  3.51e-02 │  4.44e-16 │  1.25e+00 │  1.25e+00 │  3.3e-02 │ 6.3e-02 │ 8.5e-01 │      1 │  42.31s │ 1.1724e-14 │\n",
      "│    9 │  3.372e+06 │  4.15e-02 │  4.44e-16 │  2.95e-01 │  2.95e-01 │  3.3e-03 │ 1.7e-02 │ 9.9e-01 │      1 │  47.39s │ 2.3220e-14 │\n",
      "│   10 │  3.371e+06 │  1.00e-02 │  4.44e-16 │  7.56e-02 │  7.56e-02 │  5.7e-04 │ 9.3e-03 │ 9.8e-01 │      1 │  52.45s │ 2.6709e-14 │\n",
      "│   11 │  3.371e+06 │  1.49e-03 │  4.44e-16 │  1.88e-02 │  1.88e-02 │  5.7e-05 │ 4.5e-03 │ 1.0e+00 │      1 │  57.51s │ 2.5267e-14 │\n",
      "│   12 │  3.371e+06 │  2.01e-04 │  4.44e-16 │  4.71e-03 │  4.71e-03 │  5.7e-06 │ 2.2e-03 │ 1.0e+00 │      1 │  62.37s │ 2.1653e-14 │\n",
      "│   13 │  3.371e+06 │  2.53e-05 │  4.44e-16 │  1.18e-03 │  1.18e-03 │  5.7e-07 │ 1.1e-03 │ 1.0e+00 │      1 │  67.45s │ 1.6738e-14 │\n",
      "│   14 │  3.371e+06 │  3.08e-06 │  4.44e-16 │  2.93e-04 │  2.93e-04 │  5.7e-08 │ 5.5e-04 │ 1.0e+00 │      1 │  72.41s │ 3.0670e-14 │\n",
      "│   15 │  3.371e+06 │  3.88e-07 │  4.44e-16 │  7.33e-05 │  7.33e-05 │  3.8e-07 │ 2.7e-04 │ 1.0e+00 │      1 │  77.20s │ 8.8864e-14 │\n",
      "│   16 │  3.371e+06 │  5.09e-08 │  4.44e-16 │  1.85e-05 │  1.85e-05 │  3.8e-08 │ 1.3e-04 │ 1.0e+00 │      1 │  81.97s │ 7.0972e-14 │\n",
      "│   17 │  3.371e+06 │  6.92e-09 │  4.44e-16 │  4.62e-06 │  4.62e-06 │  3.8e-09 │ 6.7e-05 │ 1.0e+00 │      1 │  86.94s │ 5.2527e-14 │\n",
      "│   18 │  3.371e+06 │  9.61e-10 │  4.44e-16 │  1.13e-06 │  1.13e-06 │  3.8e-10 │ 3.3e-05 │ 1.0e+00 │      1 │  91.96s │ 8.8855e-14 │\n",
      "│   19 │  3.371e+06 │  1.43e-10 │  4.44e-16 │  2.58e-07 │  2.58e-07 │  3.8e-11 │ 1.6e-05 │ 1.0e+00 │      1 │  96.98s │ 4.0946e-13 │\n",
      "│   20 │  3.371e+06 │  1.92e-11 │  4.44e-16 │  4.58e-08 │  4.58e-08 │  4.3e-11 │ 6.7e-06 │ 1.0e+00 │      1 │ 101.74s │ 2.3159e-12 │\n",
      "│   21 │  3.371e+06 │  1.49e-12 │  4.44e-16 │  3.49e-09 │  3.49e-09 │  4.3e-12 │ 1.8e-06 │ 1.0e+00 │      1 │ 106.67s │ 2.4403e-11 │\n",
      "Optimal solution after 21 iterations in 106.67s. Final maxnorm KKT residual: 3.49e-09.\n"
     ]
    },
    {
     "data": {
      "text/plain": [
       "[<matplotlib.lines.Line2D at 0x7f3bfc270b90>]"
      ]
     },
     "execution_count": 4,
     "metadata": {},
     "output_type": "execute_result"
    },
    {
     "data": {
      "image/png": "[encoded data removed]",
      "text/plain": [
       "<Figure size 500x200 with 1 Axes>"
      ]
     },
     "metadata": {},
     "output_type": "display_data"
    }
   ],
   "source": [
    "n = 2500\n",
    "m = 500000\n",
    "lam = 50.\n",
    "f,A,Q,C,c,b,x_true = build_logistic_lasso(\n",
    "    m = m,\n",
    "    n = n, \n",
    "    seed = 2,\n",
    "    lam = lam,\n",
    "    weight = 10\n",
    "    )\n",
    "problem = GLQP(f=f,A=A,Q=Q,C=C,c=c,b = b)\n",
    "xt,results = problem.solve(verbose = True)\n",
    "x = xt[:n]\n",
    "\n",
    "order = np.argsort(x_true)\n",
    "plt.figure(figsize=(5,2))\n",
    "plt.plot(x_true[order],label = 'true signal (sorted)')\n",
    "plt.plot(x[order],label = 'l1 recovery')"
   ]
  },
  {
   "cell_type": "markdown",
   "metadata": {},
   "source": [
    "## Solve a problem with both equality and inequality constraints\n",
    "Also put some extra settings in"
   ]
  },
  {
   "cell_type": "code",
   "execution_count": 2,
   "metadata": {},
   "outputs": [
    {
     "name": "stdout",
     "output_type": "stream",
     "text": [
      "──────────────────────────────────────────────────────────────────────────────────────────────────────\n",
      "| GLQP | Variables: 100  │ Rows in A: 50   │ Equality Constraints: 50   │ Inequality Constraints: 10  \n",
      "───────────────────────────────────────────────────────────────────────────────────────────────────────────────────────────────────\n",
      "│ iter │   primal   │ dual_res  │ cons_viol │ comp_res  │  KKT_res  │    mu    │   Δx    │  step   │ refine │  time  │ lin_rel_res │\n",
      "───────────────────────────────────────────────────────────────────────────────────────────────────────────────────────────────────\n",
      "│    1 │  3.466e+03 │  1.37e+01 │  9.06e-01 │  7.06e+00 │  1.37e+01 │  3.3e-01 │ 1.5e+00 │ 6.6e-01 │      1 │   0.01s │ 6.5720e-16 │\n",
      "│    2 │  3.373e+03 │  1.04e+00 │  4.89e-15 │  1.88e+00 │  1.88e+00 │  3.3e-02 │ 7.9e-01 │ 1.0e+00 │      1 │   0.02s │ 5.1562e-16 │\n",
      "│    3 │  3.352e+03 │  3.61e-01 │  6.99e-15 │  8.46e-01 │  8.46e-01 │  1.4e+00 │ 1.7e+00 │ 6.7e-01 │      1 │   0.02s │ 8.6120e-15 │\n",
      "│    4 │  3.343e+03 │  7.27e-02 │  1.42e-14 │  2.85e+00 │  2.85e+00 │  1.4e-01 │ 3.0e+00 │ 1.0e+00 │      1 │   0.03s │ 8.4632e-16 │\n",
      "│    5 │  3.346e+03 │  1.59e-02 │  2.18e-14 │  7.91e-01 │  7.91e-01 │  2.1e-02 │ 8.9e-01 │ 9.1e-01 │      1 │   0.03s │ 3.5162e-15 │\n",
      "│    6 │  3.341e+03 │  4.43e-03 │  1.44e-14 │  1.48e-01 │  1.48e-01 │  2.1e-03 │ 6.2e-01 │ 1.0e+00 │      1 │   0.04s │ 2.3270e-15 │\n",
      "│    7 │  3.340e+03 │  5.51e-04 │  9.77e-15 │  3.77e-02 │  3.77e-02 │  2.1e-04 │ 2.3e-01 │ 1.0e+00 │      1 │   0.04s │ 4.3255e-15 │\n",
      "│    8 │  3.339e+03 │  7.59e-05 │  1.10e-14 │  9.16e-03 │  9.16e-03 │  2.1e-05 │ 1.1e-01 │ 1.0e+00 │      1 │   0.05s │ 6.2772e-15 │\n",
      "│    9 │  3.339e+03 │  1.43e-05 │  1.84e-14 │  1.96e-03 │  1.96e-03 │  2.1e-06 │ 5.2e-02 │ 1.0e+00 │      1 │   0.05s │ 7.7930e-15 │\n",
      "│   10 │  3.339e+03 │  1.95e-06 │  8.88e-15 │  2.69e-04 │  2.69e-04 │  2.1e-07 │ 1.9e-02 │ 1.0e+00 │      1 │   0.06s │ 3.5644e-14 │\n",
      "│   11 │  3.339e+03 │  6.99e-08 │  1.25e-14 │  9.79e-06 │  9.79e-06 │  2.1e-08 │ 3.6e-03 │ 1.0e+00 │      1 │   0.06s │ 4.0334e-14 │\n",
      "│   12 │  3.339e+03 │  1.07e-10 │  3.87e-12 │  3.54e-08 │  3.54e-08 │  2.1e-09 │ 1.4e-04 │ 1.0e+00 │      0 │   0.07s │ 3.9397e-09 │\n",
      "│   13 │  3.339e+03 │  2.58e-14 │  1.91e-14 │  2.07e-09 │  2.07e-09 │  2.1e-10 │ 4.8e-07 │ 1.0e+00 │      0 │   0.07s │ 3.3969e-09 │\n",
      "Optimal solution after 13 iterations in 0.07s. Final maxnorm KKT residual: 2.07e-09.\n"
     ]
    }
   ],
   "source": [
    "m = 50\n",
    "n = 100\n",
    "k = 10\n",
    "\n",
    "f,A,Q,C,c,b = build_random_logistic(m = m,n = n,k = k,density=0.1, seed = 2)\n",
    "\n",
    "rng = default_rng(10)\n",
    "E = csr_array(rng.normal(size = (n//2,n)))\n",
    "e = np.zeros(E.shape[0])\n",
    "\n",
    "\n",
    "problem = GLQP(f,A,Q,b,C,c,E = E ,e = e)\n",
    "settings = SolverSettings()\n",
    "x,results = problem.solve(verbose = True,mu0 = 1.,settings = settings) \n"
   ]
  },
  {
   "cell_type": "markdown",
   "metadata": {},
   "source": [
    "## Solve a problem with both equality and inequality constraints, where equality constraints are redundent"
   ]
  },
  {
   "cell_type": "code",
   "execution_count": 6,
   "metadata": {},
   "outputs": [
    {
     "name": "stdout",
     "output_type": "stream",
     "text": [
      "──────────────────────────────────────────────────────────────────────────────────────────────────────\n",
      "| GLQP | Variables: 100  │ Rows in A: 50   │ Equality Constraints: 20   │ Inequality Constraints: 10  \n",
      "───────────────────────────────────────────────────────────────────────────────────────────────────────────────────────────────────\n",
      "│ iter │   primal   │ dual_res  │ cons_viol │ comp_res  │  KKT_res  │    mu    │   Δx    │  step   │ refine │  time  │ lin_rel_res │\n",
      "───────────────────────────────────────────────────────────────────────────────────────────────────────────────────────────────────\n",
      "│    1 │  3.466e+03 │  2.61e+00 │  1.11e-15 │  3.73e+00 │  3.73e+00 │  1.0e-01 │ 2.2e+00 │ 1.0e+00 │      1 │   0.01s │ 8.0739e-16 │\n",
      "│    2 │  3.333e+03 │  1.32e-01 │  4.33e-15 │  3.83e-02 │  1.32e-01 │  1.0e-02 │ 6.4e-01 │ 9.9e-01 │      1 │   0.02s │ 1.4592e-12 │\n",
      "│    3 │  3.328e+03 │  1.75e-03 │  2.66e-15 │  4.82e-04 │  1.75e-03 │  1.0e-03 │ 4.5e+00 │ 9.9e-01 │      1 │   0.03s │ 2.2178e-10 │\n",
      "│    4 │  3.328e+03 │  1.79e-05 │  6.44e-15 │  6.40e-04 │  6.40e-04 │  1.0e-04 │ 3.9e+01 │ 9.9e-01 │      1 │   0.04s │ 9.4125e-07 │\n",
      "│    5 │  3.328e+03 │  1.38e-07 │  5.68e-14 │  2.57e-04 │  2.57e-04 │  1.0e-05 │ 2.2e+01 │ 1.0e+00 │      1 │   0.04s │ 1.0424e-05 │\n",
      "│    6 │  3.328e+03 │  1.43e-07 │  2.54e-13 │  6.92e-05 │  6.92e-05 │  1.0e-06 │ 1.7e+01 │ 1.0e+00 │      1 │   0.05s │ 1.2495e-05 │\n",
      "│    7 │  3.328e+03 │  8.69e-08 │  6.31e-14 │  1.78e-05 │  1.78e-05 │  1.0e-07 │ 1.0e+01 │ 1.0e+00 │      1 │   0.06s │ 1.3928e-05 │\n",
      "│    8 │  3.328e+03 │  4.63e-08 │  7.86e-14 │  4.50e-06 │  4.50e-06 │  1.0e-08 │ 5.2e+00 │ 1.0e+00 │      1 │   0.07s │ 1.4243e-05 │\n",
      "│    9 │  3.328e+03 │  2.38e-08 │  1.11e-15 │  1.13e-06 │  1.13e-06 │  1.0e-09 │ 2.6e+00 │ 1.0e+00 │      1 │   0.08s │ 1.4301e-05 │\n",
      "│   10 │  3.328e+03 │  6.64e-08 │  9.33e-15 │  2.73e-07 │  2.73e-07 │  1.0e-10 │ 8.6e-01 │ 1.0e+00 │      3 │   0.09s │ 8.1905e-05 │\n",
      "│   11 │  3.328e+03 │  3.66e-08 │  6.22e-15 │  7.10e-08 │  7.10e-08 │  2.0e-08 │ 6.0e-01 │ 9.8e-01 │      4 │   0.10s │ 9.3377e-05 │\n",
      "│   12 │  3.328e+03 │  3.62e-09 │  1.67e-15 │  2.57e-08 │  2.57e-08 │  2.0e-09 │ 3.3e-01 │ 1.0e+00 │      1 │   0.11s │ 1.2233e-05 │\n",
      "│   13 │  3.328e+03 │  1.91e-11 │  1.22e-15 │  7.06e-09 │  7.06e-09 │  2.0e-10 │ 1.3e-01 │ 1.0e+00 │      1 │   0.11s │ 1.3110e-07 │\n",
      "Optimal solution after 13 iterations in 0.11s. Final maxnorm KKT residual: 7.06e-09.\n"
     ]
    }
   ],
   "source": [
    "m = 50\n",
    "n = 100\n",
    "k = 10\n",
    "\n",
    "f,A,Q,C,c,b = build_random_logistic(m = m,n = n,k = k,density=0.1, seed = 2)\n",
    "\n",
    "rng = default_rng(10)\n",
    "E = csr_array(np.vstack([np.ones(n)]*20))\n",
    "e = np.zeros(E.shape[0])\n",
    "\n",
    "\n",
    "problem = GLQP(f,A,Q,b,C,c,E = E ,e = e)\n",
    "\n",
    "x,results = problem.solve(verbose = True,mu0 = 1.) "
   ]
  },
  {
   "cell_type": "markdown",
   "metadata": {},
   "source": [
    "## Solve a linear system"
   ]
  },
  {
   "cell_type": "code",
   "execution_count": 8,
   "metadata": {},
   "outputs": [
    {
     "name": "stdout",
     "output_type": "stream",
     "text": [
      "──────────────────────────────────────────────────────────────────────────────────────────────────────\n",
      "| GLQP | Variables: 100  │ Rows in A: 0    │ Equality Constraints: 0    │ Inequality Constraints: 0   \n",
      "───────────────────────────────────────────────────────────────────────────────────────────────────────────────────────────────────\n",
      "│ iter │   primal   │ dual_res  │ cons_viol │ comp_res  │  KKT_res  │    mu    │   Δx    │  step   │ refine │  time  │ lin_rel_res │\n",
      "───────────────────────────────────────────────────────────────────────────────────────────────────────────────────────────────────\n",
      "│    1 │  0.000e+00 │  9.95e-13 │  0.00e+00 │  1.00e-12 │  1.00e-12 │  1.0e-12 │ 2.0e+02 │ 1.0e+00 │      1 │   0.00s │ 1.9432e-13 │\n",
      "Optimal solution after 1 iterations in 0.00s. Final maxnorm KKT residual: 1.00e-12.\n"
     ]
    },
    {
     "data": {
      "image/png": "[encoded data removed]",
      "text/plain": [
       "<Figure size 500x200 with 1 Axes>"
      ]
     },
     "metadata": {},
     "output_type": "display_data"
    }
   ],
   "source": [
    "from scipy.sparse.linalg import LaplacianNd\n",
    "n = 100\n",
    "Q = -1 * LaplacianNd((n,),boundary_conditions = 'dirichlet').tosparse()\n",
    "b = np.abs(np.linspace(-1,1,n))\n",
    "b[n//2] -= 25\n",
    "problem = GLQP(Q = Q,b = b)\n",
    "\n",
    "x,results = problem.solve()\n",
    "plt.figure(figsize=(5,2))\n",
    "plt.plot(np.hstack([0,x,0]))\n",
    "plt.show()"
   ]
  },
  {
   "cell_type": "markdown",
   "metadata": {},
   "source": [
    "## Compare to CVXPY on large L1 problem"
   ]
  },
  {
   "cell_type": "code",
   "execution_count": null,
   "metadata": {},
   "outputs": [],
   "source": [
    "n = 2500\n",
    "m = 500000\n",
    "lam = 100.\n",
    "f,A,Q,C,c,b,x_true = build_logistic_lasso(m = m,n = n, seed = 2,lam = lam)\n",
    "problem = GLQP(f,A,Q,b,C,c)\n",
    "xt,results = problem.solve(verbose = True)\n",
    "x = xt[:n]\n",
    "\n",
    "order = np.argsort(x_true)\n",
    "plt.figure(figsize=(5,2))\n",
    "plt.plot(x_true[order],label = 'true signal (sorted)')\n",
    "plt.plot(x[order],label = 'l1 recovery')"
   ]
  },
  {
   "cell_type": "code",
   "execution_count": null,
   "metadata": {},
   "outputs": [],
   "source": [
    "import cvxpy as cp\n",
    "from scipy.sparse import csc_array\n",
    "A = csc_array(A)[:,:n]\n",
    "n = A.shape[1]\n",
    "\n",
    "beta = cp.Variable(n)\n",
    "lambd = cp.Parameter(nonneg=True)\n",
    "neg_log_likelihood = cp.sum(\n",
    "    cp.multiply(f.w,cp.logistic(A @ beta)- cp.multiply(f.y, A @ beta))\n",
    ")\n",
    "regularization = lam*cp.norm1(beta)\n",
    "\n",
    "problem  = cp.Problem(cp.Minimize(\n",
    "    (neg_log_likelihood + regularization))\n",
    ")\n",
    "problem.solve(verbose = True)"
   ]
  }
 ],
 "metadata": {
  "kernelspec": {
   "display_name": "glqp",
   "language": "python",
   "name": "python3"
  },
  "language_info": {
   "codemirror_mode": {
    "name": "ipython",
    "version": 3
   },
   "file_extension": ".py",
   "mimetype": "text/x-python",
   "name": "python",
   "nbconvert_exporter": "python",
   "pygments_lexer": "ipython3",
   "version": "3.13.2"
  }
 },
 "nbformat": 4,
 "nbformat_minor": 2
}
