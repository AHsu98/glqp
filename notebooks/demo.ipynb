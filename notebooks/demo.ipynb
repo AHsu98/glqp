{
 "cells": [
  {
   "cell_type": "code",
   "execution_count": 1,
   "metadata": {},
   "outputs": [],
   "source": [
    "import numpy as np\n",
    "from scipy.special import expit\n",
    "from numpy import logaddexp\n",
    "from glopt import GLMProblem,SolverSettings\n",
    "from problems import build_random_logistic,build_logistic_lasso\n",
    "import matplotlib.pyplot as plt\n",
    "from scipy.sparse import csc_array,diags_array,csr_array,block_array\n",
    "from numpy.random import default_rng"
   ]
  },
  {
   "cell_type": "markdown",
   "metadata": {},
   "source": [
    "## Solve an inequality constrained logistic regression problem"
   ]
  },
  {
   "cell_type": "code",
   "execution_count": 3,
   "metadata": {},
   "outputs": [
    {
     "name": "stdout",
     "output_type": "stream",
     "text": [
      "──────────────────────────────────────────────────────────────────────────────────────────────────────────\n",
      "Variables:: 500     │ Rows in A: 10,000  │ Equality Constraints: 0       │ Inequality Constraints: 100    \n",
      "──────────────────────────────────────────────────────────────────────────────────────────────────────────\n",
      "──────────────────────────────────────────────────────────────────────────────────────────────────────────────────────\n",
      "│ iter │   primal   │ dual_res  │ cons_viol │ comp_res  │  KKT_res  │    mu    │   Δx    │  step   │ refine │  time  │\n",
      "──────────────────────────────────────────────────────────────────────────────────────────────────────────────────────\n",
      "│    1 │ 6.9315e+05 │  1.84e+03 │  6.41e+00 │  2.97e+02 │  1.84e+03 │  4.9e+02 │ 3.5e-01 │ 3.5e-02 │      1 │   0.12s │\n",
      "│    2 │ 6.9839e+05 │  1.65e+03 │  5.37e+00 │  1.55e+04 │  1.55e+04 │  3.5e+02 │ 5.2e-01 │ 1.6e-01 │      1 │   0.19s │\n",
      "│    3 │ 6.8761e+05 │  1.05e+03 │  3.05e+00 │  9.67e+03 │  9.67e+03 │  3.3e+02 │ 5.0e-01 │ 4.3e-01 │      1 │   0.26s │\n",
      "│    4 │ 6.5912e+05 │  4.34e+02 │  4.88e-15 │  2.57e+03 │  2.57e+03 │  3.3e+00 │ 8.3e-01 │ 1.0e+00 │      1 │   0.33s │\n",
      "│    5 │ 6.5854e+05 │  6.51e+01 │  3.55e-15 │  7.88e+02 │  7.88e+02 │  2.0e+00 │ 2.9e-01 │ 8.9e-01 │      1 │   0.40s │\n",
      "│    6 │ 6.4356e+05 │  2.11e+00 │  3.55e-15 │  1.86e+02 │  1.86e+02 │  2.0e-02 │ 1.2e-01 │ 1.0e+00 │      1 │   0.47s │\n",
      "│    7 │ 6.3915e+05 │  2.39e-01 │  4.44e-15 │  3.92e+01 │  3.92e+01 │  1.1e+00 │ 3.9e-02 │ 9.8e-01 │      1 │   0.54s │\n",
      "│    8 │ 6.3854e+05 │  1.83e-02 │  4.44e-15 │  5.29e+00 │  5.29e+00 │  1.1e-02 │ 1.2e-02 │ 1.0e+00 │      1 │   0.61s │\n",
      "│    9 │ 6.3852e+05 │  5.37e-03 │  3.55e-15 │  5.78e-01 │  5.78e-01 │  1.1e-04 │ 6.6e-03 │ 1.0e+00 │      1 │   0.68s │\n",
      "│   10 │ 6.3846e+05 │  7.72e-04 │  4.44e-15 │  1.30e-01 │  1.30e-01 │  3.1e-03 │ 2.6e-03 │ 1.0e+00 │      1 │   0.75s │\n",
      "│   11 │ 6.3846e+05 │  1.06e-04 │  4.00e-15 │  2.54e-02 │  2.54e-02 │  3.1e-05 │ 1.0e-03 │ 1.0e+00 │      1 │   0.82s │\n",
      "│   12 │ 6.3846e+05 │  8.94e-06 │  3.55e-15 │  2.16e-03 │  2.16e-03 │  3.1e-07 │ 3.0e-04 │ 1.0e+00 │      1 │   0.89s │\n",
      "│   13 │ 6.3846e+05 │  8.09e-08 │  5.33e-15 │  2.28e-05 │  2.28e-05 │  3.1e-09 │ 2.7e-05 │ 1.0e+00 │      1 │   0.96s │\n",
      "│   14 │ 6.3846e+05 │  7.28e-12 │  4.44e-15 │  5.69e-09 │  5.69e-09 │  3.1e-11 │ 2.6e-07 │ 1.0e+00 │      1 │   1.04s │\n",
      "Optimal solution found after 14 iterations in 1.04s. Final maxnorm KKT residual: 5.69e-09.\n"
     ]
    }
   ],
   "source": [
    "f,A,Q,C,c,b = build_random_logistic(m = 10000,n = 500,k = 100,density=0.1, seed = 2)\n",
    "problem = GLMProblem(f,A,Q,b,C,c)\n",
    "x,results = problem.solve()"
   ]
  },
  {
   "cell_type": "markdown",
   "metadata": {},
   "source": [
    "## Solve an unconstrained logistic regression problem"
   ]
  },
  {
   "cell_type": "code",
   "execution_count": 4,
   "metadata": {},
   "outputs": [
    {
     "name": "stdout",
     "output_type": "stream",
     "text": [
      "──────────────────────────────────────────────────────────────────────────────────────────────────────────\n",
      "Variables:: 500     │ Rows in A: 10,000  │ Equality Constraints: 0       │ Inequality Constraints: 0      \n",
      "──────────────────────────────────────────────────────────────────────────────────────────────────────────\n",
      "──────────────────────────────────────────────────────────────────────────────────────────────────────────────────────\n",
      "│ iter │   primal   │ dual_res  │ cons_viol │ comp_res  │  KKT_res  │    mu    │   Δx    │  step   │ refine │  time  │\n",
      "──────────────────────────────────────────────────────────────────────────────────────────────────────────────────────\n",
      "│    1 │ 6.9315e+05 │  3.00e+02 │  0.00e+00 │  1.00e-12 │  3.00e+02 │  1.0e-12 │ 8.3e-01 │ 1.0e+00 │      1 │   0.10s │\n",
      "│    2 │ 5.8614e+05 │  2.74e+01 │  0.00e+00 │  1.00e-12 │  2.74e+01 │  1.0e-12 │ 2.1e-01 │ 1.0e+00 │      1 │   0.17s │\n",
      "│    3 │ 5.8259e+05 │  2.81e-01 │  0.00e+00 │  1.00e-12 │  2.81e-01 │  1.0e-12 │ 2.3e-02 │ 1.0e+00 │      0 │   0.24s │\n",
      "│    4 │ 5.8256e+05 │  2.85e-05 │  0.00e+00 │  1.00e-12 │  2.85e-05 │  1.0e-12 │ 2.4e-04 │ 1.0e+00 │      0 │   0.31s │\n",
      "│    5 │ 5.8256e+05 │  3.24e-13 │  0.00e+00 │  1.00e-12 │  1.00e-12 │  1.0e-12 │ 2.4e-08 │ 1.0e+00 │      0 │   0.37s │\n",
      "Optimal solution found after 5 iterations in 0.37s. Final maxnorm KKT residual: 1.00e-12.\n"
     ]
    }
   ],
   "source": [
    "problem = GLMProblem(f,A,Q,C=None,c=None,b=b)\n",
    "x,results = problem.solve()"
   ]
  },
  {
   "cell_type": "markdown",
   "metadata": {},
   "source": [
    "## Solve a L1 regularized logistic regression"
   ]
  },
  {
   "cell_type": "code",
   "execution_count": 6,
   "metadata": {},
   "outputs": [
    {
     "name": "stdout",
     "output_type": "stream",
     "text": [
      "──────────────────────────────────────────────────────────────────────────────────────────────────────────\n",
      "Variables:: 4,000   │ Rows in A: 10,000  │ Equality Constraints: 0       │ Inequality Constraints: 4,000  \n",
      "──────────────────────────────────────────────────────────────────────────────────────────────────────────\n",
      "──────────────────────────────────────────────────────────────────────────────────────────────────────────────────────\n",
      "│ iter │   primal   │ dual_res  │ cons_viol │ comp_res  │  KKT_res  │    mu    │   Δx    │  step   │ refine │  time  │\n",
      "──────────────────────────────────────────────────────────────────────────────────────────────────────────────────────\n",
      "│    1 │ 6.9315e+06 │  6.75e+03 │  0.00e+00 │  2.30e+05 │  2.30e+05 │  2.0e+05 │ 6.5e+01 │ 1.0e+00 │      1 │   1.79s │\n",
      "│    2 │ 3.9259e+07 │  1.85e+01 │  2.84e-14 │  2.30e+04 │  2.30e+04 │  2.0e+03 │ 5.6e+01 │ 1.0e+00 │      1 │   3.36s │\n",
      "│    3 │ 6.7349e+07 │  4.81e-03 │  1.42e-14 │  3.04e+03 │  3.04e+03 │  2.0e+01 │ 1.1e+02 │ 1.0e+00 │      1 │   4.94s │\n",
      "│    4 │ 1.4918e+07 │  2.47e-02 │  5.33e-15 │  3.78e+02 │  3.78e+02 │  1.7e+00 │ 1.5e+01 │ 9.2e-01 │      1 │   6.59s │\n",
      "│    5 │ 7.4872e+06 │  1.19e+00 │  3.14e-15 │  2.34e+02 │  2.34e+02 │  4.5e+02 │ 6.1e-01 │ 4.1e-01 │      1 │   8.20s │\n",
      "│    6 │ 7.2029e+06 │  2.46e+00 │  8.88e-16 │  7.70e+02 │  7.70e+02 │  4.5e+00 │ 3.4e+00 │ 1.0e+00 │      1 │   9.76s │\n",
      "│    7 │ 8.5918e+06 │  1.98e-01 │  8.88e-16 │  7.03e+01 │  7.03e+01 │  5.8e-02 │ 3.4e+00 │ 9.3e-01 │      1 │  11.37s │\n",
      "│    8 │ 6.9199e+06 │  3.17e-01 │  4.44e-16 │  1.31e+01 │  1.31e+01 │  9.4e-01 │ 2.4e-01 │ 8.7e-01 │      1 │  13.11s │\n",
      "│    9 │ 6.8092e+06 │  1.70e-01 │  2.22e-16 │  2.92e+00 │  2.92e+00 │  9.4e-03 │ 3.6e-02 │ 1.0e+00 │      1 │  14.69s │\n",
      "│   10 │ 6.7963e+06 │  3.00e-02 │  2.22e-16 │  8.37e-01 │  8.37e-01 │  3.2e-04 │ 2.0e-02 │ 9.2e-01 │      1 │  16.29s │\n",
      "│   11 │ 6.7928e+06 │  1.96e-03 │  2.22e-16 │  2.08e-01 │  2.08e-01 │  1.6e-05 │ 9.2e-03 │ 9.9e-01 │      1 │  17.97s │\n",
      "│   12 │ 6.7924e+06 │  3.36e-04 │  2.22e-16 │  4.56e-02 │  4.56e-02 │  3.5e-05 │ 4.5e-03 │ 1.0e+00 │      1 │  19.58s │\n",
      "│   13 │ 6.7924e+06 │  5.59e-05 │  2.22e-16 │  6.93e-03 │  6.93e-03 │  3.5e-07 │ 1.8e-03 │ 1.0e+00 │      1 │  21.15s │\n",
      "│   14 │ 6.7924e+06 │  2.66e-06 │  2.22e-16 │  3.28e-04 │  3.28e-04 │  3.5e-09 │ 3.8e-04 │ 1.0e+00 │      0 │  22.74s │\n",
      "│   15 │ 6.7924e+06 │  7.40e-09 │  2.22e-16 │  9.00e-07 │  9.00e-07 │  3.5e-11 │ 2.0e-05 │ 1.0e+00 │      0 │  24.44s │\n",
      "│   16 │ 6.7924e+06 │  5.16e-11 │  2.22e-16 │  9.00e-11 │  9.00e-11 │  1.0e-12 │ 5.5e-08 │ 1.0e+00 │      0 │  26.02s │\n",
      "Optimal solution found after 16 iterations in 26.02s. Final maxnorm KKT residual: 9.00e-11.\n"
     ]
    },
    {
     "data": {
      "text/plain": [
       "[<matplotlib.lines.Line2D at 0x7ff30ba220f0>]"
      ]
     },
     "execution_count": 6,
     "metadata": {},
     "output_type": "execute_result"
    },
    {
     "data": {
      "image/png": "[encoded data removed]",
      "text/plain": [
       "<Figure size 500x200 with 1 Axes>"
      ]
     },
     "metadata": {},
     "output_type": "display_data"
    }
   ],
   "source": [
    "n = 2000\n",
    "lam = 250.\n",
    "f,A,Q,C,c,b,x_true = build_logistic_lasso(m = 10000,n = n, seed = 2,lam = lam)\n",
    "problem = GLMProblem(f=f,A=A,Q=Q,C=C,c=c,b = b)\n",
    "xt,results = problem.solve(verbose = True)\n",
    "x = xt[:n]\n",
    "\n",
    "order = np.argsort(x_true)\n",
    "plt.figure(figsize=(5,2))\n",
    "plt.plot(x_true[order],label = 'true signal (sorted)')\n",
    "plt.plot(x[order],label = 'l1 recovery')"
   ]
  },
  {
   "cell_type": "markdown",
   "metadata": {},
   "source": [
    "## Solve a problem with both equality and inequality constraints"
   ]
  },
  {
   "cell_type": "code",
   "execution_count": 8,
   "metadata": {},
   "outputs": [
    {
     "name": "stdout",
     "output_type": "stream",
     "text": [
      "──────────────────────────────────────────────────────────────────────────────────────────────────────────\n",
      "Variables:: 100     │ Rows in A: 50      │ Equality Constraints: 50      │ Inequality Constraints: 10     \n",
      "──────────────────────────────────────────────────────────────────────────────────────────────────────────\n",
      "──────────────────────────────────────────────────────────────────────────────────────────────────────────────────────\n",
      "│ iter │   primal   │ dual_res  │ cons_viol │ comp_res  │  KKT_res  │    mu    │   Δx    │  step   │ refine │  time  │\n",
      "──────────────────────────────────────────────────────────────────────────────────────────────────────────────────────\n",
      "│    1 │ 3.4657e+03 │  1.37e+01 │  9.06e-01 │  7.06e+00 │  1.37e+01 │  3.3e-01 │ 1.5e+00 │ 6.6e-01 │      1 │   0.02s │\n",
      "│    2 │ 3.3727e+03 │  1.04e+00 │  4.46e-13 │  1.88e+00 │  1.88e+00 │  3.4e-03 │ 7.9e-01 │ 1.0e+00 │      1 │   0.03s │\n",
      "│    3 │ 3.3521e+03 │  4.55e-01 │  2.42e-12 │  9.63e-01 │  9.63e-01 │  1.6e+00 │ 1.4e+00 │ 5.6e-01 │      1 │   0.04s │\n",
      "│    4 │ 3.3437e+03 │  1.10e-01 │  6.23e-12 │  3.69e+00 │  3.69e+00 │  1.6e-02 │ 3.4e+00 │ 1.0e+00 │      1 │   0.04s │\n",
      "│    5 │ 3.3472e+03 │  3.24e-02 │  4.51e-13 │  1.22e+00 │  1.22e+00 │  4.0e-02 │ 8.9e-01 │ 8.0e-01 │      1 │   0.05s │\n",
      "│    6 │ 3.3420e+03 │  6.09e-03 │  1.23e-12 │  2.28e-01 │  2.28e-01 │  4.0e-04 │ 7.7e-01 │ 1.0e+00 │      1 │   0.05s │\n",
      "│    7 │ 3.3399e+03 │  9.32e-04 │  4.76e-13 │  4.51e-02 │  4.51e-02 │  3.1e-04 │ 2.7e-01 │ 9.6e-01 │      1 │   0.06s │\n",
      "│    8 │ 3.3394e+03 │  1.04e-04 │  1.87e-13 │  1.10e-02 │  1.10e-02 │  3.1e-06 │ 1.2e-01 │ 1.0e+00 │      1 │   0.07s │\n",
      "│    9 │ 3.3394e+03 │  1.81e-05 │  7.53e-14 │  2.41e-03 │  2.41e-03 │  2.5e-07 │ 5.8e-02 │ 1.0e+00 │      1 │   0.07s │\n",
      "│   10 │ 3.3394e+03 │  2.63e-06 │  2.96e-14 │  3.60e-04 │  3.60e-04 │  3.3e-05 │ 2.2e-02 │ 1.0e+00 │      1 │   0.08s │\n",
      "│   11 │ 3.3394e+03 │  9.65e-08 │  1.73e-14 │  4.62e-05 │  4.62e-05 │  3.3e-07 │ 4.3e-03 │ 1.0e+00 │      1 │   0.08s │\n",
      "│   12 │ 3.3394e+03 │  2.65e-09 │  1.18e-14 │  6.47e-07 │  6.47e-07 │  3.3e-09 │ 6.6e-04 │ 1.0e+00 │      1 │   0.09s │\n",
      "│   13 │ 3.3394e+03 │  5.08e-13 │  1.29e-14 │  3.33e-09 │  3.33e-09 │  3.3e-11 │ 9.4e-06 │ 1.0e+00 │      1 │   0.09s │\n",
      "Optimal solution found after 13 iterations in 0.09s. Final maxnorm KKT residual: 3.33e-09.\n"
     ]
    }
   ],
   "source": [
    "m = 50\n",
    "n = 100\n",
    "k = 10\n",
    "\n",
    "f,A,Q,C,c,b = build_random_logistic(m = m,n = n,k = k,density=0.1, seed = 2)\n",
    "\n",
    "rng = default_rng(10)\n",
    "E = csr_array(rng.normal(size = (n//2,n)))\n",
    "e = np.zeros(E.shape[0])\n",
    "\n",
    "\n",
    "settings = SolverSettings(tau_reg = 1e-6)\n",
    "problem = GLMProblem(f,A,Q,b,C,c,E = E ,e = e,settings = settings)\n",
    "x,results = problem.solve(verbose = True,mu0 = 1.) \n"
   ]
  },
  {
   "cell_type": "markdown",
   "metadata": {},
   "source": [
    "## Solve a problem with both equality and inequality constraints, where equality constraints are redundent"
   ]
  },
  {
   "cell_type": "code",
   "execution_count": 11,
   "metadata": {},
   "outputs": [
    {
     "name": "stdout",
     "output_type": "stream",
     "text": [
      "──────────────────────────────────────────────────────────────────────────────────────────────────────────\n",
      "Variables:: 100     │ Rows in A: 50      │ Equality Constraints: 20      │ Inequality Constraints: 10     \n",
      "──────────────────────────────────────────────────────────────────────────────────────────────────────────\n",
      "──────────────────────────────────────────────────────────────────────────────────────────────────────────────────────\n",
      "│ iter │   primal   │ dual_res  │ cons_viol │ comp_res  │  KKT_res  │    mu    │   Δx    │  step   │ refine │  time  │\n",
      "──────────────────────────────────────────────────────────────────────────────────────────────────────────────────────\n",
      "│    1 │ 3.4657e+03 │  2.61e+00 │  1.94e-14 │  3.73e+00 │  3.73e+00 │  3.6e-02 │ 2.2e+00 │ 1.0e+00 │      0 │   0.01s │\n",
      "│    2 │ 3.3334e+03 │  1.32e-01 │  2.11e-15 │  3.77e-02 │  1.32e-01 │  3.6e-04 │ 6.4e-01 │ 9.9e-01 │      1 │   0.03s │\n",
      "│    3 │ 3.3282e+03 │  1.75e-03 │  8.88e-16 │  3.81e-04 │  1.75e-03 │  3.6e-06 │ 1.6e-01 │ 9.9e-01 │      1 │   0.04s │\n",
      "│    4 │ 3.3282e+03 │  1.60e-05 │  8.88e-16 │  3.92e-06 │  1.60e-05 │  3.6e-08 │ 1.4e-01 │ 9.9e-01 │      1 │   0.05s │\n",
      "│    5 │ 3.3282e+03 │  2.50e-10 │  2.11e-15 │  3.83e-07 │  3.83e-07 │  5.9e-10 │ 4.3e-01 │ 1.0e+00 │      5 │   0.06s │\n",
      "│    6 │ 3.3282e+03 │  3.35e-10 │  4.44e-16 │  8.47e-08 │  8.47e-08 │  1.9e-11 │ 5.2e-01 │ 1.0e+00 │      5 │   0.08s │\n",
      "│    7 │ 3.3282e+03 │  2.83e-10 │  1.11e-15 │  1.92e-08 │  1.92e-08 │  2.9e-08 │ 1.8e-01 │ 9.1e-01 │      3 │   0.09s │\n",
      "│    8 │ 3.3282e+03 │  4.68e-10 │  2.00e-15 │  4.55e-08 │  4.55e-08 │  2.9e-10 │ 1.9e-01 │ 1.0e+00 │      3 │   0.10s │\n",
      "│    9 │ 3.3282e+03 │  1.95e-10 │  3.55e-15 │  1.19e-08 │  1.19e-08 │  3.4e-11 │ 1.5e-01 │ 9.7e-01 │      4 │   0.11s │\n",
      "│   10 │ 3.3282e+03 │  3.10e-10 │  2.33e-15 │  2.82e-09 │  2.82e-09 │  1.0e-12 │ 5.4e-02 │ 1.0e+00 │      2 │   0.12s │\n",
      "Optimal solution found after 10 iterations in 0.12s. Final maxnorm KKT residual: 2.82e-09.\n"
     ]
    }
   ],
   "source": [
    "m = 50\n",
    "n = 100\n",
    "k = 10\n",
    "\n",
    "f,A,Q,C,c,b = build_random_logistic(m = m,n = n,k = k,density=0.1, seed = 2)\n",
    "\n",
    "rng = default_rng(10)\n",
    "E = csr_array(np.vstack([np.ones(n)]*20))\n",
    "e = np.zeros(E.shape[0])\n",
    "\n",
    "\n",
    "settings = SolverSettings(tau_reg = 1e-12,max_iterative_refinement=20)\n",
    "problem = GLMProblem(f,A,Q,b,C,c,E = E ,e = e,settings = settings)\n",
    "x,results = problem.solve(verbose = True,mu0 = 1.) "
   ]
  },
  {
   "cell_type": "markdown",
   "metadata": {},
   "source": [
    "## Solve a linear system"
   ]
  },
  {
   "cell_type": "code",
   "execution_count": 12,
   "metadata": {},
   "outputs": [
    {
     "name": "stdout",
     "output_type": "stream",
     "text": [
      "──────────────────────────────────────────────────────────────────────────────────────────────────────────\n",
      "Variables:: 100     │ Rows in A: 0       │ Equality Constraints: 0       │ Inequality Constraints: 0      \n",
      "──────────────────────────────────────────────────────────────────────────────────────────────────────────\n",
      "──────────────────────────────────────────────────────────────────────────────────────────────────────────────────────\n",
      "│ iter │   primal   │ dual_res  │ cons_viol │ comp_res  │  KKT_res  │    mu    │   Δx    │  step   │ refine │  time  │\n",
      "──────────────────────────────────────────────────────────────────────────────────────────────────────────────────────\n",
      "│    1 │ 0.0000e+00 │  9.95e-13 │  0.00e+00 │  1.00e-12 │  1.00e-12 │  1.0e-12 │ 2.0e+02 │ 1.0e+00 │      1 │   0.01s │\n",
      "Optimal solution found after 1 iterations in 0.01s. Final maxnorm KKT residual: 1.00e-12.\n"
     ]
    },
    {
     "data": {
      "image/png": "[encoded data removed]",
      "text/plain": [
       "<Figure size 500x200 with 1 Axes>"
      ]
     },
     "metadata": {},
     "output_type": "display_data"
    }
   ],
   "source": [
    "from scipy.sparse.linalg import LaplacianNd\n",
    "n = 100\n",
    "Q = LaplacianNd((n,),boundary_conditions = 'dirichlet').tosparse()\n",
    "b = np.abs(np.linspace(-1,1,n))\n",
    "b[n//2] -= 25\n",
    "problem = GLMProblem(Q = Q,b = b)\n",
    "x,results = problem.solve()\n",
    "plt.figure(figsize=(5,2))\n",
    "plt.plot(np.hstack([0,x,0]))\n",
    "plt.show()"
   ]
  },
  {
   "cell_type": "markdown",
   "metadata": {},
   "source": [
    "## Compare to CVXPY on large L1 problem"
   ]
  },
  {
   "cell_type": "code",
   "execution_count": 14,
   "metadata": {},
   "outputs": [
    {
     "name": "stdout",
     "output_type": "stream",
     "text": [
      "──────────────────────────────────────────────────────────────────────────────────────────────────────────\n",
      "Variables:: 5,000   │ Rows in A: 500,000 │ Equality Constraints: 0       │ Inequality Constraints: 5,000  \n",
      "──────────────────────────────────────────────────────────────────────────────────────────────────────────\n",
      "──────────────────────────────────────────────────────────────────────────────────────────────────────────────────────\n",
      "│ iter │   primal   │ dual_res  │ cons_viol │ comp_res  │  KKT_res  │    mu    │   Δx    │  step   │ refine │  time  │\n",
      "──────────────────────────────────────────────────────────────────────────────────────────────────────────────────────\n",
      "│    1 │ 3.4657e+08 │  1.92e+04 │  0.00e+00 │  4.38e+04 │  4.38e+04 │  3.2e+04 │ 3.7e+00 │ 1.0e+00 │      2 │   6.96s │\n",
      "│    2 │ 3.3703e+08 │  4.62e+02 │  1.78e-15 │  2.76e+03 │  2.76e+03 │  3.2e+02 │ 3.2e+00 │ 9.8e-01 │      1 │  12.26s │\n",
      "│    3 │ 3.3774e+08 │  7.39e-01 │  1.78e-15 │  3.46e+02 │  3.46e+02 │  3.2e+00 │ 9.1e-02 │ 1.0e+00 │      1 │  17.56s │\n",
      "│    4 │ 3.3772e+08 │  7.16e-02 │  1.55e-15 │  7.02e+01 │  7.02e+01 │  1.3e-01 │ 6.1e+00 │ 9.0e-01 │      1 │  22.89s │\n",
      "│    5 │ 3.3620e+08 │  2.14e-02 │  8.88e-16 │  1.65e+01 │  1.65e+01 │  3.3e+01 │ 5.5e-01 │ 7.7e-01 │      1 │  28.64s │\n",
      "│    6 │ 3.3608e+08 │  3.40e-04 │  4.44e-16 │  3.60e+01 │  3.60e+01 │  3.3e-01 │ 5.0e-01 │ 1.0e+00 │      1 │  34.17s │\n",
      "│    7 │ 3.3620e+08 │  8.52e-04 │  4.44e-16 │  8.62e+00 │  8.62e+00 │  2.4e-02 │ 5.8e-01 │ 8.8e-01 │      1 │  39.57s │\n",
      "│    8 │ 3.3606e+08 │  2.42e-04 │  4.44e-16 │  1.05e+00 │  1.05e+00 │  2.8e-03 │ 7.6e-02 │ 8.8e-01 │      1 │  45.60s │\n",
      "│    9 │ 3.3604e+08 │  1.27e-03 │  4.44e-16 │  4.16e-01 │  4.16e-01 │  7.9e-01 │ 6.5e-03 │ 6.3e-01 │      1 │  51.03s │\n",
      "│   10 │ 3.3604e+08 │  2.29e-04 │  4.44e-16 │  8.77e-01 │  8.77e-01 │  7.9e-03 │ 1.2e-02 │ 1.0e+00 │      1 │  56.42s │\n",
      "│   11 │ 3.3604e+08 │  7.60e-04 │  4.44e-16 │  3.10e-01 │  3.10e-01 │  1.7e-03 │ 1.3e-02 │ 8.2e-01 │      1 │  61.80s │\n",
      "│   12 │ 3.3604e+08 │  3.71e-03 │  4.44e-16 │  9.84e-02 │  9.84e-02 │  7.4e-03 │ 2.2e-03 │ 7.3e-01 │      1 │  67.12s │\n",
      "│   13 │ 3.3604e+08 │  3.80e-03 │  4.44e-16 │  2.29e-02 │  2.29e-02 │  7.4e-05 │ 6.9e-04 │ 1.0e+00 │      1 │  72.38s │\n",
      "│   14 │ 3.3604e+08 │  1.03e-03 │  4.44e-16 │  6.95e-03 │  6.95e-03 │  1.9e-04 │ 2.6e-04 │ 8.8e-01 │      1 │  77.49s │\n",
      "│   15 │ 3.3604e+08 │  1.53e-04 │  4.44e-16 │  1.77e-03 │  1.77e-03 │  1.9e-06 │ 1.3e-04 │ 1.0e+00 │      0 │  82.60s │\n",
      "│   16 │ 3.3604e+08 │  2.42e-05 │  4.44e-16 │  4.64e-04 │  4.64e-04 │  2.5e-07 │ 6.8e-05 │ 9.7e-01 │      0 │  88.01s │\n",
      "│   17 │ 3.3604e+08 │  3.12e-06 │  4.44e-16 │  1.16e-04 │  1.16e-04 │  2.5e-09 │ 3.4e-05 │ 1.0e+00 │      1 │  93.38s │\n",
      "│   18 │ 3.3604e+08 │  4.27e-07 │  4.44e-16 │  2.89e-05 │  2.89e-05 │  3.8e-07 │ 1.7e-05 │ 1.0e+00 │      0 │  98.61s │\n",
      "│   19 │ 3.3604e+08 │  6.18e-08 │  4.44e-16 │  7.39e-06 │  7.39e-06 │  3.8e-09 │ 8.4e-06 │ 1.0e+00 │      1 │ 103.66s │\n",
      "│   20 │ 3.3604e+08 │  1.05e-08 │  4.44e-16 │  1.84e-06 │  1.84e-06 │  3.8e-11 │ 4.3e-06 │ 1.0e+00 │      0 │ 108.89s │\n",
      "│   21 │ 3.3604e+08 │  1.70e-09 │  4.44e-16 │  4.56e-07 │  4.56e-07 │  1.4e-09 │ 2.1e-06 │ 1.0e+00 │      1 │ 114.60s │\n",
      "│   22 │ 3.3604e+08 │  2.42e-10 │  4.44e-16 │  1.15e-07 │  1.15e-07 │  1.4e-11 │ 1.1e-06 │ 1.0e+00 │      1 │ 119.98s │\n",
      "│   23 │ 3.3604e+08 │  3.49e-11 │  4.44e-16 │  2.86e-08 │  2.86e-08 │  3.6e-11 │ 5.4e-07 │ 1.0e+00 │      1 │ 125.17s │\n",
      "│   24 │ 3.3604e+08 │  6.99e-12 │  4.44e-16 │  7.05e-09 │  7.05e-09 │  1.0e-12 │ 2.7e-07 │ 1.0e+00 │      1 │ 130.35s │\n",
      "Optimal solution found after 24 iterations in 130.35s. Final maxnorm KKT residual: 7.05e-09.\n"
     ]
    },
    {
     "data": {
      "text/plain": [
       "[<matplotlib.lines.Line2D at 0x7ff3091a7560>]"
      ]
     },
     "execution_count": 14,
     "metadata": {},
     "output_type": "execute_result"
    },
    {
     "data": {
      "image/png": "[encoded data removed]",
      "text/plain": [
       "<Figure size 500x200 with 1 Axes>"
      ]
     },
     "metadata": {},
     "output_type": "display_data"
    }
   ],
   "source": [
    "n = 2500\n",
    "m = 500000\n",
    "lam = 100.\n",
    "f,A,Q,C,c,b,x_true = build_logistic_lasso(m = m,n = n, seed = 2,lam = lam)\n",
    "problem = GLMProblem(f,A,Q,b,C,c)\n",
    "xt,results = problem.solve(verbose = True)\n",
    "x = xt[:n]\n",
    "\n",
    "order = np.argsort(x_true)\n",
    "plt.figure(figsize=(5,2))\n",
    "plt.plot(x_true[order],label = 'true signal (sorted)')\n",
    "plt.plot(x[order],label = 'l1 recovery')"
   ]
  },
  {
   "cell_type": "code",
   "execution_count": null,
   "metadata": {},
   "outputs": [
    {
     "name": "stdout",
     "output_type": "stream",
     "text": [
      "===============================================================================\n",
      "                                     CVXPY                                     \n",
      "                                     v1.6.5                                    \n",
      "===============================================================================\n",
      "(CVXPY) Apr 20 01:57:27 PM: Your problem has 2500 variables, 0 constraints, and 0 parameters.\n",
      "(CVXPY) Apr 20 01:57:27 PM: It is compliant with the following grammars: DCP, DQCP\n",
      "(CVXPY) Apr 20 01:57:27 PM: (If you need to solve this problem multiple times, but with different data, consider using parameters.)\n",
      "(CVXPY) Apr 20 01:57:27 PM: CVXPY will first compile your problem; then, it will invoke a numerical solver to obtain a solution.\n",
      "(CVXPY) Apr 20 01:57:27 PM: Your problem is compiled with the CPP canonicalization backend.\n",
      "-------------------------------------------------------------------------------\n",
      "                                  Compilation                                  \n",
      "-------------------------------------------------------------------------------\n",
      "(CVXPY) Apr 20 01:57:27 PM: Compiling problem (target solver=CLARABEL).\n",
      "(CVXPY) Apr 20 01:57:27 PM: Reduction chain: Dcp2Cone -> CvxAttr2Constr -> ConeMatrixStuffing -> CLARABEL\n",
      "(CVXPY) Apr 20 01:57:27 PM: Applying reduction Dcp2Cone\n",
      "(CVXPY) Apr 20 01:57:27 PM: Applying reduction CvxAttr2Constr\n",
      "(CVXPY) Apr 20 01:57:27 PM: Applying reduction ConeMatrixStuffing\n",
      "(CVXPY) Apr 20 01:57:53 PM: Applying reduction CLARABEL\n",
      "(CVXPY) Apr 20 01:58:00 PM: Finished problem compilation (took 3.298e+01 seconds).\n",
      "-------------------------------------------------------------------------------\n",
      "                                Numerical solver                               \n",
      "-------------------------------------------------------------------------------\n",
      "(CVXPY) Apr 20 01:58:00 PM: Invoking solver CLARABEL  to obtain a solution.\n",
      "-------------------------------------------------------------\n",
      "           Clarabel.rs v0.10.0  -  Clever Acronym                \n",
      "\n",
      "                   (c) Paul Goulart                          \n",
      "                University of Oxford, 2022                   \n",
      "-------------------------------------------------------------\n",
      "\n",
      "problem:\n",
      "  variables     = 1505000\n",
      "  constraints   = 3505000\n",
      "  nnz(P)        = 0\n",
      "  nnz(A)        = 15510000\n",
      "  cones (total) = 1000001\n",
      "    : Nonnegative = 1,  numel = 505000\n",
      "    : Exponential = 1000000,  numel = (3,3,3,3,...,3)\n",
      "\n",
      "settings:\n",
      "  linear algebra: direct / qdldl, precision: 64 bit\n",
      "  max iter = 200, time limit = Inf,  max step = 0.990\n",
      "  tol_feas = 1.0e-8, tol_gap_abs = 1.0e-8, tol_gap_rel = 1.0e-8,\n",
      "  static reg : on, ϵ1 = 1.0e-8, ϵ2 = 4.9e-32\n",
      "  dynamic reg: on, ϵ = 1.0e-13, δ = 2.0e-7\n",
      "  iter refine: on, reltol = 1.0e-13, abstol = 1.0e-12,\n",
      "               max iter = 10, stop ratio = 5.0\n",
      "  equilibrate: on, min_scale = 1.0e-4, max_scale = 1.0e4\n",
      "               max iter = 10\n",
      "\n",
      "iter    pcost        dcost       gap       pres      dres      k/t        μ       step      \n",
      "---------------------------------------------------------------------------------------------\n",
      "  0  +0.0000e+00  -1.0564e+06  1.06e+06  9.08e-01  1.34e+01  1.00e+00  1.00e+00   ------   \n",
      "  1  -4.2798e+06  -5.3288e+06  2.45e-01  6.59e-01  1.27e+01  4.47e+00  2.22e-01  9.80e-01  \n",
      "  2  -2.2700e+07  -2.3714e+07  4.47e-02  5.91e-01  1.00e+01  1.99e+01  4.75e-02  7.92e-01  \n",
      "  3  -7.6198e+07  -7.7068e+07  1.14e-02  5.55e-01  5.03e+00  7.41e+01  1.02e-02  7.92e-01  \n",
      "  4  -4.3629e+07  -4.4124e+07  1.13e-02  3.98e-01  1.34e+00  1.40e+02  2.18e-03  7.92e-01  \n",
      "  5  +1.6903e+08  +1.6885e+08  1.08e-03  1.49e-01  2.57e-01  1.04e+02  4.68e-04  7.92e-01  \n",
      "  6  +2.8974e+08  +2.8969e+08  1.76e-04  4.01e-02  5.31e-02  3.97e+01  1.00e-04  7.92e-01  \n",
      "  7  +3.2443e+08  +3.2442e+08  4.10e-05  1.03e-02  1.29e-02  9.70e+00  2.46e-05  7.92e-01  \n",
      "  8  +3.3354e+08  +3.3354e+08  8.66e-06  2.23e-03  2.76e-03  2.06e+00  5.26e-06  7.92e-01  \n",
      "  9  +3.3550e+08  +3.3550e+08  1.85e-06  4.80e-04  5.92e-04  4.36e-01  1.13e-06  7.92e-01  \n",
      " 10  +3.3598e+08  +3.3598e+08  2.29e-07  5.95e-05  7.34e-05  5.20e-02  1.40e-07  8.90e-01  \n",
      " 11  +3.3603e+08  +3.3603e+08  5.02e-08  1.30e-05  1.61e-05  1.12e-02  3.07e-08  7.92e-01  \n",
      " 12  +3.3604e+08  +3.3604e+08  1.07e-08  2.79e-06  3.44e-06  2.38e-03  6.58e-09  7.92e-01  \n",
      " 13  +3.3604e+08  +3.3604e+08  9.74e-09  2.53e-06  3.12e-06  2.15e-03  5.96e-09  1.06e-01  \n",
      " 14  +3.3604e+08  +3.3604e+08  9.74e-09  2.53e-06  3.12e-06  2.15e-03  5.96e-09  0.00e+00  \n",
      " 15  +3.3604e+08  +3.3604e+08  4.03e-09  1.05e-06  1.29e-06  9.23e-04  2.26e-09  6.34e-01  \n",
      " 16  +3.3604e+08  +3.3604e+08  2.21e-09  5.74e-07  7.09e-07  4.88e-04  1.26e-09  5.07e-01  \n",
      " 17  +3.3604e+08  +3.3604e+08  1.90e-09  4.94e-07  6.10e-07  3.97e-04  1.09e-09  3.24e-01  \n",
      " 18  +3.3604e+08  +3.3604e+08  1.66e-09  4.31e-07  5.32e-07  2.76e-04  9.63e-10  9.80e-01  \n",
      " 19  +3.3604e+08  +3.3604e+08  1.28e-09  3.31e-07  4.09e-07  2.11e-04  7.40e-10  9.80e-01  \n",
      " 20  +3.3604e+08  +3.3604e+08  5.62e-10  1.46e-07  1.80e-07  9.29e-05  3.26e-10  6.34e-01  \n",
      " 21  +3.3604e+08  +3.3604e+08  4.32e-10  1.12e-07  1.38e-07  7.14e-05  2.50e-10  9.80e-01  \n",
      " 22  +3.3604e+08  +3.3604e+08  9.27e-11  2.40e-08  2.97e-08  1.53e-05  5.36e-11  7.92e-01  \n",
      " 23  +3.3604e+08  +3.3604e+08  8.95e-11  2.32e-08  2.87e-08  1.48e-05  5.18e-11  3.48e-02  \n",
      " 24  +3.3604e+08  +3.3604e+08  7.82e-11  2.03e-08  2.50e-08  1.29e-05  4.53e-11  1.33e-01  \n",
      " 25  +3.3604e+08  +3.3604e+08  7.32e-11  1.90e-08  2.34e-08  1.21e-05  4.23e-11  6.80e-02  \n",
      " 26  +3.3604e+08  +3.3604e+08  7.14e-11  1.85e-08  2.28e-08  1.18e-05  4.13e-11  2.79e-02  \n",
      " 27  +3.3604e+08  +3.3604e+08  6.29e-11  1.63e-08  2.02e-08  1.04e-05  3.64e-11  1.33e-01  \n",
      " 28  +3.3604e+08  +3.3604e+08  6.27e-11  1.63e-08  2.01e-08  1.04e-05  3.63e-11  4.68e-03  \n",
      " 29  +3.3604e+08  +3.3604e+08  6.23e-11  1.62e-08  1.99e-08  1.03e-05  3.61e-11  7.30e-03  \n",
      " 30  +3.3604e+08  +3.3604e+08  6.20e-11  1.61e-08  1.98e-08  1.02e-05  3.59e-11  5.84e-03  \n",
      " 31  +3.3604e+08  +3.3604e+08  6.18e-11  1.60e-08  1.98e-08  1.02e-05  3.58e-11  1.91e-03  \n",
      " 32  +3.3604e+08  +3.3604e+08  6.13e-11  1.59e-08  1.96e-08  1.01e-05  3.55e-11  9.13e-03  \n",
      " 33  +3.3604e+08  +3.3604e+08  6.01e-11  1.56e-08  1.93e-08  9.94e-06  3.48e-11  2.23e-02  \n",
      " 34  +3.3604e+08  +3.3604e+08  5.65e-11  1.47e-08  1.81e-08  9.34e-06  3.27e-11  6.80e-02  \n",
      " 35  +3.3604e+08  +3.3604e+08  5.64e-11  1.47e-08  1.81e-08  9.34e-06  3.27e-11  9.80e-04  \n",
      " 36  +3.3604e+08  +3.3604e+08  5.59e-11  1.45e-08  1.79e-08  9.24e-06  3.24e-11  1.14e-02  \n",
      " 37  +3.3604e+08  +3.3604e+08  5.58e-11  1.45e-08  1.79e-08  9.23e-06  3.23e-11  9.80e-04  \n",
      " 38  +3.3604e+08  +3.3604e+08  5.53e-11  1.43e-08  1.77e-08  9.14e-06  3.20e-11  1.14e-02  \n",
      " 39  +3.3604e+08  +3.3604e+08  5.50e-11  1.43e-08  1.76e-08  9.10e-06  3.19e-11  4.68e-03  \n",
      " 40  +3.3604e+08  +3.3604e+08  5.50e-11  1.43e-08  1.76e-08  9.10e-06  3.19e-11  9.80e-04  \n",
      " 41  +3.3604e+08  +3.3604e+08  5.49e-11  1.42e-08  1.76e-08  9.07e-06  3.18e-11  2.99e-03  \n",
      " 42  +3.3604e+08  +3.3604e+08  5.48e-11  1.42e-08  1.76e-08  9.07e-06  3.18e-11  6.27e-04  \n",
      " 43  +3.3604e+08  +3.3604e+08  5.42e-11  1.40e-08  1.73e-08  8.95e-06  3.14e-11  1.43e-02  \n",
      " 44  +3.3604e+08  +3.3604e+08  5.34e-11  1.39e-08  1.71e-08  8.84e-06  3.10e-11  1.43e-02  \n",
      "\n",
      " 45  +3.3604e+08  +3.3604e+08  5.33e-11  1.38e-08  1.71e-08  8.81e-06  3.09e-11  3.74e-03  "
     ]
    }
   ],
   "source": [
    "import cvxpy as cp\n",
    "from scipy.sparse import csc_array\n",
    "A = csc_array(A)[:,:n]\n",
    "n = A.shape[1]\n",
    "\n",
    "beta = cp.Variable(n)\n",
    "lambd = cp.Parameter(nonneg=True)\n",
    "neg_log_likelihood = cp.sum(\n",
    "    cp.multiply(f.w,cp.logistic(A @ beta)- cp.multiply(f.y, A @ beta))\n",
    ")\n",
    "regularization = lam*cp.norm1(beta)\n",
    "\n",
    "problem  = cp.Problem(cp.Minimize(\n",
    "    (neg_log_likelihood + regularization))\n",
    ")\n",
    "problem.solve(verbose = True)"
   ]
  },
  {
   "cell_type": "code",
   "execution_count": 10,
   "metadata": {},
   "outputs": [
    {
     "data": {
      "text/plain": [
       "array([1.])"
      ]
     },
     "execution_count": 10,
     "metadata": {},
     "output_type": "execute_result"
    }
   ],
   "source": [
    "np.ones(1)"
   ]
  }
 ],
 "metadata": {
  "kernelspec": {
   "display_name": "spx-opt",
   "language": "python",
   "name": "python3"
  },
  "language_info": {
   "codemirror_mode": {
    "name": "ipython",
    "version": 3
   },
   "file_extension": ".py",
   "mimetype": "text/x-python",
   "name": "python",
   "nbconvert_exporter": "python",
   "pygments_lexer": "ipython3",
   "version": "3.12.2"
  }
 },
 "nbformat": 4,
 "nbformat_minor": 2
}
