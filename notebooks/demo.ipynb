{
 "cells": [
  {
   "cell_type": "code",
   "execution_count": 1,
   "metadata": {},
   "outputs": [],
   "source": [
    "import numpy as np\n",
    "from scipy.special import expit\n",
    "from numpy import logaddexp\n",
    "from glqp import GLQP,SolverSettings\n",
    "from glqp.example_problems import build_random_logistic,build_logistic_lasso\n",
    "import matplotlib.pyplot as plt\n",
    "from scipy.sparse import csc_array,diags_array,csr_array,block_array\n",
    "from numpy.random import default_rng"
   ]
  },
  {
   "cell_type": "markdown",
   "metadata": {},
   "source": [
    "## Solve an inequality constrained logistic regression problem"
   ]
  },
  {
   "cell_type": "code",
   "execution_count": 2,
   "metadata": {},
   "outputs": [
    {
     "name": "stdout",
     "output_type": "stream",
     "text": [
      "────────────────────────────────────────────────────────────────────────────────────────────────────────\n",
      "| GLQP | Variables: 500  │ Rows in A: 10,000 │ Equality Constraints: 0    │ Inequality Constraints: 100 \n",
      "───────────────────────────────────────────────────────────────────────────────────────────────────────────────────────────────────\n",
      "│ iter │   primal   │ dual_res  │ cons_viol │ comp_res  │  KKT_res  │    mu    │   Δx    │  step   │ refine │  time  │ lin_rel_res │\n",
      "───────────────────────────────────────────────────────────────────────────────────────────────────────────────────────────────────\n",
      "│    1 │  6.931e+05 │  1.84e+03 │  6.41e+00 │  2.97e+02 │  1.84e+03 │  1.1e+02 │ 3.5e-01 │ 3.5e-02 │      1 │   0.11s │ 7.7123e-15 │\n",
      "│    2 │  6.984e+05 │  1.52e+03 │  5.11e+00 │  1.27e+03 │  1.52e+03 │  1.1e+02 │ 2.6e-01 │ 2.0e-01 │      1 │   0.19s │ 1.2680e-15 │\n",
      "│    3 │  6.720e+05 │  1.04e+03 │  3.22e+00 │  8.75e+02 │  1.04e+03 │  9.7e+01 │ 4.0e-01 │ 3.7e-01 │      1 │   0.27s │ 1.3175e-15 │\n",
      "│    4 │  6.484e+05 │  4.55e+02 │  1.52e-01 │  2.76e+02 │  4.55e+02 │  1.7e+01 │ 7.6e-01 │ 9.5e-01 │      1 │   0.33s │ 1.2613e-15 │\n",
      "│    5 │  6.441e+05 │  5.81e+01 │  3.55e-15 │  7.28e+01 │  7.28e+01 │  1.7e+00 │ 2.2e-01 │ 1.0e+00 │      1 │   0.41s │ 1.1344e-15 │\n",
      "│    6 │  6.400e+05 │  1.34e+00 │  4.44e-15 │  1.16e+01 │  1.16e+01 │  1.7e-01 │ 7.4e-02 │ 1.0e+00 │      1 │   0.48s │ 1.4242e-15 │\n",
      "│    7 │  6.386e+05 │  2.62e-02 │  3.55e-15 │  2.30e+00 │  2.30e+00 │  1.7e-02 │ 1.5e-02 │ 1.0e+00 │      1 │   0.55s │ 7.2705e-15 │\n",
      "│    8 │  6.385e+05 │  4.24e-03 │  3.55e-15 │  5.63e-01 │  5.63e-01 │  1.7e-03 │ 5.8e-03 │ 1.0e+00 │      1 │   0.63s │ 1.1022e-14 │\n",
      "│    9 │  6.385e+05 │  7.52e-04 │  3.55e-15 │  1.30e-01 │  1.30e-01 │  1.7e-04 │ 2.5e-03 │ 1.0e+00 │      1 │   0.70s │ 1.9429e-14 │\n",
      "│   10 │  6.385e+05 │  1.09e-04 │  5.33e-15 │  2.36e-02 │  2.36e-02 │  1.7e-05 │ 1.0e-03 │ 1.0e+00 │      1 │   0.77s │ 3.8400e-14 │\n",
      "│   11 │  6.385e+05 │  7.29e-06 │  3.11e-15 │  1.91e-03 │  1.91e-03 │  1.7e-06 │ 2.6e-04 │ 1.0e+00 │      1 │   0.85s │ 7.6894e-14 │\n",
      "│   12 │  6.385e+05 │  5.90e-08 │  4.88e-15 │  1.94e-05 │  1.94e-05 │  1.7e-07 │ 2.3e-05 │ 1.0e+00 │      1 │   0.92s │ 8.1352e-14 │\n",
      "│   13 │  6.385e+05 │  6.14e-12 │  6.22e-15 │  1.73e-07 │  1.73e-07 │  1.7e-08 │ 2.1e-07 │ 1.0e+00 │      1 │   1.00s │ 1.6871e-14 │\n",
      "│   14 │  6.385e+05 │  7.73e-12 │  4.88e-15 │  1.71e-08 │  1.71e-08 │  1.7e-09 │ 2.3e-09 │ 1.0e+00 │      0 │   1.07s │ 1.0881e-08 │\n",
      "│   15 │  6.385e+05 │  9.09e-12 │  3.11e-15 │  1.71e-09 │  1.71e-09 │  1.7e-10 │ 2.3e-10 │ 1.0e+00 │      0 │   1.15s │ 4.4798e-08 │\n",
      "Optimal solution after 15 iterations in 1.15s. Final maxnorm KKT residual: 1.71e-09.\n"
     ]
    }
   ],
   "source": [
    "f,A,Q,C,c,b = build_random_logistic(m = 10000,n = 500,k = 100,density=0.1, seed = 2)\n",
    "problem = GLQP(f=f,A=A,Q=Q,b=b,C=C,c=c)\n",
    "x,results = problem.solve()"
   ]
  },
  {
   "cell_type": "markdown",
   "metadata": {},
   "source": [
    "## Solve an unconstrained logistic regression problem"
   ]
  },
  {
   "cell_type": "code",
   "execution_count": 3,
   "metadata": {},
   "outputs": [
    {
     "name": "stdout",
     "output_type": "stream",
     "text": [
      "────────────────────────────────────────────────────────────────────────────────────────────────────────\n",
      "| GLQP | Variables: 500  │ Rows in A: 10,000 │ Equality Constraints: 0    │ Inequality Constraints: 0   \n",
      "───────────────────────────────────────────────────────────────────────────────────────────────────────────────────────────────────\n",
      "│ iter │   primal   │ dual_res  │ cons_viol │ comp_res  │  KKT_res  │    mu    │   Δx    │  step   │ refine │  time  │ lin_rel_res │\n",
      "───────────────────────────────────────────────────────────────────────────────────────────────────────────────────────────────────\n",
      "│    1 │  6.931e+05 │  3.00e+02 │  0.00e+00 │  1.00e-12 │  3.00e+02 │  9.0e-13 │ 8.3e-01 │ 1.0e+00 │      1 │   0.12s │ 1.0917e-15 │\n",
      "│    2 │  5.861e+05 │  2.74e+01 │  0.00e+00 │  9.00e-13 │  2.74e+01 │  8.1e-13 │ 2.1e-01 │ 1.0e+00 │      1 │   0.18s │ 1.2161e-15 │\n",
      "│    3 │  5.826e+05 │  2.81e-01 │  0.00e+00 │  8.10e-13 │  2.81e-01 │  7.3e-13 │ 2.3e-02 │ 1.0e+00 │      1 │   0.26s │ 1.2770e-15 │\n",
      "│    4 │  5.826e+05 │  2.85e-05 │  0.00e+00 │  7.29e-13 │  2.85e-05 │  6.6e-13 │ 2.4e-04 │ 1.0e+00 │      0 │   0.33s │ 4.5057e-12 │\n",
      "│    5 │  5.826e+05 │  3.60e-13 │  0.00e+00 │  6.56e-13 │  6.56e-13 │  1.0e-12 │ 2.4e-08 │ 1.0e+00 │      0 │   0.40s │ 4.7944e-12 │\n",
      "Optimal solution after 5 iterations in 0.40s. Final maxnorm KKT residual: 6.56e-13.\n"
     ]
    }
   ],
   "source": [
    "problem = GLQP(f,A,Q,C=None,c=None,b=b)\n",
    "x,results = problem.solve()"
   ]
  },
  {
   "cell_type": "markdown",
   "metadata": {},
   "source": [
    "## Solve a large L1 regularized logistic regression"
   ]
  },
  {
   "cell_type": "code",
   "execution_count": 4,
   "metadata": {},
   "outputs": [
    {
     "name": "stdout",
     "output_type": "stream",
     "text": [
      "───────────────────────────────────────────────────────────────────────────────────────────────────────────\n",
      "| GLQP | Variables: 5,000 │ Rows in A: 500,000 │ Equality Constraints: 0    │ Inequality Constraints: 5,000\n",
      "───────────────────────────────────────────────────────────────────────────────────────────────────────────────────────────────────\n",
      "│ iter │   primal   │ dual_res  │ cons_viol │ comp_res  │  KKT_res  │    mu    │   Δx    │  step   │ refine │  time  │ lin_rel_res │\n",
      "───────────────────────────────────────────────────────────────────────────────────────────────────────────────────────────────────\n",
      "│    1 │  3.466e+06 │  4.12e+03 │  0.00e+00 │  1.70e+05 │  1.70e+05 │  1.5e+05 │ 7.9e+01 │ 1.0e+00 │      1 │   6.88s │ 4.4923e-16 │\n",
      "│    2 │  1.326e+07 │  1.13e+02 │  5.68e-14 │  2.10e+04 │  2.10e+04 │  1.5e+04 │ 6.8e+01 │ 9.7e-01 │      1 │  12.09s │ 1.2189e-16 │\n",
      "│    3 │  2.180e+07 │  2.03e+01 │  1.14e-13 │  1.83e+04 │  1.83e+04 │  1.5e+03 │ 1.1e+02 │ 8.2e-01 │      1 │  18.21s │ 9.8585e-16 │\n",
      "│    4 │  3.588e+07 │  2.25e-01 │  4.26e-14 │  5.19e+03 │  5.19e+03 │  1.5e+02 │ 1.4e+02 │ 1.0e+00 │      1 │  23.59s │ 3.0619e-16 │\n",
      "│    5 │  1.804e+07 │  5.57e-04 │  1.42e-14 │  2.46e+02 │  2.46e+02 │  1.5e+01 │ 1.1e+02 │ 1.0e+00 │      1 │  28.81s │ 1.5446e-16 │\n",
      "│    6 │  4.109e+06 │  1.82e-04 │  8.88e-16 │  1.84e+01 │  1.84e+01 │  1.5e+00 │ 5.3e+00 │ 1.0e+00 │      1 │  33.84s │ 1.2720e-16 │\n",
      "│    7 │  3.441e+06 │  2.44e-02 │  4.44e-16 │  4.20e+00 │  4.20e+00 │  1.5e-01 │ 5.1e-01 │ 9.6e-01 │      1 │  38.78s │ 1.8606e-15 │\n",
      "│    8 │  3.379e+06 │  3.51e-02 │  4.44e-16 │  1.25e+00 │  1.25e+00 │  3.3e-02 │ 6.3e-02 │ 8.5e-01 │      1 │  43.78s │ 1.1724e-14 │\n",
      "│    9 │  3.372e+06 │  4.15e-02 │  4.44e-16 │  2.95e-01 │  2.95e-01 │  3.3e-03 │ 1.7e-02 │ 9.9e-01 │      1 │  49.50s │ 2.3220e-14 │\n",
      "│   10 │  3.371e+06 │  1.00e-02 │  4.44e-16 │  7.56e-02 │  7.56e-02 │  5.7e-04 │ 9.3e-03 │ 9.8e-01 │      1 │  54.52s │ 2.6709e-14 │\n",
      "│   11 │  3.371e+06 │  1.49e-03 │  4.44e-16 │  1.88e-02 │  1.88e-02 │  5.7e-05 │ 4.5e-03 │ 1.0e+00 │      1 │  59.49s │ 2.5267e-14 │\n",
      "│   12 │  3.371e+06 │  2.01e-04 │  4.44e-16 │  4.71e-03 │  4.71e-03 │  5.7e-06 │ 2.2e-03 │ 1.0e+00 │      1 │  64.54s │ 2.1653e-14 │\n",
      "│   13 │  3.371e+06 │  2.53e-05 │  4.44e-16 │  1.18e-03 │  1.18e-03 │  5.7e-07 │ 1.1e-03 │ 1.0e+00 │      1 │  69.64s │ 1.6738e-14 │\n",
      "│   14 │  3.371e+06 │  3.08e-06 │  4.44e-16 │  2.93e-04 │  2.93e-04 │  5.7e-08 │ 5.5e-04 │ 1.0e+00 │      1 │  75.10s │ 3.0670e-14 │\n",
      "│   15 │  3.371e+06 │  3.88e-07 │  4.44e-16 │  7.33e-05 │  7.33e-05 │  3.8e-07 │ 2.7e-04 │ 1.0e+00 │      1 │  80.27s │ 8.8864e-14 │\n",
      "│   16 │  3.371e+06 │  5.09e-08 │  4.44e-16 │  1.85e-05 │  1.85e-05 │  3.8e-08 │ 1.3e-04 │ 1.0e+00 │      1 │  85.42s │ 7.0972e-14 │\n",
      "│   17 │  3.371e+06 │  6.92e-09 │  4.44e-16 │  4.62e-06 │  4.62e-06 │  3.8e-09 │ 6.7e-05 │ 1.0e+00 │      1 │  90.59s │ 5.2527e-14 │\n",
      "│   18 │  3.371e+06 │  9.61e-10 │  4.44e-16 │  1.13e-06 │  1.13e-06 │  3.8e-10 │ 3.3e-05 │ 1.0e+00 │      1 │  96.35s │ 8.8855e-14 │\n",
      "│   19 │  3.371e+06 │  1.43e-10 │  4.44e-16 │  2.58e-07 │  2.58e-07 │  3.8e-11 │ 1.6e-05 │ 1.0e+00 │      1 │ 101.66s │ 4.0946e-13 │\n",
      "│   20 │  3.371e+06 │  1.92e-11 │  4.44e-16 │  4.58e-08 │  4.58e-08 │  4.3e-11 │ 6.7e-06 │ 1.0e+00 │      1 │ 107.52s │ 2.3159e-12 │\n",
      "│   21 │  3.371e+06 │  1.49e-12 │  4.44e-16 │  3.49e-09 │  3.49e-09 │  4.3e-12 │ 1.8e-06 │ 1.0e+00 │      1 │ 113.41s │ 2.4403e-11 │\n",
      "Optimal solution after 21 iterations in 113.41s. Final maxnorm KKT residual: 3.49e-09.\n"
     ]
    },
    {
     "data": {
      "text/plain": [
       "[<matplotlib.lines.Line2D at 0x7faa30734b90>]"
      ]
     },
     "execution_count": 4,
     "metadata": {},
     "output_type": "execute_result"
    },
    {
     "data": {
      "image/png": "[encoded data removed]",
      "text/plain": [
       "<Figure size 500x200 with 1 Axes>"
      ]
     },
     "metadata": {},
     "output_type": "display_data"
    }
   ],
   "source": [
    "n = 2500\n",
    "m = 500000\n",
    "lam = 50.\n",
    "f,A,Q,C,c,b,x_true = build_logistic_lasso(\n",
    "    m = m,\n",
    "    n = n, \n",
    "    seed = 2,\n",
    "    lam = lam,\n",
    "    weight = 10\n",
    "    )\n",
    "problem = GLQP(f=f,A=A,Q=Q,C=C,c=c,b = b)\n",
    "xt,results = problem.solve(verbose = True)\n",
    "x = xt[:n]\n",
    "\n",
    "order = np.argsort(x_true)\n",
    "plt.figure(figsize=(5,2))\n",
    "plt.plot(x_true[order],label = 'true signal (sorted)')\n",
    "plt.plot(x[order],label = 'l1 recovery')"
   ]
  },
  {
   "cell_type": "markdown",
   "metadata": {},
   "source": [
    "## Solve a problem with both equality and inequality constraints\n",
    "Also put some extra settings in"
   ]
  },
  {
   "cell_type": "code",
   "execution_count": 5,
   "metadata": {},
   "outputs": [
    {
     "name": "stdout",
     "output_type": "stream",
     "text": [
      "──────────────────────────────────────────────────────────────────────────────────────────────────────\n",
      "| GLQP | Variables: 100  │ Rows in A: 50   │ Equality Constraints: 50   │ Inequality Constraints: 10  \n",
      "───────────────────────────────────────────────────────────────────────────────────────────────────────────────────────────────────\n",
      "│ iter │   primal   │ dual_res  │ cons_viol │ comp_res  │  KKT_res  │    mu    │   Δx    │  step   │ refine │  time  │ lin_rel_res │\n",
      "───────────────────────────────────────────────────────────────────────────────────────────────────────────────────────────────────\n",
      "│    1 │  3.466e+03 │  1.37e+01 │  9.06e-01 │  7.06e+00 │  1.37e+01 │  3.3e-01 │ 1.5e+00 │ 6.6e-01 │      1 │   0.01s │ 6.5720e-16 │\n",
      "│    2 │  3.373e+03 │  1.04e+00 │  4.89e-15 │  1.88e+00 │  1.88e+00 │  3.3e-02 │ 7.9e-01 │ 1.0e+00 │      1 │   0.02s │ 5.1562e-16 │\n",
      "│    3 │  3.352e+03 │  3.61e-01 │  6.99e-15 │  8.46e-01 │  8.46e-01 │  1.4e+00 │ 1.7e+00 │ 6.7e-01 │      1 │   0.03s │ 8.6120e-15 │\n",
      "│    4 │  3.343e+03 │  7.27e-02 │  1.42e-14 │  2.85e+00 │  2.85e+00 │  1.4e-01 │ 3.0e+00 │ 1.0e+00 │      1 │   0.04s │ 8.4632e-16 │\n",
      "│    5 │  3.346e+03 │  1.59e-02 │  2.18e-14 │  7.91e-01 │  7.91e-01 │  2.1e-02 │ 8.9e-01 │ 9.1e-01 │      1 │   0.05s │ 3.5162e-15 │\n",
      "│    6 │  3.341e+03 │  4.43e-03 │  1.44e-14 │  1.48e-01 │  1.48e-01 │  2.1e-03 │ 6.2e-01 │ 1.0e+00 │      1 │   0.05s │ 2.3270e-15 │\n",
      "│    7 │  3.340e+03 │  5.51e-04 │  9.77e-15 │  3.77e-02 │  3.77e-02 │  2.1e-04 │ 2.3e-01 │ 1.0e+00 │      1 │   0.06s │ 4.3255e-15 │\n",
      "│    8 │  3.339e+03 │  7.59e-05 │  1.10e-14 │  9.16e-03 │  9.16e-03 │  2.1e-05 │ 1.1e-01 │ 1.0e+00 │      1 │   0.07s │ 6.2772e-15 │\n",
      "│    9 │  3.339e+03 │  1.43e-05 │  1.84e-14 │  1.96e-03 │  1.96e-03 │  2.1e-06 │ 5.2e-02 │ 1.0e+00 │      1 │   0.08s │ 7.7930e-15 │\n",
      "│   10 │  3.339e+03 │  1.95e-06 │  8.88e-15 │  2.69e-04 │  2.69e-04 │  2.1e-07 │ 1.9e-02 │ 1.0e+00 │      1 │   0.08s │ 3.5644e-14 │\n",
      "│   11 │  3.339e+03 │  6.99e-08 │  1.25e-14 │  9.79e-06 │  9.79e-06 │  2.1e-08 │ 3.6e-03 │ 1.0e+00 │      1 │   0.09s │ 4.0334e-14 │\n",
      "│   12 │  3.339e+03 │  1.07e-10 │  3.87e-12 │  3.54e-08 │  3.54e-08 │  2.1e-09 │ 1.4e-04 │ 1.0e+00 │      0 │   0.10s │ 3.9397e-09 │\n",
      "│   13 │  3.339e+03 │  2.58e-14 │  1.91e-14 │  2.07e-09 │  2.07e-09 │  2.1e-10 │ 4.8e-07 │ 1.0e+00 │      0 │   0.11s │ 3.3969e-09 │\n",
      "Optimal solution after 13 iterations in 0.11s. Final maxnorm KKT residual: 2.07e-09.\n"
     ]
    },
    {
     "name": "stderr",
     "output_type": "stream",
     "text": [
      "/mnt/share/homes/owlx/glqp_development/code/glqp/glqp/util.py:45: RuntimeWarning: invalid value encountered in scalar divide\n",
      "  linsolve_rel_error = np.sqrt(norm2(res)/norm2(rhs))\n",
      "/mnt/share/homes/owlx/glqp_development/code/glqp/glqp/util.py:64: RuntimeWarning: invalid value encountered in scalar divide\n",
      "  linsolve_rel_error = np.sqrt(norm2(res)/norm2(rhs))\n"
     ]
    }
   ],
   "source": [
    "m = 50\n",
    "n = 100\n",
    "k = 10\n",
    "\n",
    "f,A,Q,C,c,b = build_random_logistic(m = m,n = n,k = k,density=0.1, seed = 2)\n",
    "\n",
    "rng = default_rng(10)\n",
    "E = csr_array(rng.normal(size = (n//2,n)))\n",
    "e = np.zeros(E.shape[0])\n",
    "\n",
    "\n",
    "problem = GLQP(f,A,Q,b,C,c,E = E ,e = e)\n",
    "settings = SolverSettings()\n",
    "x,results = problem.solve(verbose = True,mu0 = 1.,settings = settings) \n"
   ]
  },
  {
   "cell_type": "markdown",
   "metadata": {},
   "source": [
    "## Solve a problem with both equality and inequality constraints, where equality constraints are redundent"
   ]
  },
  {
   "cell_type": "code",
   "execution_count": 7,
   "metadata": {},
   "outputs": [
    {
     "name": "stdout",
     "output_type": "stream",
     "text": [
      "──────────────────────────────────────────────────────────────────────────────────────────────────────\n",
      "| GLQP | Variables: 100  │ Rows in A: 50   │ Equality Constraints: 20   │ Inequality Constraints: 10  \n",
      "───────────────────────────────────────────────────────────────────────────────────────────────────────────────────────────────────\n",
      "│ iter │   primal   │ dual_res  │ cons_viol │ comp_res  │  KKT_res  │    mu    │   Δx    │  step   │ refine │  time  │ lin_rel_res │\n",
      "───────────────────────────────────────────────────────────────────────────────────────────────────────────────────────────────────\n",
      "│    1 │  3.466e+03 │  2.61e+00 │  1.11e-15 │  3.73e+00 │  3.73e+00 │  1.0e-01 │ 2.2e+00 │ 1.0e+00 │      1 │   0.01s │ 8.0739e-16 │\n",
      "│    2 │  3.333e+03 │  1.32e-01 │  4.33e-15 │  3.83e-02 │  1.32e-01 │  1.0e-02 │ 6.4e-01 │ 9.9e-01 │      1 │   0.02s │ 1.4592e-12 │\n",
      "│    3 │  3.328e+03 │  1.75e-03 │  2.66e-15 │  4.82e-04 │  1.75e-03 │  1.0e-03 │ 4.5e+00 │ 9.9e-01 │      1 │   0.03s │ 2.2178e-10 │\n",
      "│    4 │  3.328e+03 │  1.79e-05 │  6.44e-15 │  6.40e-04 │  6.40e-04 │  1.0e-04 │ 3.9e+01 │ 9.9e-01 │      1 │   0.04s │ 9.4125e-07 │\n",
      "│    5 │  3.328e+03 │  1.38e-07 │  5.68e-14 │  2.57e-04 │  2.57e-04 │  1.0e-05 │ 2.2e+01 │ 1.0e+00 │      1 │   0.05s │ 1.0424e-05 │\n",
      "│    6 │  3.328e+03 │  1.43e-07 │  2.54e-13 │  6.92e-05 │  6.92e-05 │  1.0e-06 │ 1.7e+01 │ 1.0e+00 │      1 │   0.06s │ 1.2495e-05 │\n",
      "│    7 │  3.328e+03 │  8.69e-08 │  6.31e-14 │  1.78e-05 │  1.78e-05 │  1.0e-07 │ 1.0e+01 │ 1.0e+00 │      1 │   0.07s │ 1.3928e-05 │\n",
      "│    8 │  3.328e+03 │  4.63e-08 │  7.86e-14 │  4.50e-06 │  4.50e-06 │  1.0e-08 │ 5.2e+00 │ 1.0e+00 │      1 │   0.07s │ 1.4243e-05 │\n",
      "│    9 │  3.328e+03 │  2.38e-08 │  1.11e-15 │  1.13e-06 │  1.13e-06 │  1.0e-09 │ 2.6e+00 │ 1.0e+00 │      1 │   0.08s │ 1.4301e-05 │\n",
      "│   10 │  3.328e+03 │  6.64e-08 │  9.33e-15 │  2.73e-07 │  2.73e-07 │  1.0e-10 │ 8.6e-01 │ 1.0e+00 │      3 │   0.09s │ 8.1905e-05 │\n",
      "│   11 │  3.328e+03 │  3.66e-08 │  6.22e-15 │  7.10e-08 │  7.10e-08 │  2.0e-08 │ 6.0e-01 │ 9.8e-01 │      4 │   0.10s │ 9.3377e-05 │\n",
      "│   12 │  3.328e+03 │  3.62e-09 │  1.67e-15 │  2.57e-08 │  2.57e-08 │  2.0e-09 │ 3.3e-01 │ 1.0e+00 │      1 │   0.11s │ 1.2233e-05 │\n",
      "│   13 │  3.328e+03 │  1.91e-11 │  1.22e-15 │  7.06e-09 │  7.06e-09 │  2.0e-10 │ 1.3e-01 │ 1.0e+00 │      1 │   0.12s │ 1.3110e-07 │\n",
      "Optimal solution after 13 iterations in 0.12s. Final maxnorm KKT residual: 7.06e-09.\n"
     ]
    },
    {
     "name": "stderr",
     "output_type": "stream",
     "text": [
      "/mnt/share/homes/owlx/glqp_development/code/glqp/glqp/util.py:45: RuntimeWarning: invalid value encountered in scalar divide\n",
      "  linsolve_rel_error = np.sqrt(norm2(res)/norm2(rhs))\n",
      "/mnt/share/homes/owlx/glqp_development/code/glqp/glqp/util.py:64: RuntimeWarning: invalid value encountered in scalar divide\n",
      "  linsolve_rel_error = np.sqrt(norm2(res)/norm2(rhs))\n"
     ]
    }
   ],
   "source": [
    "m = 50\n",
    "n = 100\n",
    "k = 10\n",
    "\n",
    "f,A,Q,C,c,b = build_random_logistic(m = m,n = n,k = k,density=0.1, seed = 2)\n",
    "\n",
    "rng = default_rng(10)\n",
    "E = csr_array(np.vstack([np.ones(n)]*20))\n",
    "e = np.zeros(E.shape[0])\n",
    "\n",
    "\n",
    "problem = GLQP(f,A,Q,b,C,c,E = E ,e = e)\n",
    "\n",
    "x,results = problem.solve(verbose = True,mu0 = 1.) "
   ]
  },
  {
   "cell_type": "markdown",
   "metadata": {},
   "source": [
    "## Solve a linear system"
   ]
  },
  {
   "cell_type": "code",
   "execution_count": 10,
   "metadata": {},
   "outputs": [
    {
     "name": "stdout",
     "output_type": "stream",
     "text": [
      "──────────────────────────────────────────────────────────────────────────────────────────────────────\n",
      "| GLQP | Variables: 100  │ Rows in A: 0    │ Equality Constraints: 0    │ Inequality Constraints: 0   \n",
      "───────────────────────────────────────────────────────────────────────────────────────────────────────────────────────────────────\n",
      "│ iter │   primal   │ dual_res  │ cons_viol │ comp_res  │  KKT_res  │    mu    │   Δx    │  step   │ refine │  time  │ lin_rel_res │\n",
      "───────────────────────────────────────────────────────────────────────────────────────────────────────────────────────────────────\n",
      "│    1 │  0.000e+00 │  1.30e+01 │  0.00e+00 │  1.00e-12 │  1.30e+01 │  9.0e-13 │ 9.5e+01 │ 4.8e-01 │      1 │   0.01s │ 1.9437e-13 │\n",
      "│    2 │  2.729e+03 │  6.80e+00 │  0.00e+00 │  9.52e-13 │  6.80e+00 │  8.6e-13 │ 4.9e+01 │ 4.8e-01 │      1 │   0.01s │ 1.9424e-13 │\n",
      "│    3 │  3.472e+03 │  3.55e+00 │  0.00e+00 │  9.07e-13 │  3.55e+00 │  8.2e-13 │ 2.6e+01 │ 4.8e-01 │      1 │   0.01s │ 1.9472e-13 │\n",
      "│    4 │  3.675e+03 │  1.85e+00 │  0.00e+00 │  8.63e-13 │  1.85e+00 │  7.8e-13 │ 1.3e+01 │ 4.8e-01 │      1 │   0.02s │ 1.9440e-13 │\n",
      "│    5 │  3.730e+03 │  9.66e-01 │  0.00e+00 │  8.22e-13 │  9.66e-01 │  7.4e-13 │ 7.0e+00 │ 4.8e-01 │      1 │   0.02s │ 1.9451e-13 │\n",
      "│    6 │  3.745e+03 │  5.04e-01 │  0.00e+00 │  7.83e-13 │  5.04e-01 │  7.0e-13 │ 3.7e+00 │ 4.8e-01 │      1 │   0.03s │ 1.9422e-13 │\n",
      "│    7 │  3.749e+03 │  2.63e-01 │  0.00e+00 │  7.45e-13 │  2.63e-01 │  6.7e-13 │ 1.9e+00 │ 4.8e-01 │      1 │   0.03s │ 1.9471e-13 │\n",
      "│    8 │  3.750e+03 │  1.37e-01 │  0.00e+00 │  7.10e-13 │  1.37e-01 │  6.4e-13 │ 9.9e-01 │ 4.8e-01 │      1 │   0.03s │ 1.9432e-13 │\n",
      "│    9 │  3.750e+03 │  7.15e-02 │  0.00e+00 │  6.76e-13 │  7.15e-02 │  6.1e-13 │ 5.2e-01 │ 4.8e-01 │      1 │   0.04s │ 1.9493e-13 │\n",
      "│   10 │  3.750e+03 │  3.73e-02 │  0.00e+00 │  6.43e-13 │  3.73e-02 │  5.8e-13 │ 2.7e-01 │ 4.8e-01 │      1 │   0.04s │ 1.9455e-13 │\n",
      "│   11 │  3.750e+03 │  1.95e-02 │  0.00e+00 │  6.13e-13 │  1.95e-02 │  5.5e-13 │ 1.4e-01 │ 4.8e-01 │      1 │   0.04s │ 1.9487e-13 │\n",
      "│   12 │  3.750e+03 │  1.02e-02 │  0.00e+00 │  5.83e-13 │  1.02e-02 │  5.2e-13 │ 7.4e-02 │ 4.8e-01 │      1 │   0.05s │ 1.9477e-13 │\n",
      "│   13 │  3.750e+03 │  5.30e-03 │  0.00e+00 │  5.55e-13 │  5.30e-03 │  5.0e-13 │ 3.8e-02 │ 4.8e-01 │      1 │   0.05s │ 1.9437e-13 │\n",
      "│   14 │  3.750e+03 │  2.76e-03 │  0.00e+00 │  5.29e-13 │  2.76e-03 │  4.8e-13 │ 2.0e-02 │ 4.8e-01 │      1 │   0.06s │ 1.9478e-13 │\n",
      "│   15 │  3.750e+03 │  1.44e-03 │  0.00e+00 │  5.04e-13 │  1.44e-03 │  4.5e-13 │ 1.0e-02 │ 4.8e-01 │      1 │   0.06s │ 1.9441e-13 │\n",
      "│   16 │  3.750e+03 │  7.53e-04 │  0.00e+00 │  4.79e-13 │  7.53e-04 │  4.3e-13 │ 5.5e-03 │ 4.8e-01 │      1 │   0.06s │ 1.9457e-13 │\n",
      "│   17 │  3.750e+03 │  3.93e-04 │  0.00e+00 │  4.56e-13 │  3.93e-04 │  4.1e-13 │ 2.8e-03 │ 4.8e-01 │      0 │   0.07s │ 1.6799e-07 │\n",
      "│   18 │  3.750e+03 │  2.05e-04 │  0.00e+00 │  4.35e-13 │  2.05e-04 │  3.9e-13 │ 1.5e-03 │ 4.8e-01 │      0 │   0.07s │ 1.6799e-07 │\n",
      "│   19 │  3.750e+03 │  1.07e-04 │  0.00e+00 │  4.14e-13 │  1.07e-04 │  3.7e-13 │ 7.7e-04 │ 4.8e-01 │      0 │   0.07s │ 1.6799e-07 │\n",
      "│   20 │  3.750e+03 │  5.57e-05 │  0.00e+00 │  3.94e-13 │  5.57e-05 │  3.5e-13 │ 4.0e-04 │ 4.8e-01 │      0 │   0.07s │ 1.6799e-07 │\n",
      "│   21 │  3.750e+03 │  2.91e-05 │  0.00e+00 │  3.75e-13 │  2.91e-05 │  3.4e-13 │ 2.1e-04 │ 4.8e-01 │      0 │   0.08s │ 1.6799e-07 │\n",
      "│   22 │  3.750e+03 │  1.14e-12 │  0.00e+00 │  3.38e-13 │  1.14e-12 │  1.0e-12 │ 2.3e-04 │ 1.0e+00 │      0 │   0.08s │ 1.6798e-07 │\n",
      "Optimal solution after 22 iterations in 0.08s. Final maxnorm KKT residual: 1.14e-12.\n"
     ]
    },
    {
     "data": {
      "image/png": "[encoded data removed]",
      "text/plain": [
       "<Figure size 500x200 with 1 Axes>"
      ]
     },
     "metadata": {},
     "output_type": "display_data"
    }
   ],
   "source": [
    "from scipy.sparse.linalg import LaplacianNd\n",
    "n = 100\n",
    "Q = LaplacianNd((n,),boundary_conditions = 'dirichlet').tosparse()\n",
    "b = np.abs(np.linspace(-1,1,n))\n",
    "b[n//2] -= 25\n",
    "problem = GLQP(Q = Q,b = b)\n",
    "\n",
    "x,results = problem.solve()\n",
    "plt.figure(figsize=(5,2))\n",
    "plt.plot(np.hstack([0,x,0]))\n",
    "plt.show()"
   ]
  },
  {
   "cell_type": "markdown",
   "metadata": {},
   "source": [
    "## Compare to CVXPY on large L1 problem"
   ]
  },
  {
   "cell_type": "code",
   "execution_count": null,
   "metadata": {},
   "outputs": [
    {
     "name": "stdout",
     "output_type": "stream",
     "text": [
      "──────────────────────────────────────────────────────────────────────────────────────────────────────────\n",
      "Variables:: 5,000   │ Rows in A: 500,000 │ Equality Constraints: 0       │ Inequality Constraints: 5,000  \n",
      "──────────────────────────────────────────────────────────────────────────────────────────────────────────\n",
      "──────────────────────────────────────────────────────────────────────────────────────────────────────────────────────\n",
      "│ iter │   primal   │ dual_res  │ cons_viol │ comp_res  │  KKT_res  │    mu    │   Δx    │  step   │ refine │  time  │\n",
      "──────────────────────────────────────────────────────────────────────────────────────────────────────────────────────\n",
      "│    1 │ 3.4657e+08 │  1.92e+04 │  0.00e+00 │  4.38e+04 │  4.38e+04 │  3.2e+04 │ 3.7e+00 │ 1.0e+00 │      2 │   6.96s │\n",
      "│    2 │ 3.3703e+08 │  4.62e+02 │  1.78e-15 │  2.76e+03 │  2.76e+03 │  3.2e+02 │ 3.2e+00 │ 9.8e-01 │      1 │  12.26s │\n",
      "│    3 │ 3.3774e+08 │  7.39e-01 │  1.78e-15 │  3.46e+02 │  3.46e+02 │  3.2e+00 │ 9.1e-02 │ 1.0e+00 │      1 │  17.56s │\n",
      "│    4 │ 3.3772e+08 │  7.16e-02 │  1.55e-15 │  7.02e+01 │  7.02e+01 │  1.3e-01 │ 6.1e+00 │ 9.0e-01 │      1 │  22.89s │\n",
      "│    5 │ 3.3620e+08 │  2.14e-02 │  8.88e-16 │  1.65e+01 │  1.65e+01 │  3.3e+01 │ 5.5e-01 │ 7.7e-01 │      1 │  28.64s │\n",
      "│    6 │ 3.3608e+08 │  3.40e-04 │  4.44e-16 │  3.60e+01 │  3.60e+01 │  3.3e-01 │ 5.0e-01 │ 1.0e+00 │      1 │  34.17s │\n",
      "│    7 │ 3.3620e+08 │  8.52e-04 │  4.44e-16 │  8.62e+00 │  8.62e+00 │  2.4e-02 │ 5.8e-01 │ 8.8e-01 │      1 │  39.57s │\n",
      "│    8 │ 3.3606e+08 │  2.42e-04 │  4.44e-16 │  1.05e+00 │  1.05e+00 │  2.8e-03 │ 7.6e-02 │ 8.8e-01 │      1 │  45.60s │\n",
      "│    9 │ 3.3604e+08 │  1.27e-03 │  4.44e-16 │  4.16e-01 │  4.16e-01 │  7.9e-01 │ 6.5e-03 │ 6.3e-01 │      1 │  51.03s │\n",
      "│   10 │ 3.3604e+08 │  2.29e-04 │  4.44e-16 │  8.77e-01 │  8.77e-01 │  7.9e-03 │ 1.2e-02 │ 1.0e+00 │      1 │  56.42s │\n",
      "│   11 │ 3.3604e+08 │  7.60e-04 │  4.44e-16 │  3.10e-01 │  3.10e-01 │  1.7e-03 │ 1.3e-02 │ 8.2e-01 │      1 │  61.80s │\n",
      "│   12 │ 3.3604e+08 │  3.71e-03 │  4.44e-16 │  9.84e-02 │  9.84e-02 │  7.4e-03 │ 2.2e-03 │ 7.3e-01 │      1 │  67.12s │\n",
      "│   13 │ 3.3604e+08 │  3.80e-03 │  4.44e-16 │  2.29e-02 │  2.29e-02 │  7.4e-05 │ 6.9e-04 │ 1.0e+00 │      1 │  72.38s │\n",
      "│   14 │ 3.3604e+08 │  1.03e-03 │  4.44e-16 │  6.95e-03 │  6.95e-03 │  1.9e-04 │ 2.6e-04 │ 8.8e-01 │      1 │  77.49s │\n",
      "│   15 │ 3.3604e+08 │  1.53e-04 │  4.44e-16 │  1.77e-03 │  1.77e-03 │  1.9e-06 │ 1.3e-04 │ 1.0e+00 │      0 │  82.60s │\n",
      "│   16 │ 3.3604e+08 │  2.42e-05 │  4.44e-16 │  4.64e-04 │  4.64e-04 │  2.5e-07 │ 6.8e-05 │ 9.7e-01 │      0 │  88.01s │\n",
      "│   17 │ 3.3604e+08 │  3.12e-06 │  4.44e-16 │  1.16e-04 │  1.16e-04 │  2.5e-09 │ 3.4e-05 │ 1.0e+00 │      1 │  93.38s │\n",
      "│   18 │ 3.3604e+08 │  4.27e-07 │  4.44e-16 │  2.89e-05 │  2.89e-05 │  3.8e-07 │ 1.7e-05 │ 1.0e+00 │      0 │  98.61s │\n",
      "│   19 │ 3.3604e+08 │  6.18e-08 │  4.44e-16 │  7.39e-06 │  7.39e-06 │  3.8e-09 │ 8.4e-06 │ 1.0e+00 │      1 │ 103.66s │\n",
      "│   20 │ 3.3604e+08 │  1.05e-08 │  4.44e-16 │  1.84e-06 │  1.84e-06 │  3.8e-11 │ 4.3e-06 │ 1.0e+00 │      0 │ 108.89s │\n",
      "│   21 │ 3.3604e+08 │  1.70e-09 │  4.44e-16 │  4.56e-07 │  4.56e-07 │  1.4e-09 │ 2.1e-06 │ 1.0e+00 │      1 │ 114.60s │\n",
      "│   22 │ 3.3604e+08 │  2.42e-10 │  4.44e-16 │  1.15e-07 │  1.15e-07 │  1.4e-11 │ 1.1e-06 │ 1.0e+00 │      1 │ 119.98s │\n",
      "│   23 │ 3.3604e+08 │  3.49e-11 │  4.44e-16 │  2.86e-08 │  2.86e-08 │  3.6e-11 │ 5.4e-07 │ 1.0e+00 │      1 │ 125.17s │\n",
      "│   24 │ 3.3604e+08 │  6.99e-12 │  4.44e-16 │  7.05e-09 │  7.05e-09 │  1.0e-12 │ 2.7e-07 │ 1.0e+00 │      1 │ 130.35s │\n",
      "Optimal solution found after 24 iterations in 130.35s. Final maxnorm KKT residual: 7.05e-09.\n"
     ]
    },
    {
     "data": {
      "text/plain": [
       "[<matplotlib.lines.Line2D at 0x7ff3091a7560>]"
      ]
     },
     "execution_count": 14,
     "metadata": {},
     "output_type": "execute_result"
    },
    {
     "data": {
      "image/png": "[encoded data removed]",
      "text/plain": [
       "<Figure size 500x200 with 1 Axes>"
      ]
     },
     "metadata": {},
     "output_type": "display_data"
    }
   ],
   "source": [
    "n = 2500\n",
    "m = 500000\n",
    "lam = 100.\n",
    "f,A,Q,C,c,b,x_true = build_logistic_lasso(m = m,n = n, seed = 2,lam = lam)\n",
    "problem = GLQP(f,A,Q,b,C,c)\n",
    "xt,results = problem.solve(verbose = True)\n",
    "x = xt[:n]\n",
    "\n",
    "order = np.argsort(x_true)\n",
    "plt.figure(figsize=(5,2))\n",
    "plt.plot(x_true[order],label = 'true signal (sorted)')\n",
    "plt.plot(x[order],label = 'l1 recovery')"
   ]
  },
  {
   "cell_type": "code",
   "execution_count": null,
   "metadata": {},
   "outputs": [
    {
     "name": "stdout",
     "output_type": "stream",
     "text": [
      "===============================================================================\n",
      "                                     CVXPY                                     \n",
      "                                     v1.6.5                                    \n",
      "===============================================================================\n",
      "(CVXPY) Apr 20 01:57:27 PM: Your problem has 2500 variables, 0 constraints, and 0 parameters.\n",
      "(CVXPY) Apr 20 01:57:27 PM: It is compliant with the following grammars: DCP, DQCP\n",
      "(CVXPY) Apr 20 01:57:27 PM: (If you need to solve this problem multiple times, but with different data, consider using parameters.)\n",
      "(CVXPY) Apr 20 01:57:27 PM: CVXPY will first compile your problem; then, it will invoke a numerical solver to obtain a solution.\n",
      "(CVXPY) Apr 20 01:57:27 PM: Your problem is compiled with the CPP canonicalization backend.\n",
      "-------------------------------------------------------------------------------\n",
      "                                  Compilation                                  \n",
      "-------------------------------------------------------------------------------\n",
      "(CVXPY) Apr 20 01:57:27 PM: Compiling problem (target solver=CLARABEL).\n",
      "(CVXPY) Apr 20 01:57:27 PM: Reduction chain: Dcp2Cone -> CvxAttr2Constr -> ConeMatrixStuffing -> CLARABEL\n",
      "(CVXPY) Apr 20 01:57:27 PM: Applying reduction Dcp2Cone\n",
      "(CVXPY) Apr 20 01:57:27 PM: Applying reduction CvxAttr2Constr\n",
      "(CVXPY) Apr 20 01:57:27 PM: Applying reduction ConeMatrixStuffing\n",
      "(CVXPY) Apr 20 01:57:53 PM: Applying reduction CLARABEL\n",
      "(CVXPY) Apr 20 01:58:00 PM: Finished problem compilation (took 3.298e+01 seconds).\n",
      "-------------------------------------------------------------------------------\n",
      "                                Numerical solver                               \n",
      "-------------------------------------------------------------------------------\n",
      "(CVXPY) Apr 20 01:58:00 PM: Invoking solver CLARABEL  to obtain a solution.\n",
      "-------------------------------------------------------------\n",
      "           Clarabel.rs v0.10.0  -  Clever Acronym                \n",
      "\n",
      "                   (c) Paul Goulart                          \n",
      "                University of Oxford, 2022                   \n",
      "-------------------------------------------------------------\n",
      "\n",
      "problem:\n",
      "  variables     = 1505000\n",
      "  constraints   = 3505000\n",
      "  nnz(P)        = 0\n",
      "  nnz(A)        = 15510000\n",
      "  cones (total) = 1000001\n",
      "    : Nonnegative = 1,  numel = 505000\n",
      "    : Exponential = 1000000,  numel = (3,3,3,3,...,3)\n",
      "\n",
      "settings:\n",
      "  linear algebra: direct / qdldl, precision: 64 bit\n",
      "  max iter = 200, time limit = Inf,  max step = 0.990\n",
      "  tol_feas = 1.0e-8, tol_gap_abs = 1.0e-8, tol_gap_rel = 1.0e-8,\n",
      "  static reg : on, ϵ1 = 1.0e-8, ϵ2 = 4.9e-32\n",
      "  dynamic reg: on, ϵ = 1.0e-13, δ = 2.0e-7\n",
      "  iter refine: on, reltol = 1.0e-13, abstol = 1.0e-12,\n",
      "               max iter = 10, stop ratio = 5.0\n",
      "  equilibrate: on, min_scale = 1.0e-4, max_scale = 1.0e4\n",
      "               max iter = 10\n",
      "\n",
      "iter    pcost        dcost       gap       pres      dres      k/t        μ       step      \n",
      "---------------------------------------------------------------------------------------------\n",
      "  0  +0.0000e+00  -1.0564e+06  1.06e+06  9.08e-01  1.34e+01  1.00e+00  1.00e+00   ------   \n",
      "  1  -4.2798e+06  -5.3288e+06  2.45e-01  6.59e-01  1.27e+01  4.47e+00  2.22e-01  9.80e-01  \n",
      "  2  -2.2700e+07  -2.3714e+07  4.47e-02  5.91e-01  1.00e+01  1.99e+01  4.75e-02  7.92e-01  \n",
      "  3  -7.6198e+07  -7.7068e+07  1.14e-02  5.55e-01  5.03e+00  7.41e+01  1.02e-02  7.92e-01  \n",
      "  4  -4.3629e+07  -4.4124e+07  1.13e-02  3.98e-01  1.34e+00  1.40e+02  2.18e-03  7.92e-01  \n",
      "  5  +1.6903e+08  +1.6885e+08  1.08e-03  1.49e-01  2.57e-01  1.04e+02  4.68e-04  7.92e-01  \n",
      "  6  +2.8974e+08  +2.8969e+08  1.76e-04  4.01e-02  5.31e-02  3.97e+01  1.00e-04  7.92e-01  \n",
      "  7  +3.2443e+08  +3.2442e+08  4.10e-05  1.03e-02  1.29e-02  9.70e+00  2.46e-05  7.92e-01  \n",
      "  8  +3.3354e+08  +3.3354e+08  8.66e-06  2.23e-03  2.76e-03  2.06e+00  5.26e-06  7.92e-01  \n",
      "  9  +3.3550e+08  +3.3550e+08  1.85e-06  4.80e-04  5.92e-04  4.36e-01  1.13e-06  7.92e-01  \n",
      " 10  +3.3598e+08  +3.3598e+08  2.29e-07  5.95e-05  7.34e-05  5.20e-02  1.40e-07  8.90e-01  \n",
      " 11  +3.3603e+08  +3.3603e+08  5.02e-08  1.30e-05  1.61e-05  1.12e-02  3.07e-08  7.92e-01  \n",
      " 12  +3.3604e+08  +3.3604e+08  1.07e-08  2.79e-06  3.44e-06  2.38e-03  6.58e-09  7.92e-01  \n",
      " 13  +3.3604e+08  +3.3604e+08  9.74e-09  2.53e-06  3.12e-06  2.15e-03  5.96e-09  1.06e-01  \n",
      " 14  +3.3604e+08  +3.3604e+08  9.74e-09  2.53e-06  3.12e-06  2.15e-03  5.96e-09  0.00e+00  \n",
      " 15  +3.3604e+08  +3.3604e+08  4.03e-09  1.05e-06  1.29e-06  9.23e-04  2.26e-09  6.34e-01  \n",
      " 16  +3.3604e+08  +3.3604e+08  2.21e-09  5.74e-07  7.09e-07  4.88e-04  1.26e-09  5.07e-01  \n",
      " 17  +3.3604e+08  +3.3604e+08  1.90e-09  4.94e-07  6.10e-07  3.97e-04  1.09e-09  3.24e-01  \n",
      " 18  +3.3604e+08  +3.3604e+08  1.66e-09  4.31e-07  5.32e-07  2.76e-04  9.63e-10  9.80e-01  \n",
      " 19  +3.3604e+08  +3.3604e+08  1.28e-09  3.31e-07  4.09e-07  2.11e-04  7.40e-10  9.80e-01  \n",
      " 20  +3.3604e+08  +3.3604e+08  5.62e-10  1.46e-07  1.80e-07  9.29e-05  3.26e-10  6.34e-01  \n",
      " 21  +3.3604e+08  +3.3604e+08  4.32e-10  1.12e-07  1.38e-07  7.14e-05  2.50e-10  9.80e-01  \n",
      " 22  +3.3604e+08  +3.3604e+08  9.27e-11  2.40e-08  2.97e-08  1.53e-05  5.36e-11  7.92e-01  \n",
      " 23  +3.3604e+08  +3.3604e+08  8.95e-11  2.32e-08  2.87e-08  1.48e-05  5.18e-11  3.48e-02  \n",
      " 24  +3.3604e+08  +3.3604e+08  7.82e-11  2.03e-08  2.50e-08  1.29e-05  4.53e-11  1.33e-01  \n",
      " 25  +3.3604e+08  +3.3604e+08  7.32e-11  1.90e-08  2.34e-08  1.21e-05  4.23e-11  6.80e-02  \n",
      " 26  +3.3604e+08  +3.3604e+08  7.14e-11  1.85e-08  2.28e-08  1.18e-05  4.13e-11  2.79e-02  \n",
      " 27  +3.3604e+08  +3.3604e+08  6.29e-11  1.63e-08  2.02e-08  1.04e-05  3.64e-11  1.33e-01  \n",
      " 28  +3.3604e+08  +3.3604e+08  6.27e-11  1.63e-08  2.01e-08  1.04e-05  3.63e-11  4.68e-03  \n",
      " 29  +3.3604e+08  +3.3604e+08  6.23e-11  1.62e-08  1.99e-08  1.03e-05  3.61e-11  7.30e-03  \n",
      " 30  +3.3604e+08  +3.3604e+08  6.20e-11  1.61e-08  1.98e-08  1.02e-05  3.59e-11  5.84e-03  \n",
      " 31  +3.3604e+08  +3.3604e+08  6.18e-11  1.60e-08  1.98e-08  1.02e-05  3.58e-11  1.91e-03  \n",
      " 32  +3.3604e+08  +3.3604e+08  6.13e-11  1.59e-08  1.96e-08  1.01e-05  3.55e-11  9.13e-03  \n",
      " 33  +3.3604e+08  +3.3604e+08  6.01e-11  1.56e-08  1.93e-08  9.94e-06  3.48e-11  2.23e-02  \n",
      " 34  +3.3604e+08  +3.3604e+08  5.65e-11  1.47e-08  1.81e-08  9.34e-06  3.27e-11  6.80e-02  \n",
      " 35  +3.3604e+08  +3.3604e+08  5.64e-11  1.47e-08  1.81e-08  9.34e-06  3.27e-11  9.80e-04  \n",
      " 36  +3.3604e+08  +3.3604e+08  5.59e-11  1.45e-08  1.79e-08  9.24e-06  3.24e-11  1.14e-02  \n",
      " 37  +3.3604e+08  +3.3604e+08  5.58e-11  1.45e-08  1.79e-08  9.23e-06  3.23e-11  9.80e-04  \n",
      " 38  +3.3604e+08  +3.3604e+08  5.53e-11  1.43e-08  1.77e-08  9.14e-06  3.20e-11  1.14e-02  \n",
      " 39  +3.3604e+08  +3.3604e+08  5.50e-11  1.43e-08  1.76e-08  9.10e-06  3.19e-11  4.68e-03  \n",
      " 40  +3.3604e+08  +3.3604e+08  5.50e-11  1.43e-08  1.76e-08  9.10e-06  3.19e-11  9.80e-04  \n",
      " 41  +3.3604e+08  +3.3604e+08  5.49e-11  1.42e-08  1.76e-08  9.07e-06  3.18e-11  2.99e-03  \n",
      " 42  +3.3604e+08  +3.3604e+08  5.48e-11  1.42e-08  1.76e-08  9.07e-06  3.18e-11  6.27e-04  \n",
      " 43  +3.3604e+08  +3.3604e+08  5.42e-11  1.40e-08  1.73e-08  8.95e-06  3.14e-11  1.43e-02  \n",
      " 44  +3.3604e+08  +3.3604e+08  5.34e-11  1.39e-08  1.71e-08  8.84e-06  3.10e-11  1.43e-02  \n",
      "\n",
      " 45  +3.3604e+08  +3.3604e+08  5.33e-11  1.38e-08  1.71e-08  8.81e-06  3.09e-11  3.74e-03  "
     ]
    }
   ],
   "source": [
    "import cvxpy as cp\n",
    "from scipy.sparse import csc_array\n",
    "A = csc_array(A)[:,:n]\n",
    "n = A.shape[1]\n",
    "\n",
    "beta = cp.Variable(n)\n",
    "lambd = cp.Parameter(nonneg=True)\n",
    "neg_log_likelihood = cp.sum(\n",
    "    cp.multiply(f.w,cp.logistic(A @ beta)- cp.multiply(f.y, A @ beta))\n",
    ")\n",
    "regularization = lam*cp.norm1(beta)\n",
    "\n",
    "problem  = cp.Problem(cp.Minimize(\n",
    "    (neg_log_likelihood + regularization))\n",
    ")\n",
    "problem.solve(verbose = True)"
   ]
  },
  {
   "cell_type": "code",
   "execution_count": 10,
   "metadata": {},
   "outputs": [
    {
     "data": {
      "text/plain": [
       "array([1.])"
      ]
     },
     "execution_count": 10,
     "metadata": {},
     "output_type": "execute_result"
    }
   ],
   "source": [
    "np.ones(1)"
   ]
  }
 ],
 "metadata": {
  "kernelspec": {
   "display_name": "glqp",
   "language": "python",
   "name": "python3"
  },
  "language_info": {
   "codemirror_mode": {
    "name": "ipython",
    "version": 3
   },
   "file_extension": ".py",
   "mimetype": "text/x-python",
   "name": "python",
   "nbconvert_exporter": "python",
   "pygments_lexer": "ipython3",
   "version": "3.13.2"
  }
 },
 "nbformat": 4,
 "nbformat_minor": 2
}
