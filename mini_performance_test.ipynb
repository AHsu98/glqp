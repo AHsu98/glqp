{
 "cells": [
  {
   "cell_type": "code",
   "execution_count": 1,
   "metadata": {},
   "outputs": [],
   "source": [
    "import numpy as np\n",
    "from scipy.sparse import csc_array,csr_array,diags_array\n",
    "from scipy.sparse import random_array\n",
    "import matplotlib.pyplot as plt\n",
    "from scipy.special import expit\n",
    "from numpy import logaddexp\n",
    "import qdldl\n",
    "from obj import LogisticNLL\n",
    "from glopt import GLMProblem\n",
    "from numpy.random import default_rng\n"
   ]
  },
  {
   "cell_type": "code",
   "execution_count": 4,
   "metadata": {},
   "outputs": [],
   "source": [
    "rng = default_rng(10)\n",
    "m = 50000\n",
    "n = 500\n",
    "samp = lambda size:rng.uniform(low = -0.5,high = 0.5,size = size)\n",
    "A = random_array((m,n),density = 0.01,rng = rng,data_sampler = samp)\n",
    "\n",
    "x_true = rng.uniform(-0.1,1,n)\n",
    "\n",
    "z_true = A@x_true\n",
    "\n",
    "w = 100*np.ones(m)\n",
    "y = rng.binomial(w.astype(int),expit(z_true))/w\n",
    "\n",
    "Q = 1.*diags_array(np.ones(n))\n",
    "xx = rng.normal(size = n)\n",
    "\n",
    "C = random_array((500,n),\n",
    "                 density = 0.2,rng = rng,data_sampler = samp)\n",
    "\n",
    "c = C@xx + 0.01\n",
    "Q = 1e-7*diags_array(np.ones(n))\n",
    "f = LogisticNLL(y,w)"
   ]
  },
  {
   "cell_type": "code",
   "execution_count": 48,
   "metadata": {},
   "outputs": [
    {
     "data": {
      "text/plain": [
       "array([0.52, 0.53, 0.55, ..., 0.  , 0.  , 0.  ])"
      ]
     },
     "execution_count": 48,
     "metadata": {},
     "output_type": "execute_result"
    }
   ],
   "source": [
    "np.hstack([y,np.zeros(3)])"
   ]
  },
  {
   "cell_type": "code",
   "execution_count": null,
   "metadata": {},
   "outputs": [
    {
     "name": "stdout",
     "output_type": "stream",
     "text": [
      "500 constraints\n",
      "500 variables\n",
      "50000 rows in A\n",
      "────────────────────────────────────────────────────────────────────────────────────────────\n",
      "│ iter │   primal   │ cons_viol  │    mu    │    Δx     │   step    │  KKT_res  │ cum_time │\n",
      "────────────────────────────────────────────────────────────────────────────────────────────\n",
      "│    1 │ 3.4657e+06 │ 7.6022e+00 │  6.7e+00 │  4.72e-02 │ 1.522e-03 │  1.14e+03 │     0.12s │\n",
      "│    2 │ 3.4657e+06 │ 7.4663e+00 │  1.7e+00 │  2.76e-02 │ 1.788e-02 │  1.12e+03 │     0.20s │\n",
      "│    3 │ 3.4640e+06 │ 7.3551e+00 │  1.7e+00 │  2.66e-02 │ 1.489e-02 │  1.10e+03 │     0.28s │\n",
      "│    4 │ 3.4629e+06 │ 7.1601e+00 │  1.6e+00 │  5.04e-02 │ 2.651e-02 │  1.07e+03 │     0.36s │\n",
      "│    5 │ 3.4612e+06 │ 7.0501e+00 │  1.6e+00 │  3.03e-02 │ 1.537e-02 │  1.05e+03 │     0.44s │\n",
      "│    6 │ 3.4605e+06 │ 6.5792e+00 │  1.6e+00 │  1.36e-01 │ 6.680e-02 │  9.83e+02 │     0.52s │\n",
      "│    7 │ 3.4579e+06 │ 6.0702e+00 │  1.5e+00 │  1.49e-01 │ 7.736e-02 │  9.07e+02 │     0.60s │\n",
      "│    8 │ 3.4564e+06 │ 5.9309e+00 │  1.5e+00 │  4.01e-02 │ 2.294e-02 │  8.87e+02 │     0.68s │\n",
      "│    9 │ 3.4563e+06 │ 5.7593e+00 │  1.5e+00 │  4.95e-02 │ 2.895e-02 │  8.61e+02 │     0.76s │\n",
      "│   10 │ 3.4563e+06 │ 5.4524e+00 │  1.5e+00 │  8.81e-02 │ 5.328e-02 │  8.15e+02 │     0.84s │\n",
      "│   11 │ 3.4568e+06 │ 5.1874e+00 │  1.5e+00 │  7.69e-02 │ 4.860e-02 │  7.75e+02 │     0.92s │\n",
      "│   12 │ 3.4576e+06 │ 4.7635e+00 │  1.5e+00 │  1.30e-01 │ 8.171e-02 │  7.12e+02 │     1.00s │\n",
      "│   13 │ 3.4598e+06 │ 4.5767e+00 │  1.5e+00 │  5.78e-02 │ 3.921e-02 │  6.84e+02 │     1.08s │\n",
      "│   14 │ 3.4611e+06 │ 4.4147e+00 │  1.5e+00 │  4.76e-02 │ 3.540e-02 │  6.60e+02 │     1.16s │\n",
      "│   15 │ 3.4624e+06 │ 4.2370e+00 │  1.5e+00 │  4.96e-02 │ 4.024e-02 │  6.33e+02 │     1.27s │\n",
      "│   16 │ 3.4640e+06 │ 4.0747e+00 │  1.5e+00 │  4.60e-02 │ 3.831e-02 │  6.09e+02 │     1.34s │\n",
      "│   17 │ 3.4657e+06 │ 3.7784e+00 │  1.4e+00 │  8.59e-02 │ 7.271e-02 │  5.65e+02 │     1.45s │\n",
      "│   18 │ 3.4692e+06 │ 3.5769e+00 │  1.4e+00 │  6.20e-02 │ 5.333e-02 │  5.35e+02 │     1.53s │\n",
      "│   19 │ 3.4719e+06 │ 3.4430e+00 │  1.4e+00 │  4.32e-02 │ 3.745e-02 │  5.15e+02 │     1.61s │\n",
      "│   20 │ 3.4738e+06 │ 3.1402e+00 │  1.4e+00 │  9.91e-02 │ 8.794e-02 │  4.70e+02 │     1.69s │\n",
      "│   21 │ 3.4787e+06 │ 2.9663e+00 │  1.4e+00 │  5.91e-02 │ 5.538e-02 │  4.44e+02 │     1.77s │\n",
      "│   22 │ 3.4817e+06 │ 2.7650e+00 │  1.4e+00 │  6.94e-02 │ 6.788e-02 │  4.13e+02 │     1.85s │\n",
      "│   23 │ 3.4855e+06 │ 2.3800e+00 │  1.4e+00 │  1.30e-01 │ 1.392e-01 │  3.56e+02 │     1.93s │\n",
      "│   24 │ 3.4934e+06 │ 2.2078e+00 │  1.4e+00 │  6.12e-02 │ 7.236e-02 │  3.30e+02 │     2.01s │\n",
      "│   25 │ 3.4972e+06 │ 1.9116e+00 │  1.3e+00 │  1.10e-01 │ 1.341e-01 │  2.86e+02 │     2.09s │\n",
      "│   26 │ 3.5042e+06 │ 1.7328e+00 │  1.3e+00 │  6.83e-02 │ 9.354e-02 │  2.59e+02 │     2.17s │\n",
      "│   27 │ 3.5087e+06 │ 1.6185e+00 │  1.3e+00 │  4.32e-02 │ 6.597e-02 │  2.42e+02 │     2.25s │\n",
      "│   28 │ 3.5117e+06 │ 1.3881e+00 │  1.3e+00 │  8.47e-02 │ 1.423e-01 │  2.08e+02 │     2.33s │\n",
      "│   29 │ 3.5179e+06 │ 1.1290e+00 │  1.3e+00 │  9.03e-02 │ 1.867e-01 │  1.69e+02 │     2.41s │\n",
      "│   30 │ 3.5254e+06 │ 7.5734e-01 │  1.3e+00 │  1.29e-01 │ 3.292e-01 │  1.13e+02 │     2.49s │\n",
      "│   31 │ 3.5368e+06 │ 4.6656e-01 │  3.4e-01 │  1.02e-01 │ 3.839e-01 │  6.97e+01 │     2.57s │\n",
      "│   32 │ 3.5464e+06 │ 3.6405e-01 │  3.4e-01 │  3.49e-02 │ 2.197e-01 │  5.44e+01 │     2.65s │\n",
      "│   33 │ 3.5499e+06 │ 2.4256e-01 │  3.4e-01 │  4.11e-02 │ 3.337e-01 │  3.62e+01 │     2.73s │\n",
      "│   34 │ 3.5541e+06 │ 8.3383e-02 │  3.4e-01 │  5.26e-02 │ 6.562e-01 │  1.25e+01 │     2.81s │\n",
      "│   35 │ 3.5597e+06 │ 4.4409e-15 │  3.4e-03 │  3.02e-02 │ 1.000e+00 │  9.82e-01 │     2.89s │\n",
      "│   36 │ 3.5628e+06 │ 6.2172e-15 │  3.4e-03 │  5.91e-03 │ 9.836e-01 │  1.55e-01 │     2.97s │\n",
      "│   37 │ 3.5627e+06 │ 6.2172e-15 │  3.4e-05 │  2.18e-03 │ 1.000e+00 │  2.47e-02 │     3.05s │\n",
      "│   38 │ 3.5627e+06 │ 6.2172e-15 │  3.4e-05 │  8.76e-04 │ 9.893e-01 │  6.03e-03 │     3.14s │\n",
      "│   39 │ 3.5627e+06 │ 7.9936e-15 │  3.4e-05 │  2.97e-04 │ 1.000e+00 │  1.21e-03 │     3.21s │\n",
      "│   40 │ 3.5627e+06 │ 7.9936e-15 │  3.4e-07 │  6.74e-05 │ 1.000e+00 │  1.51e-04 │     3.29s │\n",
      "│   41 │ 3.5627e+06 │ 6.4393e-15 │  3.4e-07 │  1.05e-05 │ 9.998e-01 │  3.37e-06 │     3.37s │\n",
      "│   42 │ 3.5627e+06 │ 5.3291e-15 │  3.4e-09 │  2.22e-07 │ 1.000e+00 │  3.44e-07 │     3.45s │\n",
      "│   43 │ 3.5627e+06 │ 9.7700e-15 │  3.4e-09 │  3.63e-08 │ 1.000e+00 │  3.45e-09 │     3.53s │\n"
     ]
    }
   ],
   "source": [
    "problem = GLMProblem(f,A,Q,C,c)\n",
    "x,conv = problem.solve()"
   ]
  },
  {
   "cell_type": "code",
   "execution_count": 5,
   "metadata": {},
   "outputs": [
    {
     "data": {
      "text/plain": [
       "[<matplotlib.lines.Line2D at 0x7f80ac1e27e0>]"
      ]
     },
     "execution_count": 5,
     "metadata": {},
     "output_type": "execute_result"
    },
    {
     "data": {
      "image/png": "[encoded data removed]",
      "text/plain": [
       "<Figure size 640x480 with 1 Axes>"
      ]
     },
     "metadata": {},
     "output_type": "display_data"
    }
   ],
   "source": [
    "plt.plot(np.sort(c - C@x))"
   ]
  },
  {
   "cell_type": "code",
   "execution_count": 6,
   "metadata": {},
   "outputs": [
    {
     "name": "stdout",
     "output_type": "stream",
     "text": [
      "===============================================================================\n",
      "                                     CVXPY                                     \n",
      "                                     v1.6.5                                    \n",
      "===============================================================================\n",
      "(CVXPY) Apr 18 09:17:30 PM: Your problem has 500 variables, 500 constraints, and 0 parameters.\n",
      "(CVXPY) Apr 18 09:17:30 PM: It is compliant with the following grammars: DCP, DQCP\n",
      "(CVXPY) Apr 18 09:17:30 PM: (If you need to solve this problem multiple times, but with different data, consider using parameters.)\n",
      "(CVXPY) Apr 18 09:17:30 PM: CVXPY will first compile your problem; then, it will invoke a numerical solver to obtain a solution.\n",
      "(CVXPY) Apr 18 09:17:30 PM: Your problem is compiled with the CPP canonicalization backend.\n",
      "-------------------------------------------------------------------------------\n",
      "                                  Compilation                                  \n",
      "-------------------------------------------------------------------------------\n",
      "(CVXPY) Apr 18 09:17:30 PM: Compiling problem (target solver=CLARABEL).\n",
      "(CVXPY) Apr 18 09:17:30 PM: Reduction chain: Dcp2Cone -> CvxAttr2Constr -> ConeMatrixStuffing -> CLARABEL\n",
      "(CVXPY) Apr 18 09:17:30 PM: Applying reduction Dcp2Cone\n",
      "(CVXPY) Apr 18 09:17:30 PM: Applying reduction CvxAttr2Constr\n",
      "(CVXPY) Apr 18 09:17:30 PM: Applying reduction ConeMatrixStuffing\n",
      "(CVXPY) Apr 18 09:17:30 PM: Applying reduction CLARABEL\n",
      "(CVXPY) Apr 18 09:17:30 PM: Finished problem compilation (took 5.924e-01 seconds).\n",
      "-------------------------------------------------------------------------------\n",
      "                                Numerical solver                               \n",
      "-------------------------------------------------------------------------------\n",
      "(CVXPY) Apr 18 09:17:30 PM: Invoking solver CLARABEL  to obtain a solution.\n",
      "-------------------------------------------------------------\n",
      "           Clarabel.rs v0.10.0  -  Clever Acronym                \n",
      "\n",
      "                   (c) Paul Goulart                          \n",
      "                University of Oxford, 2022                   \n",
      "-------------------------------------------------------------\n",
      "\n",
      "problem:\n",
      "  variables     = 150500\n",
      "  constraints   = 350500\n",
      "  nnz(P)        = 500\n",
      "  nnz(A)        = 600000\n",
      "  cones (total) = 100001\n",
      "    : Nonnegative = 1,  numel = 50500\n",
      "    : Exponential = 100000,  numel = (3,3,3,3,...,3)\n",
      "\n",
      "settings:\n",
      "  linear algebra: direct / qdldl, precision: 64 bit\n",
      "  max iter = 200, time limit = Inf,  max step = 0.990\n",
      "  tol_feas = 1.0e-8, tol_gap_abs = 1.0e-8, tol_gap_rel = 1.0e-8,\n",
      "  static reg : on, ϵ1 = 1.0e-8, ϵ2 = 4.9e-32\n",
      "  dynamic reg: on, ϵ = 1.0e-13, δ = 2.0e-7\n",
      "  iter refine: on, reltol = 1.0e-13, abstol = 1.0e-12,\n",
      "               max iter = 10, stop ratio = 5.0\n",
      "  equilibrate: on, min_scale = 1.0e-4, max_scale = 1.0e4\n",
      "               max iter = 10\n",
      "\n",
      "iter    pcost        dcost       gap       pres      dres      k/t        μ       step      \n",
      "---------------------------------------------------------------------------------------------\n",
      "  0  +0.0000e+00  -2.5175e+08  2.52e+08  9.01e-01  8.43e-01  1.00e+00  1.00e+00   ------   \n",
      "  1  +6.4828e+06  -1.4290e+08  2.30e+01  3.11e-01  4.85e-01  9.45e-01  4.09e-01  8.62e-01  \n",
      "  2  +1.1532e+07  -3.8850e+07  4.37e+00  7.69e-02  2.65e-01  1.96e-01  1.38e-01  7.62e-01  \n",
      "  3  +1.0770e+07  -3.4869e+06  4.09e+00  2.37e-02  2.56e-01  4.28e-02  5.15e-02  6.84e-01  \n",
      "  4  +6.8527e+06  +3.3654e+06  1.04e+00  8.15e-03  1.73e-01  1.21e-02  1.75e-02  9.19e-01  \n",
      "  5  +4.0504e+06  +3.4447e+06  1.76e-01  1.84e-03  4.74e-02  2.01e-03  3.93e-03  9.80e-01  \n",
      "  6  +3.6699e+06  +3.5429e+06  3.59e-02  3.98e-04  1.12e-02  4.14e-04  8.60e-04  7.92e-01  \n",
      "  7  +3.5860e+06  +3.5589e+06  7.61e-03  8.55e-05  2.44e-03  8.76e-05  1.85e-04  7.92e-01  \n",
      "  8  +3.5677e+06  +3.5619e+06  1.63e-03  1.83e-05  5.24e-04  1.86e-05  3.97e-05  7.92e-01  \n",
      "  9  +3.5638e+06  +3.5625e+06  3.49e-04  3.93e-06  1.12e-04  3.95e-06  8.51e-06  7.92e-01  \n",
      " 10  +3.5629e+06  +3.5626e+06  7.48e-05  8.42e-07  2.41e-05  8.40e-07  1.82e-06  7.92e-01  \n",
      " 11  +3.5627e+06  +3.5627e+06  1.60e-05  1.81e-07  5.16e-06  1.79e-07  3.91e-07  7.92e-01  \n",
      " 12  +3.5627e+06  +3.5627e+06  3.44e-06  3.87e-08  1.11e-06  3.80e-08  8.38e-08  7.92e-01  \n",
      " 13  +3.5627e+06  +3.5627e+06  2.89e-06  3.26e-08  9.30e-07  3.19e-08  7.06e-08  1.66e-01  \n",
      " 14  +3.5627e+06  +3.5627e+06  2.62e-06  2.95e-08  8.43e-07  2.88e-08  6.39e-08  1.06e-01  \n",
      " 15  +3.5627e+06  +3.5627e+06  2.37e-06  2.67e-08  7.64e-07  2.60e-08  5.79e-08  1.06e-01  \n",
      " 16  +3.5627e+06  +3.5627e+06  2.37e-06  2.67e-08  7.64e-07  2.60e-08  5.79e-08  0.00e+00  \n",
      " 17  +3.5627e+06  +3.5627e+06  1.62e-06  1.83e-08  5.23e-07  2.09e-08  2.58e-08  5.07e-01  \n",
      " 18  +3.5627e+06  +3.5627e+06  1.10e-06  1.24e-08  3.55e-07  1.36e-08  1.75e-08  4.06e-01  \n",
      " 19  +3.5627e+06  +3.5627e+06  9.98e-07  1.12e-08  3.21e-07  1.13e-08  1.59e-08  3.24e-01  \n",
      " 20  +3.5627e+06  +3.5627e+06  9.44e-07  1.06e-08  3.04e-07  7.82e-09  1.51e-08  9.80e-01  \n",
      " 21  +3.5627e+06  +3.5627e+06  4.75e-07  5.35e-09  1.53e-07  3.90e-09  7.60e-09  9.80e-01  \n",
      " 22  +3.5627e+06  +3.5627e+06  2.66e-07  2.99e-09  8.55e-08  2.18e-09  4.25e-09  6.34e-01  \n",
      " 23  +3.5627e+06  +3.5627e+06  1.91e-07  2.15e-09  6.13e-08  1.56e-09  3.04e-09  9.80e-01  \n",
      " 24  +3.5627e+06  +3.5627e+06  4.08e-08  4.60e-10  1.31e-08  3.35e-10  6.53e-10  7.92e-01  \n",
      " 25  +3.5627e+06  +3.5627e+06  3.07e-08  3.46e-10  9.89e-09  2.52e-10  4.91e-10  2.60e-01  \n",
      " 26  +3.5627e+06  +3.5627e+06  1.22e-08  1.37e-10  3.92e-09  9.99e-11  1.94e-10  6.34e-01  \n",
      " 27  +3.5627e+06  +3.5627e+06  7.27e-09  8.19e-11  2.34e-09  5.97e-11  1.16e-10  5.07e-01  \n",
      "---------------------------------------------------------------------------------------------\n",
      "Terminated with status = Solved\n",
      "solve time = 12.2245863s\n",
      "-------------------------------------------------------------------------------\n",
      "                                    Summary                                    \n",
      "-------------------------------------------------------------------------------\n",
      "(CVXPY) Apr 18 09:17:43 PM: Problem status: optimal\n",
      "(CVXPY) Apr 18 09:17:43 PM: Optimal value: 3.563e+06\n",
      "(CVXPY) Apr 18 09:17:43 PM: Compilation took 5.924e-01 seconds\n",
      "(CVXPY) Apr 18 09:17:43 PM: Solver (including time spent in interface) took 1.240e+01 seconds\n"
     ]
    },
    {
     "data": {
      "text/plain": [
       "3562671.3550049323"
      ]
     },
     "execution_count": 6,
     "metadata": {},
     "output_type": "execute_result"
    }
   ],
   "source": [
    "import cvxpy as cp\n",
    "n = A.shape[1]\n",
    "\n",
    "beta = cp.Variable(n)\n",
    "lambd = cp.Parameter(nonneg=True)\n",
    "neg_log_likelihood = cp.sum(\n",
    "    cp.multiply(w,cp.logistic(A @ beta)- cp.multiply(y, A @ beta))\n",
    ")\n",
    "regularization = beta.T@Q@beta/2\n",
    "\n",
    "problem  = cp.Problem(cp.Minimize(\n",
    "    (neg_log_likelihood + regularization)),[C @ beta <= c]\n",
    ")\n",
    "problem.solve(verbose = True)"
   ]
  },
  {
   "cell_type": "code",
   "execution_count": 7,
   "metadata": {},
   "outputs": [
    {
     "name": "stdout",
     "output_type": "stream",
     "text": [
      "3562671.355005345\n",
      "3562671.3550049323\n"
     ]
    }
   ],
   "source": [
    "print(f(A@x) + (1/2) *x.T@Q@x)\n",
    "\n",
    "cvx_x = beta.value\n",
    "print(f(A@cvx_x) + (1/2) *cvx_x.T@Q@cvx_x)"
   ]
  }
 ],
 "metadata": {
  "kernelspec": {
   "display_name": "spx-opt",
   "language": "python",
   "name": "python3"
  },
  "language_info": {
   "codemirror_mode": {
    "name": "ipython",
    "version": 3
   },
   "file_extension": ".py",
   "mimetype": "text/x-python",
   "name": "python",
   "nbconvert_exporter": "python",
   "pygments_lexer": "ipython3",
   "version": "3.12.2"
  }
 },
 "nbformat": 4,
 "nbformat_minor": 2
}
