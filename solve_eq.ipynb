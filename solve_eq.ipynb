{
 "cells": [
  {
   "cell_type": "code",
   "execution_count": 1,
   "metadata": {},
   "outputs": [],
   "source": [
    "import numpy as np\n",
    "from scipy.special import expit\n",
    "from numpy import logaddexp\n",
    "from glopt import GLMProblem,SolverSettings\n",
    "from problems import build_random_logistic,build_logistic_lasso\n",
    "import matplotlib.pyplot as plt\n",
    "from scipy.sparse import csc_array,diags_array,csr_array,block_array\n",
    "from numpy.random import default_rng\n",
    "import qdldl\n",
    "from util import maxnorm\n",
    "from util import get_step_size"
   ]
  },
  {
   "cell_type": "code",
   "execution_count": 2,
   "metadata": {},
   "outputs": [
    {
     "name": "stdout",
     "output_type": "stream",
     "text": [
      "──────────────────────────────────────────────────────────────────────────────────────────────────────────\n",
      "Variables:: 100     │ Rows in A: 50      │ Equality Constraints: 20      │ Inequality Constraints: 10     \n",
      "──────────────────────────────────────────────────────────────────────────────────────────────────────────\n",
      "─────────────────────────────────────────────────────────────────────────────────────────────────────────────────\n",
      "│ iter │   primal   │ dual_res  │ cons_viol │ comp_res  │  KKT_res  │    mu    │   Δx    │  step   │ refine │  time  │\n",
      "─────────────────────────────────────────────────────────────────────────────────────────────────────────────────\n",
      "│    1 │ 3.4657e+03 │  2.74e+00 │  3.50e-15 │  3.95e+00 │  3.95e+00 │  1.0e-02 │ 2.0e+00 │ 1.0e+00 │ 1 │   0.02s │\n",
      "│    2 │ 3.3322e+03 │  1.07e-01 │  3.82e-15 │  3.96e-02 │  1.07e-01 │  1.0e-04 │ 5.1e-01 │ 9.9e-01 │ 1 │   0.02s │\n",
      "│    3 │ 3.3282e+03 │  1.33e-03 │  3.61e-15 │  3.97e-04 │  1.33e-03 │  1.0e-06 │ 5.0e-02 │ 9.9e-01 │ 1 │   0.03s │\n",
      "│    4 │ 3.3282e+03 │  1.22e-05 │  3.11e-15 │  4.08e-06 │  1.22e-05 │  1.0e-08 │ 3.1e-02 │ 9.9e-01 │ 4 │   0.03s │\n",
      "│    5 │ 3.3282e+03 │  1.48e-08 │  1.55e-15 │  3.96e-07 │  3.96e-07 │  2.5e-10 │ 1.7e-01 │ 1.0e+00 │ 5 │   0.04s │\n",
      "│    6 │ 3.3282e+03 │  3.10e-08 │  6.66e-16 │  1.04e-07 │  1.04e-07 │  5.4e-09 │ 4.6e-01 │ 9.5e-01 │ 5 │   0.05s │\n",
      "│    7 │ 3.3282e+03 │  1.89e-08 │  1.07e-15 │  1.77e-08 │  1.89e-08 │  5.4e-11 │ 2.6e-01 │ 1.0e+00 │ 5 │   0.05s │\n",
      "│    8 │ 3.3282e+03 │  1.03e-08 │  2.32e-15 │  2.57e-09 │  1.03e-08 │  1.8e-12 │ 1.1e-01 │ 9.5e-01 │ 5 │   0.06s │\n",
      "│    9 │ 3.3282e+03 │  7.15e-09 │  1.38e-15 │  5.85e-10 │  7.15e-09 │  1.0e-12 │ 3.7e-02 │ 7.4e-01 │ 5 │   0.06s │\n",
      "Optimal solution found in 9 iterations in 0.06s. Final maxnorm KKT residual: 7.153752144396912e-09.\n"
     ]
    },
    {
     "name": "stderr",
     "output_type": "stream",
     "text": [
      "/mnt/team/msca/priv/jira/MSCA-375-spxmod-optimizer/glopt/util.py:86: UserWarning: Poor linear solve: didn't reach target tolerance of 5.000e-10 in 5 steps\n",
      "  warn(f\"Poor linear solve: didn't reach target tolerance of {target_tol:.3e} in {num_refine} steps\")\n"
     ]
    }
   ],
   "source": [
    "m = 50\n",
    "n = 100\n",
    "k = 10\n",
    "\n",
    "f,A,Q,C,c,b = build_random_logistic(m = m,n = n,k = k,density=0.1, seed = 2)\n",
    "\n",
    "rng = default_rng(10)\n",
    "E = csr_array(np.vstack([rng.normal(size = (1,n))]*20))\n",
    "e = np.zeros(E.shape[0])\n",
    "\n",
    "\n",
    "settings = SolverSettings(tau_reg = 1e-6)\n",
    "problem = GLMProblem(f,A,Q,C,c,b,E = E ,e = e,settings = settings)\n",
    "x,results = problem.solve(verbose = True,mu0 = 1.) \n"
   ]
  },
  {
   "cell_type": "code",
   "execution_count": 3,
   "metadata": {},
   "outputs": [],
   "source": [
    "self = problem\n",
    "tau_reg = 1e-8\n",
    "x,y,s,nu = problem.initialize()\n",
    "mu = 1e-14\n",
    "\n",
    "def KKT_res(x,g,y,s,nu):\n",
    "    rx = g + self.C.T@y + self.E.T@nu - self.b\n",
    "    rp = self.C@x + s - self.c\n",
    "    rc = y * s\n",
    "    req = self.E@x - self.e\n",
    "    return rx,rp,rc,req"
   ]
  },
  {
   "cell_type": "code",
   "execution_count": 4,
   "metadata": {},
   "outputs": [
    {
     "name": "stdout",
     "output_type": "stream",
     "text": [
      "rx: 35.79882198263401,rp: 2.6283975507171067, rc: 3.702919690066895, req: 0.0\n"
     ]
    },
    {
     "ename": "AttributeError",
     "evalue": "'GLMProblem' object has no attribute 'regshift'",
     "output_type": "error",
     "traceback": [
      "\u001b[0;31m---------------------------------------------------------------------------\u001b[0m",
      "\u001b[0;31mAttributeError\u001b[0m                            Traceback (most recent call last)",
      "Cell \u001b[0;32mIn[4], line 21\u001b[0m\n\u001b[1;32m     12\u001b[0m rhs \u001b[38;5;241m=\u001b[39m np\u001b[38;5;241m.\u001b[39mhstack([\u001b[38;5;241m-\u001b[39mrx,\u001b[38;5;241m-\u001b[39mw\u001b[38;5;241m*\u001b[39mrp \u001b[38;5;241m+\u001b[39m (w\u001b[38;5;241m/\u001b[39my) \u001b[38;5;241m*\u001b[39m rc,\u001b[38;5;241m-\u001b[39mreq])\n\u001b[1;32m     14\u001b[0m G \u001b[38;5;241m=\u001b[39m block_array(\n\u001b[1;32m     15\u001b[0m     [\n\u001b[1;32m     16\u001b[0m         [H,     wC\u001b[38;5;241m.\u001b[39mT,       \u001b[38;5;28mself\u001b[39m\u001b[38;5;241m.\u001b[39mE\u001b[38;5;241m.\u001b[39mT],\n\u001b[0;32m   (...)\u001b[0m\n\u001b[1;32m     19\u001b[0m     ],\u001b[38;5;28mformat\u001b[39m \u001b[38;5;241m=\u001b[39m \u001b[38;5;124m'\u001b[39m\u001b[38;5;124mcsc\u001b[39m\u001b[38;5;124m'\u001b[39m\n\u001b[1;32m     20\u001b[0m )\n\u001b[0;32m---> 21\u001b[0m Gshift \u001b[38;5;241m=\u001b[39m G \u001b[38;5;241m+\u001b[39m tau_reg \u001b[38;5;241m*\u001b[39m \u001b[38;5;28mself\u001b[39m\u001b[38;5;241m.\u001b[39mregshift\n\u001b[1;32m     23\u001b[0m solver \u001b[38;5;241m=\u001b[39m qdldl\u001b[38;5;241m.\u001b[39mSolver(Gshift)\n\u001b[1;32m     25\u001b[0m sol \u001b[38;5;241m=\u001b[39m solver\u001b[38;5;241m.\u001b[39msolve(rhs)\n",
      "\u001b[0;31mAttributeError\u001b[0m: 'GLMProblem' object has no attribute 'regshift'"
     ]
    }
   ],
   "source": [
    "for i in range(16):\n",
    "    z = self.A@x\n",
    "    H = self.get_H(z)\n",
    "\n",
    "    w = np.sqrt(y/s)\n",
    "    wC = self.C.multiply(w[:,None])\n",
    "    gradf = self.A.T@self.f.d1f(z) + self.Q@x\n",
    "\n",
    "    rx,rp,rc,req = self.KKT_res(x,gradf,y,s,nu)\n",
    "    rc = rc - mu\n",
    "    print(f\"rx: {maxnorm(rx)},rp: {maxnorm(rp)}, rc: {maxnorm(rc)}, req: {maxnorm(req)}\")\n",
    "    rhs = np.hstack([-rx,-w*rp + (w/y) * rc,-req])\n",
    "\n",
    "    G = block_array(\n",
    "        [\n",
    "            [H,     wC.T,       self.E.T],\n",
    "            [wC,    -1*self.Ik, None],\n",
    "            [self.E,None,       None]\n",
    "        ],format = 'csc'\n",
    "    )\n",
    "    Gshift = G + tau_reg * self.regshift\n",
    "\n",
    "    solver = qdldl.Solver(Gshift)\n",
    "\n",
    "    sol = solver.solve(rhs)\n",
    "\n",
    "    # ref = rhs - G@sol\n",
    "    # sol = sol + solver.solve(ref)\n",
    "    # ref = rhs - G@sol\n",
    "    # sol = sol + solver.solve(ref)\n",
    "\n",
    "    dx = sol[:self.n]\n",
    "    dy = w*sol[self.n:self.n+self.k]\n",
    "    ds = -rp - self.C@dx\n",
    "    dnu = sol[self.n+self.k:]\n",
    "    print(dnu[0])\n",
    "\n",
    "\n",
    "    t = get_step_size(s,ds,y,dy,0.99)\n",
    "\n",
    "    x = x+ t*dx\n",
    "    y = y+ t*dy\n",
    "    s = s+ t*ds\n",
    "    nu = nu+t*dnu\n",
    "\n",
    "    z = self.A@x\n",
    "    gradf = self.A.T@self.f.d1f(z) + self.Q@x"
   ]
  },
  {
   "cell_type": "code",
   "execution_count": null,
   "metadata": {},
   "outputs": [],
   "source": []
  },
  {
   "cell_type": "code",
   "execution_count": 119,
   "metadata": {},
   "outputs": [
    {
     "data": {
      "text/plain": [
       "array([9.82943284e-18, 1.05794111e-24])"
      ]
     },
     "execution_count": 119,
     "metadata": {},
     "output_type": "execute_result"
    }
   ],
   "source": [
    "rc"
   ]
  },
  {
   "cell_type": "code",
   "execution_count": 82,
   "metadata": {},
   "outputs": [
    {
     "data": {
      "text/plain": [
       "array([ 1.71162265e-01, -8.06399392e-12])"
      ]
     },
     "execution_count": 82,
     "metadata": {},
     "output_type": "execute_result"
    }
   ],
   "source": [
    "rp"
   ]
  }
 ],
 "metadata": {
  "kernelspec": {
   "display_name": "spx-opt",
   "language": "python",
   "name": "python3"
  },
  "language_info": {
   "codemirror_mode": {
    "name": "ipython",
    "version": 3
   },
   "file_extension": ".py",
   "mimetype": "text/x-python",
   "name": "python",
   "nbconvert_exporter": "python",
   "pygments_lexer": "ipython3",
   "version": "3.12.2"
  }
 },
 "nbformat": 4,
 "nbformat_minor": 2
}
